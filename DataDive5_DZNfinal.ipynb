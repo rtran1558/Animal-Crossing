{
 "cells": [
  {
   "cell_type": "markdown",
   "metadata": {},
   "source": [
    "# Animal Crossing Clothes Colors and Bell Values"
   ]
  },
  {
   "cell_type": "markdown",
   "metadata": {},
   "source": [
    "## Ryan Tran, Adam Tschida, Dara Zwemer, Colby Luttrell"
   ]
  },
  {
   "cell_type": "markdown",
   "metadata": {},
   "source": [
    "### Importing Files"
   ]
  },
  {
   "cell_type": "code",
   "execution_count": 1,
   "metadata": {},
   "outputs": [],
   "source": [
    "# Import appropriate libraries\n",
    "import pandas as pd\n",
    "import numpy as np\n",
    "import seaborn as sns\n",
    "import matplotlib.pyplot as plt\n",
    "from matplotlib import style\n",
    "\n",
    "from sklearn.preprocessing import LabelEncoder # For Modeling\n",
    "lc = LabelEncoder()\n",
    "import statsmodels.api as sm"
   ]
  },
  {
   "cell_type": "code",
   "execution_count": 2,
   "metadata": {},
   "outputs": [],
   "source": [
    "# THE DATASET IS FROM KAGGLE: https://www.kaggle.com/jessicali9530/animal-crossing-new-horizons-nookplaza-dataset\n",
    "\n",
    "# Import tops (shirts) dataset\n",
    "top = pd.read_csv('tops.csv')\n",
    "\n",
    "# Import bottoms (pants) dataset\n",
    "bottom = pd.read_csv('bottoms.csv')\n",
    "\n",
    "# Import headwear (hats and wigs) dataset\n",
    "hat = pd.read_csv('headwear.csv')\n",
    "\n",
    "# Import shoes dataset\n",
    "shoe = pd.read_csv('shoes.csv')"
   ]
  },
  {
   "cell_type": "code",
   "execution_count": 3,
   "metadata": {
    "scrolled": true
   },
   "outputs": [
    {
     "name": "stdout",
     "output_type": "stream",
     "text": [
      "<class 'pandas.core.frame.DataFrame'>\n",
      "RangeIndex: 1121 entries, 0 to 1120\n",
      "Data columns (total 21 columns):\n",
      " #   Column                 Non-Null Count  Dtype  \n",
      "---  ------                 --------------  -----  \n",
      " 0   Name                   1121 non-null   object \n",
      " 1   Variation              1059 non-null   object \n",
      " 2   DIY                    1121 non-null   object \n",
      " 3   Buy                    1121 non-null   object \n",
      " 4   Sell                   1121 non-null   int64  \n",
      " 5   Color 1                1121 non-null   object \n",
      " 6   Color 2                1121 non-null   object \n",
      " 7   Size                   1121 non-null   object \n",
      " 8   Miles Price            5 non-null      float64\n",
      " 9   Source                 1121 non-null   object \n",
      " 10  Source Notes           1043 non-null   object \n",
      " 11  Seasonal Availability  1121 non-null   object \n",
      " 12  Mannequin Piece        1121 non-null   object \n",
      " 13  Version                1121 non-null   object \n",
      " 14  Style                  1121 non-null   object \n",
      " 15  Label Themes           1121 non-null   object \n",
      " 16  Villager Equippable    1121 non-null   object \n",
      " 17  Catalog                1121 non-null   object \n",
      " 18  Filename               1121 non-null   object \n",
      " 19  Internal ID            1121 non-null   int64  \n",
      " 20  Unique Entry ID        1121 non-null   object \n",
      "dtypes: float64(1), int64(2), object(18)\n",
      "memory usage: 184.0+ KB\n"
     ]
    }
   ],
   "source": [
    "# take a quick look at the tops dataset\n",
    "top.info()"
   ]
  },
  {
   "cell_type": "code",
   "execution_count": 4,
   "metadata": {
    "scrolled": true
   },
   "outputs": [
    {
     "name": "stdout",
     "output_type": "stream",
     "text": [
      "<class 'pandas.core.frame.DataFrame'>\n",
      "RangeIndex: 726 entries, 0 to 725\n",
      "Data columns (total 20 columns):\n",
      " #   Column                 Non-Null Count  Dtype \n",
      "---  ------                 --------------  ----- \n",
      " 0   Name                   726 non-null    object\n",
      " 1   Variation              726 non-null    object\n",
      " 2   DIY                    726 non-null    object\n",
      " 3   Buy                    726 non-null    object\n",
      " 4   Sell                   726 non-null    int64 \n",
      " 5   Color 1                726 non-null    object\n",
      " 6   Color 2                726 non-null    object\n",
      " 7   Size                   726 non-null    object\n",
      " 8   Source                 726 non-null    object\n",
      " 9   Source Notes           709 non-null    object\n",
      " 10  Seasonal Availability  726 non-null    object\n",
      " 11  Mannequin Piece        726 non-null    object\n",
      " 12  Version                726 non-null    object\n",
      " 13  Style                  726 non-null    object\n",
      " 14  Label Themes           726 non-null    object\n",
      " 15  Villager Equippable    726 non-null    object\n",
      " 16  Catalog                726 non-null    object\n",
      " 17  Filename               726 non-null    object\n",
      " 18  Internal ID            726 non-null    int64 \n",
      " 19  Unique Entry ID        726 non-null    object\n",
      "dtypes: int64(2), object(18)\n",
      "memory usage: 113.6+ KB\n"
     ]
    }
   ],
   "source": [
    "# take a quick look at the bottoms dataset\n",
    "bottom.info()"
   ]
  },
  {
   "cell_type": "code",
   "execution_count": 5,
   "metadata": {
    "scrolled": true
   },
   "outputs": [
    {
     "name": "stdout",
     "output_type": "stream",
     "text": [
      "<class 'pandas.core.frame.DataFrame'>\n",
      "RangeIndex: 698 entries, 0 to 697\n",
      "Data columns (total 22 columns):\n",
      " #   Column                 Non-Null Count  Dtype  \n",
      "---  ------                 --------------  -----  \n",
      " 0   Name                   698 non-null    object \n",
      " 1   Variation              693 non-null    object \n",
      " 2   DIY                    698 non-null    object \n",
      " 3   Buy                    698 non-null    object \n",
      " 4   Sell                   698 non-null    int64  \n",
      " 5   Color 1                698 non-null    object \n",
      " 6   Color 2                698 non-null    object \n",
      " 7   Size                   698 non-null    object \n",
      " 8   Miles Price            2 non-null      float64\n",
      " 9   Source                 698 non-null    object \n",
      " 10  Source Notes           585 non-null    object \n",
      " 11  Seasonal Availability  698 non-null    object \n",
      " 12  Mannequin Piece        698 non-null    object \n",
      " 13  Version                698 non-null    object \n",
      " 14  Style                  698 non-null    object \n",
      " 15  Label Themes           697 non-null    object \n",
      " 16  Type                   698 non-null    object \n",
      " 17  Villager Equippable    698 non-null    object \n",
      " 18  Catalog                698 non-null    object \n",
      " 19  Filename               698 non-null    object \n",
      " 20  Internal ID            698 non-null    int64  \n",
      " 21  Unique Entry ID        698 non-null    object \n",
      "dtypes: float64(1), int64(2), object(19)\n",
      "memory usage: 120.1+ KB\n"
     ]
    }
   ],
   "source": [
    "# take a quick look at the headwear dataset\n",
    "hat.info()"
   ]
  },
  {
   "cell_type": "code",
   "execution_count": 6,
   "metadata": {
    "scrolled": true
   },
   "outputs": [
    {
     "name": "stdout",
     "output_type": "stream",
     "text": [
      "<class 'pandas.core.frame.DataFrame'>\n",
      "RangeIndex: 454 entries, 0 to 453\n",
      "Data columns (total 21 columns):\n",
      " #   Column                 Non-Null Count  Dtype  \n",
      "---  ------                 --------------  -----  \n",
      " 0   Name                   454 non-null    object \n",
      " 1   Variation              452 non-null    object \n",
      " 2   DIY                    454 non-null    object \n",
      " 3   Buy                    454 non-null    object \n",
      " 4   Sell                   454 non-null    int64  \n",
      " 5   Color 1                454 non-null    object \n",
      " 6   Color 2                454 non-null    object \n",
      " 7   Size                   454 non-null    object \n",
      " 8   Miles Price            1 non-null      float64\n",
      " 9   Source                 454 non-null    object \n",
      " 10  Source Notes           312 non-null    object \n",
      " 11  Seasonal Availability  454 non-null    object \n",
      " 12  Mannequin Piece        454 non-null    object \n",
      " 13  Version                454 non-null    object \n",
      " 14  Style                  454 non-null    object \n",
      " 15  Label Themes           454 non-null    object \n",
      " 16  Villager Equippable    454 non-null    object \n",
      " 17  Catalog                454 non-null    object \n",
      " 18  Filename               454 non-null    object \n",
      " 19  Internal ID            454 non-null    int64  \n",
      " 20  Unique Entry ID        454 non-null    object \n",
      "dtypes: float64(1), int64(2), object(18)\n",
      "memory usage: 74.6+ KB\n"
     ]
    }
   ],
   "source": [
    "# take a quick look at the shoes dataset\n",
    "shoe.info()"
   ]
  },
  {
   "cell_type": "markdown",
   "metadata": {},
   "source": [
    "### Feature Engineering: Add Variable to Indicate Type of Clothing"
   ]
  },
  {
   "cell_type": "code",
   "execution_count": 8,
   "metadata": {},
   "outputs": [
    {
     "data": {
      "text/plain": [
       "Hat              396\n",
       "Head Gear        145\n",
       "Head Ornament     97\n",
       "Full Mask         49\n",
       "Partial Mask      11\n",
       "Name: Item Category, dtype: int64"
      ]
     },
     "execution_count": 8,
     "metadata": {},
     "output_type": "execute_result"
    }
   ],
   "source": [
    "# Use a for loop to differentiate the kinds of hats/head items in the dataset\n",
    "Category = []\n",
    "ClothDict = {'HeadCap': 'Hat', 'HeadFace': 'Partial Mask', 'HeadFullFace': 'Full Mask',\n",
    "            'Headgear': 'Head Gear', 'HeadHair': 'Head Ornament'}\n",
    "\n",
    "for row in hat['Type']:\n",
    "    found = 0\n",
    "    for x in ClothDict:\n",
    "        if x in row:\n",
    "            Category.append(ClothDict[x])\n",
    "            found = 1\n",
    "            break # End loop early if found\n",
    "    if found == 0: Category.append('Other') # Catch all in case type of clothing missed in dict\n",
    "\n",
    "# Add list of clothing categories to main dataframe\n",
    "hat['Item Category'] = Category\n",
    "\n",
    "# Confirm nothing in other and category counts seem plausible\n",
    "hat['Item Category'].value_counts()\n"
   ]
  },
  {
   "cell_type": "code",
   "execution_count": 9,
   "metadata": {},
   "outputs": [
    {
     "data": {
      "text/plain": [
       "Shoe Low Cut      176\n",
       "Other             116\n",
       "Shoe High Cut      90\n",
       "Shoe Knee High     71\n",
       "Glass Slipper       1\n",
       "Name: Item Category, dtype: int64"
      ]
     },
     "execution_count": 9,
     "metadata": {},
     "output_type": "execute_result"
    }
   ],
   "source": [
    "# Use a for loop to differentiate the types of shoes present in the data\n",
    "Category = []\n",
    "ShoeDict = {'AccessoryGlass': 'Glass Slipper', 'ShoesHigh': 'Shoe High Cut', 'ShoesKnee': 'Shoe Knee High',\n",
    "           'ShoesLow': 'Shoe Low Cut', 'ShoesSandle': 'Shoe Sandle'}\n",
    "\n",
    "for row in shoe['Filename']:\n",
    "    found = 0\n",
    "    for x in ShoeDict:\n",
    "        if x in row:\n",
    "            Category.append(ShoeDict[x])\n",
    "            found = 1\n",
    "            break # End loop early if found\n",
    "    if found == 0: Category.append('Other') # Catch all in case type of clothing missed in dict\n",
    "\n",
    "# Add list of clothing categories to main dataframe\n",
    "shoe['Item Category'] = Category\n",
    "\n",
    "# Confirm nothing in other and category counts seem plausible\n",
    "shoe['Item Category'].value_counts()"
   ]
  },
  {
   "cell_type": "code",
   "execution_count": 10,
   "metadata": {},
   "outputs": [
    {
     "data": {
      "text/plain": [
       "Bottom Pants Normal    173\n",
       "Bottom Pants Wide      126\n",
       "Bottom Skirt Long      110\n",
       "Bottom Skirt Box        96\n",
       "Bottom Pants Half       87\n",
       "Bottom Skirt Aline      74\n",
       "Bottom Pants Hot        60\n",
       "Name: Item Category, dtype: int64"
      ]
     },
     "execution_count": 10,
     "metadata": {},
     "output_type": "execute_result"
    }
   ],
   "source": [
    "# Use a for loop to differentiate the types of pants present in the data\n",
    "Category = []\n",
    "BotDict = {'BottomsTexPantsHalf': 'Bottom Pants Half', 'BottomsTexPantsHot': 'Bottom Pants Hot',\n",
    "          'BottomsTexPantsNormal': 'Bottom Pants Normal', 'BottomsTexPantsWide': 'Bottom Pants Wide',\n",
    "          'BottomsTexSkirtAline': 'Bottom Skirt Aline', 'BottomsTexSkirtBox': 'Bottom Skirt Box',\n",
    "          'BottomsTexSkirtLong': 'Bottom Skirt Long'}\n",
    "\n",
    "for row in bottom['Filename']:\n",
    "    found = 0\n",
    "    for x in BotDict:\n",
    "        if x in row:\n",
    "            Category.append(BotDict[x])\n",
    "            found = 1\n",
    "            break # End loop early if found\n",
    "    if found == 0: Category.append('Other') # Catch all in case type of clothing missed in dict\n",
    "\n",
    "# Add list of clothing categories to main dataframe\n",
    "bottom['Item Category'] = Category\n",
    "\n",
    "# Confirm nothing in other and category counts seem plausible\n",
    "bottom['Item Category'].value_counts()"
   ]
  },
  {
   "cell_type": "code",
   "execution_count": 11,
   "metadata": {
    "scrolled": false
   },
   "outputs": [
    {
     "data": {
      "text/plain": [
       "Top Tshirt    335\n",
       "Top Yshirt    331\n",
       "Top Coat      253\n",
       "Top Outer     190\n",
       "Top Puff       12\n",
       "Name: Item Category, dtype: int64"
      ]
     },
     "execution_count": 11,
     "metadata": {},
     "output_type": "execute_result"
    }
   ],
   "source": [
    "# Use a for loop to differentiate the types of tops/shirts present in the data\n",
    "Category = []\n",
    "TopDict = {'TopsTexTopCoat': 'Top Coat', 'TopsTexTopOuter': 'Top Outer',\n",
    "          'TopsTexTopPuff': 'Top Puff', 'TopsTexTopTshirts': 'Top Tshirt',\n",
    "          'TopsTexTopYshirts': 'Top Yshirt'} # Note: Yshirts indicate shirts with a layered jacket/vest\n",
    "\n",
    "for row in top['Filename']:\n",
    "    found = 0\n",
    "    for x in TopDict:\n",
    "        if x in row:\n",
    "            Category.append(TopDict[x])\n",
    "            found = 1\n",
    "            break # End loop early if found\n",
    "    if found == 0: Category.append('Other') # Catch all in case type of clothing missed in dict\n",
    "\n",
    "# Add list of clothing categories to main dataframe\n",
    "top['Item Category'] = Category\n",
    "\n",
    "# Confirm nothing in other and category counts seem plausible\n",
    "top['Item Category'].value_counts()"
   ]
  },
  {
   "cell_type": "markdown",
   "metadata": {},
   "source": [
    "### Merging the Dataset"
   ]
  },
  {
   "cell_type": "code",
   "execution_count": 12,
   "metadata": {},
   "outputs": [
    {
     "data": {
      "text/plain": [
       "Hat              396\n",
       "Head Gear        145\n",
       "Head Ornament     97\n",
       "Full Mask         49\n",
       "Partial Mask      11\n",
       "Name: Item Category, dtype: int64"
      ]
     },
     "execution_count": 12,
     "metadata": {},
     "output_type": "execute_result"
    }
   ],
   "source": [
    "# Use a for loop to differentiate the kinds of hats/head items in the dataset\n",
    "Category = []\n",
    "ClothDict = {'HeadCap': 'Hat', 'HeadFace': 'Partial Mask', 'HeadFullFace': 'Full Mask',\n",
    "            'Headgear': 'Head Gear', 'HeadHair': 'Head Ornament'}\n",
    "\n",
    "for row in hat['Type']:\n",
    "    found = 0\n",
    "    for x in ClothDict:\n",
    "        if x in row:\n",
    "            Category.append(ClothDict[x])\n",
    "            found = 1\n",
    "            break # End loop early if found\n",
    "    if found == 0: Category.append('Other') # Catch all in case type of clothing missed in dict\n",
    "\n",
    "# Add list of clothing categories to main dataframe\n",
    "hat['Item Category'] = Category\n",
    "\n",
    "# Confirm nothing in other and category counts seem plausible\n",
    "hat['Item Category'].value_counts()\n"
   ]
  },
  {
   "cell_type": "code",
   "execution_count": 13,
   "metadata": {},
   "outputs": [
    {
     "data": {
      "text/plain": [
       "Shoe Low Cut      176\n",
       "Other             116\n",
       "Shoe High Cut      90\n",
       "Shoe Knee High     71\n",
       "Glass Slipper       1\n",
       "Name: Item Category, dtype: int64"
      ]
     },
     "execution_count": 13,
     "metadata": {},
     "output_type": "execute_result"
    }
   ],
   "source": [
    "# Use a for loop to differentiate the types of shoes present in the data\n",
    "Category = []\n",
    "ShoeDict = {'AccessoryGlass': 'Glass Slipper', 'ShoesHigh': 'Shoe High Cut', 'ShoesKnee': 'Shoe Knee High',\n",
    "           'ShoesLow': 'Shoe Low Cut', 'ShoesSandle': 'Shoe Sandle'}\n",
    "\n",
    "for row in shoe['Filename']:\n",
    "    found = 0\n",
    "    for x in ShoeDict:\n",
    "        if x in row:\n",
    "            Category.append(ShoeDict[x])\n",
    "            found = 1\n",
    "            break # End loop early if found\n",
    "    if found == 0: Category.append('Other') # Catch all in case type of clothing missed in dict\n",
    "\n",
    "# Add list of clothing categories to main dataframe\n",
    "shoe['Item Category'] = Category\n",
    "\n",
    "# Confirm nothing in other and category counts seem plausible\n",
    "shoe['Item Category'].value_counts()"
   ]
  },
  {
   "cell_type": "code",
   "execution_count": 14,
   "metadata": {},
   "outputs": [
    {
     "data": {
      "text/plain": [
       "Bottom Pants Normal    173\n",
       "Bottom Pants Wide      126\n",
       "Bottom Skirt Long      110\n",
       "Bottom Skirt Box        96\n",
       "Bottom Pants Half       87\n",
       "Bottom Skirt Aline      74\n",
       "Bottom Pants Hot        60\n",
       "Name: Item Category, dtype: int64"
      ]
     },
     "execution_count": 14,
     "metadata": {},
     "output_type": "execute_result"
    }
   ],
   "source": [
    "# Use a for loop to differentiate the types of pants present in the data\n",
    "Category = []\n",
    "BotDict = {'BottomsTexPantsHalf': 'Bottom Pants Half', 'BottomsTexPantsHot': 'Bottom Pants Hot',\n",
    "          'BottomsTexPantsNormal': 'Bottom Pants Normal', 'BottomsTexPantsWide': 'Bottom Pants Wide',\n",
    "          'BottomsTexSkirtAline': 'Bottom Skirt Aline', 'BottomsTexSkirtBox': 'Bottom Skirt Box',\n",
    "          'BottomsTexSkirtLong': 'Bottom Skirt Long'}\n",
    "\n",
    "for row in bottom['Filename']:\n",
    "    found = 0\n",
    "    for x in BotDict:\n",
    "        if x in row:\n",
    "            Category.append(BotDict[x])\n",
    "            found = 1\n",
    "            break # End loop early if found\n",
    "    if found == 0: Category.append('Other') # Catch all in case type of clothing missed in dict\n",
    "\n",
    "# Add list of clothing categories to main dataframe\n",
    "bottom['Item Category'] = Category\n",
    "\n",
    "# Confirm nothing in other and category counts seem plausible\n",
    "bottom['Item Category'].value_counts()"
   ]
  },
  {
   "cell_type": "code",
   "execution_count": 15,
   "metadata": {
    "scrolled": true
   },
   "outputs": [
    {
     "data": {
      "text/plain": [
       "Top Tshirt    335\n",
       "Top Yshirt    331\n",
       "Top Coat      253\n",
       "Top Outer     190\n",
       "Top Puff       12\n",
       "Name: Item Category, dtype: int64"
      ]
     },
     "execution_count": 15,
     "metadata": {},
     "output_type": "execute_result"
    }
   ],
   "source": [
    "# Use a for loop to differentiate the types of tops/shirts present in the data\n",
    "Category = []\n",
    "TopDict = {'TopsTexTopCoat': 'Top Coat', 'TopsTexTopOuter': 'Top Outer',\n",
    "          'TopsTexTopPuff': 'Top Puff', 'TopsTexTopTshirts': 'Top Tshirt',\n",
    "          'TopsTexTopYshirts': 'Top Yshirt'} # Note: Yshirts indicate shirts with a layered jacket/vest\n",
    "\n",
    "for row in top['Filename']:\n",
    "    found = 0\n",
    "    for x in TopDict:\n",
    "        if x in row:\n",
    "            Category.append(TopDict[x])\n",
    "            found = 1\n",
    "            break # End loop early if found\n",
    "    if found == 0: Category.append('Other') # Catch all in case type of clothing missed in dict\n",
    "\n",
    "# Add list of clothing categories to main dataframe\n",
    "top['Item Category'] = Category\n",
    "\n",
    "# Confirm nothing in other and category counts seem plausible\n",
    "top['Item Category'].value_counts()"
   ]
  },
  {
   "cell_type": "code",
   "execution_count": 16,
   "metadata": {
    "scrolled": true
   },
   "outputs": [
    {
     "name": "stdout",
     "output_type": "stream",
     "text": [
      "<class 'pandas.core.frame.DataFrame'>\n",
      "Int64Index: 2999 entries, 0 to 2998\n",
      "Data columns (total 23 columns):\n",
      " #   Column                 Non-Null Count  Dtype  \n",
      "---  ------                 --------------  -----  \n",
      " 0   Name                   2999 non-null   object \n",
      " 1   Variation              2930 non-null   object \n",
      " 2   DIY                    2999 non-null   object \n",
      " 3   Buy                    2999 non-null   object \n",
      " 4   Sell                   2999 non-null   int64  \n",
      " 5   Color 1                2999 non-null   object \n",
      " 6   Color 2                2999 non-null   object \n",
      " 7   Size                   2999 non-null   object \n",
      " 8   Miles Price            8 non-null      float64\n",
      " 9   Source                 2999 non-null   object \n",
      " 10  Source Notes           2649 non-null   object \n",
      " 11  Seasonal Availability  2999 non-null   object \n",
      " 12  Mannequin Piece        2999 non-null   object \n",
      " 13  Version                2999 non-null   object \n",
      " 14  Style                  2999 non-null   object \n",
      " 15  Label Themes           2998 non-null   object \n",
      " 16  Villager Equippable    2999 non-null   object \n",
      " 17  Catalog                2999 non-null   object \n",
      " 18  Filename               2999 non-null   object \n",
      " 19  Internal ID            2999 non-null   int64  \n",
      " 20  Unique Entry ID        2999 non-null   object \n",
      " 21  Item Category          2999 non-null   object \n",
      " 22  Type                   698 non-null    object \n",
      "dtypes: float64(1), int64(2), object(20)\n",
      "memory usage: 562.3+ KB\n"
     ]
    }
   ],
   "source": [
    "# Merge the tops and bottoms datasets together\n",
    "topB = pd.merge(left=top, right=bottom, how='outer')\n",
    "\n",
    "# Merge the hat and shoes datasets together\n",
    "hatS = pd.merge(left=hat, right=shoe, how='outer')\n",
    "\n",
    "# Merge both datasets together\n",
    "allDat = pd.merge(left=topB, right=hatS, how='outer')\n",
    "\n",
    "# Take a quick look and ensure merges have been done correctly\n",
    "allDat.info()"
   ]
  },
  {
   "cell_type": "markdown",
   "metadata": {},
   "source": [
    "### Cleaning the Data"
   ]
  },
  {
   "cell_type": "code",
   "execution_count": 17,
   "metadata": {},
   "outputs": [],
   "source": [
    "# create a copy of the dataset for cleaning\n",
    "cDat = allDat.copy(deep=True)"
   ]
  },
  {
   "cell_type": "code",
   "execution_count": 18,
   "metadata": {},
   "outputs": [],
   "source": [
    "# Drop all items that are not for sale (NFS)\n",
    "cDat.drop(cDat.index[cDat['Buy'] == \"NFS\"], inplace =  True)"
   ]
  },
  {
   "cell_type": "code",
   "execution_count": 19,
   "metadata": {},
   "outputs": [],
   "source": [
    "# Convert Buy values (price each item costs) to numbers rather than objects\n",
    "cDat['Buy'] = pd.to_numeric(cDat['Buy'])"
   ]
  },
  {
   "cell_type": "code",
   "execution_count": 20,
   "metadata": {
    "scrolled": true
   },
   "outputs": [
    {
     "name": "stdout",
     "output_type": "stream",
     "text": [
      "<class 'pandas.core.frame.DataFrame'>\n",
      "Int64Index: 2855 entries, 0 to 2998\n",
      "Data columns (total 23 columns):\n",
      " #   Column                 Non-Null Count  Dtype  \n",
      "---  ------                 --------------  -----  \n",
      " 0   Name                   2855 non-null   object \n",
      " 1   Variation              2798 non-null   object \n",
      " 2   DIY                    2855 non-null   object \n",
      " 3   Buy                    2855 non-null   int64  \n",
      " 4   Sell                   2855 non-null   int64  \n",
      " 5   Color 1                2855 non-null   object \n",
      " 6   Color 2                2855 non-null   object \n",
      " 7   Size                   2855 non-null   object \n",
      " 8   Miles Price            0 non-null      float64\n",
      " 9   Source                 2855 non-null   object \n",
      " 10  Source Notes           2645 non-null   object \n",
      " 11  Seasonal Availability  2855 non-null   object \n",
      " 12  Mannequin Piece        2855 non-null   object \n",
      " 13  Version                2855 non-null   object \n",
      " 14  Style                  2855 non-null   object \n",
      " 15  Label Themes           2854 non-null   object \n",
      " 16  Villager Equippable    2855 non-null   object \n",
      " 17  Catalog                2855 non-null   object \n",
      " 18  Filename               2855 non-null   object \n",
      " 19  Internal ID            2855 non-null   int64  \n",
      " 20  Unique Entry ID        2855 non-null   object \n",
      " 21  Item Category          2855 non-null   object \n",
      " 22  Type                   599 non-null    object \n",
      "dtypes: float64(1), int64(3), object(19)\n",
      "memory usage: 535.3+ KB\n"
     ]
    }
   ],
   "source": [
    "# Ensure that all changes were properly applied\n",
    "cDat.info()"
   ]
  },
  {
   "cell_type": "code",
   "execution_count": 21,
   "metadata": {},
   "outputs": [],
   "source": [
    "# For seasonal analyses of tops, repeat these cleansing strategies on the \"top\" dataset and create a new one titled \"tops\"\n",
    "tops = top.copy(deep=True)"
   ]
  },
  {
   "cell_type": "code",
   "execution_count": 22,
   "metadata": {},
   "outputs": [],
   "source": [
    "# Drop all items that are not for sale (NFS)\n",
    "tops.drop(tops.index[tops['Buy'] == \"NFS\"], inplace =  True)"
   ]
  },
  {
   "cell_type": "code",
   "execution_count": 23,
   "metadata": {},
   "outputs": [],
   "source": [
    "# Convert Buy values (price each item costs) to numbers rather than objects\n",
    "tops['Buy'] = pd.to_numeric(tops['Buy'])"
   ]
  },
  {
   "cell_type": "code",
   "execution_count": 24,
   "metadata": {
    "scrolled": true
   },
   "outputs": [
    {
     "name": "stdout",
     "output_type": "stream",
     "text": [
      "<class 'pandas.core.frame.DataFrame'>\n",
      "Int64Index: 1091 entries, 0 to 1120\n",
      "Data columns (total 22 columns):\n",
      " #   Column                 Non-Null Count  Dtype  \n",
      "---  ------                 --------------  -----  \n",
      " 0   Name                   1091 non-null   object \n",
      " 1   Variation              1040 non-null   object \n",
      " 2   DIY                    1091 non-null   object \n",
      " 3   Buy                    1091 non-null   int64  \n",
      " 4   Sell                   1091 non-null   int64  \n",
      " 5   Color 1                1091 non-null   object \n",
      " 6   Color 2                1091 non-null   object \n",
      " 7   Size                   1091 non-null   object \n",
      " 8   Miles Price            0 non-null      float64\n",
      " 9   Source                 1091 non-null   object \n",
      " 10  Source Notes           1040 non-null   object \n",
      " 11  Seasonal Availability  1091 non-null   object \n",
      " 12  Mannequin Piece        1091 non-null   object \n",
      " 13  Version                1091 non-null   object \n",
      " 14  Style                  1091 non-null   object \n",
      " 15  Label Themes           1091 non-null   object \n",
      " 16  Villager Equippable    1091 non-null   object \n",
      " 17  Catalog                1091 non-null   object \n",
      " 18  Filename               1091 non-null   object \n",
      " 19  Internal ID            1091 non-null   int64  \n",
      " 20  Unique Entry ID        1091 non-null   object \n",
      " 21  Item Category          1091 non-null   object \n",
      "dtypes: float64(1), int64(3), object(18)\n",
      "memory usage: 196.0+ KB\n"
     ]
    }
   ],
   "source": [
    "# Ensure that all changes were properly applied\n",
    "tops.info()"
   ]
  },
  {
   "cell_type": "markdown",
   "metadata": {},
   "source": [
    "### Create a Separate Dataset with Single Item Values"
   ]
  },
  {
   "cell_type": "code",
   "execution_count": 25,
   "metadata": {},
   "outputs": [],
   "source": [
    "# Create a separate dataset that is not in long format and excludes colors. First, copy the dataset\n",
    "itemDat = cDat.copy(deep=True)"
   ]
  },
  {
   "cell_type": "code",
   "execution_count": 26,
   "metadata": {
    "scrolled": true
   },
   "outputs": [
    {
     "name": "stdout",
     "output_type": "stream",
     "text": [
      "<class 'pandas.core.frame.DataFrame'>\n",
      "Int64Index: 636 entries, 0 to 2991\n",
      "Data columns (total 23 columns):\n",
      " #   Column                 Non-Null Count  Dtype  \n",
      "---  ------                 --------------  -----  \n",
      " 0   Name                   636 non-null    object \n",
      " 1   Variation              579 non-null    object \n",
      " 2   DIY                    636 non-null    object \n",
      " 3   Buy                    636 non-null    int64  \n",
      " 4   Sell                   636 non-null    int64  \n",
      " 5   Color 1                636 non-null    object \n",
      " 6   Color 2                636 non-null    object \n",
      " 7   Size                   636 non-null    object \n",
      " 8   Miles Price            0 non-null      float64\n",
      " 9   Source                 636 non-null    object \n",
      " 10  Source Notes           560 non-null    object \n",
      " 11  Seasonal Availability  636 non-null    object \n",
      " 12  Mannequin Piece        636 non-null    object \n",
      " 13  Version                636 non-null    object \n",
      " 14  Style                  636 non-null    object \n",
      " 15  Label Themes           635 non-null    object \n",
      " 16  Villager Equippable    636 non-null    object \n",
      " 17  Catalog                636 non-null    object \n",
      " 18  Filename               636 non-null    object \n",
      " 19  Internal ID            636 non-null    int64  \n",
      " 20  Unique Entry ID        636 non-null    object \n",
      " 21  Item Category          636 non-null    object \n",
      " 22  Type                   144 non-null    object \n",
      "dtypes: float64(1), int64(3), object(19)\n",
      "memory usage: 119.2+ KB\n"
     ]
    }
   ],
   "source": [
    "# Remove duplicate entries (but keep the first occurrence!) with Pandas\n",
    "# Use identifying characteristics to identify duplicates.\n",
    "itemDat.drop_duplicates(subset=[\"Name\"], keep='first', inplace=True)\n",
    "\n",
    "# Ensure that this removal was successful\n",
    "itemDat.info()\n",
    "\n",
    "### Citation: https://pandas.pydata.org/docs/reference/api/pandas.DataFrame.drop_duplicates.html"
   ]
  },
  {
   "cell_type": "code",
   "execution_count": 27,
   "metadata": {},
   "outputs": [],
   "source": [
    "# Drop unneccessary columns - we do not need color variations, and we are not considering price in Miles\n",
    "itemDat = itemDat.drop(['Variation', 'Color 1', 'Color 2', 'Miles Price'], axis = 1)"
   ]
  },
  {
   "cell_type": "code",
   "execution_count": 28,
   "metadata": {
    "scrolled": true
   },
   "outputs": [
    {
     "data": {
      "text/html": [
       "<div>\n",
       "<style scoped>\n",
       "    .dataframe tbody tr th:only-of-type {\n",
       "        vertical-align: middle;\n",
       "    }\n",
       "\n",
       "    .dataframe tbody tr th {\n",
       "        vertical-align: top;\n",
       "    }\n",
       "\n",
       "    .dataframe thead th {\n",
       "        text-align: right;\n",
       "    }\n",
       "</style>\n",
       "<table border=\"1\" class=\"dataframe\">\n",
       "  <thead>\n",
       "    <tr style=\"text-align: right;\">\n",
       "      <th></th>\n",
       "      <th>Name</th>\n",
       "      <th>DIY</th>\n",
       "      <th>Buy</th>\n",
       "      <th>Sell</th>\n",
       "      <th>Size</th>\n",
       "      <th>Source</th>\n",
       "      <th>Source Notes</th>\n",
       "      <th>Seasonal Availability</th>\n",
       "      <th>Mannequin Piece</th>\n",
       "      <th>Version</th>\n",
       "      <th>Style</th>\n",
       "      <th>Label Themes</th>\n",
       "      <th>Villager Equippable</th>\n",
       "      <th>Catalog</th>\n",
       "      <th>Filename</th>\n",
       "      <th>Internal ID</th>\n",
       "      <th>Unique Entry ID</th>\n",
       "      <th>Item Category</th>\n",
       "      <th>Type</th>\n",
       "    </tr>\n",
       "  </thead>\n",
       "  <tbody>\n",
       "    <tr>\n",
       "      <th>0</th>\n",
       "      <td>A tee</td>\n",
       "      <td>No</td>\n",
       "      <td>560</td>\n",
       "      <td>140</td>\n",
       "      <td>1x1</td>\n",
       "      <td>Nook Shopping Catalog</td>\n",
       "      <td>NaN</td>\n",
       "      <td>All Year</td>\n",
       "      <td>No</td>\n",
       "      <td>1.0.0</td>\n",
       "      <td>Simple</td>\n",
       "      <td>everyday; comfy</td>\n",
       "      <td>Yes</td>\n",
       "      <td>For sale</td>\n",
       "      <td>TopsTexTopTshirtsHAce0</td>\n",
       "      <td>8532</td>\n",
       "      <td>7XCg953t2tGAPuzaR</td>\n",
       "      <td>Top Tshirt</td>\n",
       "      <td>NaN</td>\n",
       "    </tr>\n",
       "    <tr>\n",
       "      <th>1</th>\n",
       "      <td>acid-washed jacket</td>\n",
       "      <td>No</td>\n",
       "      <td>1680</td>\n",
       "      <td>420</td>\n",
       "      <td>1x1</td>\n",
       "      <td>Able Sisters</td>\n",
       "      <td>Available from Able Sisters shop only</td>\n",
       "      <td>All Year</td>\n",
       "      <td>Yes</td>\n",
       "      <td>1.0.0</td>\n",
       "      <td>Simple</td>\n",
       "      <td>everyday; outdoorsy</td>\n",
       "      <td>Yes</td>\n",
       "      <td>For sale</td>\n",
       "      <td>TopsTexTopOuterLChemical0</td>\n",
       "      <td>5289</td>\n",
       "      <td>zAiLmCwSaWADqXkRf</td>\n",
       "      <td>Top Outer</td>\n",
       "      <td>NaN</td>\n",
       "    </tr>\n",
       "    <tr>\n",
       "      <th>3</th>\n",
       "      <td>after-school jacket</td>\n",
       "      <td>No</td>\n",
       "      <td>1050</td>\n",
       "      <td>262</td>\n",
       "      <td>1x1</td>\n",
       "      <td>Able Sisters</td>\n",
       "      <td>Available from Able Sisters shop only</td>\n",
       "      <td>All Year</td>\n",
       "      <td>Yes</td>\n",
       "      <td>1.0.0</td>\n",
       "      <td>Cool</td>\n",
       "      <td>everyday; comfy</td>\n",
       "      <td>Yes</td>\n",
       "      <td>For sale</td>\n",
       "      <td>TopsTexTopYshirtsLGakuranopen0</td>\n",
       "      <td>4366</td>\n",
       "      <td>rAfEdHYdt5e4AGTya</td>\n",
       "      <td>Top Yshirt</td>\n",
       "      <td>NaN</td>\n",
       "    </tr>\n",
       "    <tr>\n",
       "      <th>10</th>\n",
       "      <td>animal-print coat</td>\n",
       "      <td>No</td>\n",
       "      <td>2320</td>\n",
       "      <td>580</td>\n",
       "      <td>1x1</td>\n",
       "      <td>Able Sisters</td>\n",
       "      <td>Available from Able Sisters shop only</td>\n",
       "      <td>Winter</td>\n",
       "      <td>Yes</td>\n",
       "      <td>1.0.0</td>\n",
       "      <td>Cute</td>\n",
       "      <td>everyday</td>\n",
       "      <td>Yes</td>\n",
       "      <td>For sale</td>\n",
       "      <td>TopsTexTopCoatLAnimal0</td>\n",
       "      <td>4465</td>\n",
       "      <td>ozg6yMkXQzsmkjPsW</td>\n",
       "      <td>Top Coat</td>\n",
       "      <td>NaN</td>\n",
       "    </tr>\n",
       "    <tr>\n",
       "      <th>14</th>\n",
       "      <td>animal-stripes tee</td>\n",
       "      <td>No</td>\n",
       "      <td>960</td>\n",
       "      <td>240</td>\n",
       "      <td>1x1</td>\n",
       "      <td>Able Sisters</td>\n",
       "      <td>Available from either Mable's temporary shop o...</td>\n",
       "      <td>Summer</td>\n",
       "      <td>No</td>\n",
       "      <td>1.0.0</td>\n",
       "      <td>Cool</td>\n",
       "      <td>everyday; comfy</td>\n",
       "      <td>Yes</td>\n",
       "      <td>For sale</td>\n",
       "      <td>TopsTexTopTshirtsHStripe0</td>\n",
       "      <td>8198</td>\n",
       "      <td>WTG2RBsXk5cimHsis</td>\n",
       "      <td>Top Tshirt</td>\n",
       "      <td>NaN</td>\n",
       "    </tr>\n",
       "    <tr>\n",
       "      <th>16</th>\n",
       "      <td>annyeong tee</td>\n",
       "      <td>No</td>\n",
       "      <td>640</td>\n",
       "      <td>160</td>\n",
       "      <td>1x1</td>\n",
       "      <td>Nook Shopping Catalog</td>\n",
       "      <td>NaN</td>\n",
       "      <td>All Year</td>\n",
       "      <td>No</td>\n",
       "      <td>1.0.0</td>\n",
       "      <td>Simple</td>\n",
       "      <td>everyday; comfy</td>\n",
       "      <td>Yes</td>\n",
       "      <td>For sale</td>\n",
       "      <td>TopsTexTopTshirtsHHellokr0</td>\n",
       "      <td>12117</td>\n",
       "      <td>mfMor9YWpsoEbPK5e</td>\n",
       "      <td>Top Tshirt</td>\n",
       "      <td>NaN</td>\n",
       "    </tr>\n",
       "    <tr>\n",
       "      <th>17</th>\n",
       "      <td>anorak jacket</td>\n",
       "      <td>No</td>\n",
       "      <td>1400</td>\n",
       "      <td>350</td>\n",
       "      <td>1x1</td>\n",
       "      <td>Able Sisters</td>\n",
       "      <td>Available from either Mable's temporary shop o...</td>\n",
       "      <td>All Year</td>\n",
       "      <td>No</td>\n",
       "      <td>1.0.0</td>\n",
       "      <td>Simple</td>\n",
       "      <td>everyday; outdoorsy</td>\n",
       "      <td>Yes</td>\n",
       "      <td>For sale</td>\n",
       "      <td>TopsTexTopCoatLAnorak0</td>\n",
       "      <td>4793</td>\n",
       "      <td>agpR79ZTHcuQheDdF</td>\n",
       "      <td>Top Coat</td>\n",
       "      <td>NaN</td>\n",
       "    </tr>\n",
       "    <tr>\n",
       "      <th>20</th>\n",
       "      <td>apron</td>\n",
       "      <td>No</td>\n",
       "      <td>840</td>\n",
       "      <td>210</td>\n",
       "      <td>1x1</td>\n",
       "      <td>Able Sisters</td>\n",
       "      <td>Available from Able Sisters shop only</td>\n",
       "      <td>All Year</td>\n",
       "      <td>No</td>\n",
       "      <td>1.0.0</td>\n",
       "      <td>Simple</td>\n",
       "      <td>everyday; work</td>\n",
       "      <td>Yes</td>\n",
       "      <td>For sale</td>\n",
       "      <td>TopsTexTopCoatHApron0</td>\n",
       "      <td>3228</td>\n",
       "      <td>LTZqXvkrNxza2nMPb</td>\n",
       "      <td>Top Coat</td>\n",
       "      <td>NaN</td>\n",
       "    </tr>\n",
       "    <tr>\n",
       "      <th>28</th>\n",
       "      <td>Aran-knit cardigan</td>\n",
       "      <td>No</td>\n",
       "      <td>1300</td>\n",
       "      <td>325</td>\n",
       "      <td>1x1</td>\n",
       "      <td>Able Sisters</td>\n",
       "      <td>Available from either Mable's temporary shop o...</td>\n",
       "      <td>Winter</td>\n",
       "      <td>No</td>\n",
       "      <td>1.0.0</td>\n",
       "      <td>Simple</td>\n",
       "      <td>everyday; comfy</td>\n",
       "      <td>Yes</td>\n",
       "      <td>For sale</td>\n",
       "      <td>TopsTexTopOuterLArancardigan0</td>\n",
       "      <td>3643</td>\n",
       "      <td>fJR97K7r3qHAB2TLr</td>\n",
       "      <td>Top Outer</td>\n",
       "      <td>NaN</td>\n",
       "    </tr>\n",
       "    <tr>\n",
       "      <th>32</th>\n",
       "      <td>Aran-knit sweater</td>\n",
       "      <td>No</td>\n",
       "      <td>1200</td>\n",
       "      <td>300</td>\n",
       "      <td>1x1</td>\n",
       "      <td>Able Sisters</td>\n",
       "      <td>Available from either Mable's temporary shop o...</td>\n",
       "      <td>Winter</td>\n",
       "      <td>No</td>\n",
       "      <td>1.0.0</td>\n",
       "      <td>Simple</td>\n",
       "      <td>everyday; comfy</td>\n",
       "      <td>Yes</td>\n",
       "      <td>For sale</td>\n",
       "      <td>TopsTexTopOuterLAran0</td>\n",
       "      <td>3633</td>\n",
       "      <td>Bk2v8mfDeJJX3khg6</td>\n",
       "      <td>Top Outer</td>\n",
       "      <td>NaN</td>\n",
       "    </tr>\n",
       "    <tr>\n",
       "      <th>39</th>\n",
       "      <td>argyle sweater</td>\n",
       "      <td>No</td>\n",
       "      <td>1200</td>\n",
       "      <td>300</td>\n",
       "      <td>1x1</td>\n",
       "      <td>Able Sisters</td>\n",
       "      <td>Available from either Mable's temporary shop o...</td>\n",
       "      <td>Winter</td>\n",
       "      <td>No</td>\n",
       "      <td>1.0.0</td>\n",
       "      <td>Simple</td>\n",
       "      <td>everyday; comfy</td>\n",
       "      <td>Yes</td>\n",
       "      <td>For sale</td>\n",
       "      <td>TopsTexTopOuterLArgyle0</td>\n",
       "      <td>3579</td>\n",
       "      <td>xEqYEzdaBXvj9s346</td>\n",
       "      <td>Top Outer</td>\n",
       "      <td>NaN</td>\n",
       "    </tr>\n",
       "    <tr>\n",
       "      <th>47</th>\n",
       "      <td>argyle vest</td>\n",
       "      <td>No</td>\n",
       "      <td>1440</td>\n",
       "      <td>360</td>\n",
       "      <td>1x1</td>\n",
       "      <td>Able Sisters</td>\n",
       "      <td>Available from either Mable's temporary shop o...</td>\n",
       "      <td>All Year</td>\n",
       "      <td>No</td>\n",
       "      <td>1.0.0</td>\n",
       "      <td>Simple</td>\n",
       "      <td>everyday; formal; work</td>\n",
       "      <td>Yes</td>\n",
       "      <td>For sale</td>\n",
       "      <td>TopsTexTopYshirtsLArgyle0</td>\n",
       "      <td>3262</td>\n",
       "      <td>QfjxZgK6b3zp2hr7T</td>\n",
       "      <td>Top Yshirt</td>\n",
       "      <td>NaN</td>\n",
       "    </tr>\n",
       "    <tr>\n",
       "      <th>53</th>\n",
       "      <td>athletic jacket</td>\n",
       "      <td>No</td>\n",
       "      <td>960</td>\n",
       "      <td>240</td>\n",
       "      <td>1x1</td>\n",
       "      <td>Able Sisters</td>\n",
       "      <td>Available from either Mable's temporary shop o...</td>\n",
       "      <td>All Year</td>\n",
       "      <td>No</td>\n",
       "      <td>1.0.0</td>\n",
       "      <td>Active</td>\n",
       "      <td>outdoorsy; comfy; sporty</td>\n",
       "      <td>Yes</td>\n",
       "      <td>For sale</td>\n",
       "      <td>TopsTexTopOuterLJersey0</td>\n",
       "      <td>3244</td>\n",
       "      <td>zgcZP2SW38SpysHJA</td>\n",
       "      <td>Top Outer</td>\n",
       "      <td>NaN</td>\n",
       "    </tr>\n",
       "    <tr>\n",
       "      <th>62</th>\n",
       "      <td>baseball shirt</td>\n",
       "      <td>No</td>\n",
       "      <td>1120</td>\n",
       "      <td>280</td>\n",
       "      <td>1x1</td>\n",
       "      <td>Able Sisters</td>\n",
       "      <td>Available from either Mable's temporary shop o...</td>\n",
       "      <td>All Year</td>\n",
       "      <td>No</td>\n",
       "      <td>1.0.0</td>\n",
       "      <td>Active</td>\n",
       "      <td>sporty; work</td>\n",
       "      <td>Yes</td>\n",
       "      <td>For sale</td>\n",
       "      <td>TopsTexTopTshirtsHBaseball0</td>\n",
       "      <td>4419</td>\n",
       "      <td>vYCgqwhsoMRcDJfF3</td>\n",
       "      <td>Top Tshirt</td>\n",
       "      <td>NaN</td>\n",
       "    </tr>\n",
       "    <tr>\n",
       "      <th>68</th>\n",
       "      <td>basketball tank</td>\n",
       "      <td>No</td>\n",
       "      <td>1120</td>\n",
       "      <td>280</td>\n",
       "      <td>1x1</td>\n",
       "      <td>Able Sisters</td>\n",
       "      <td>Available from either Mable's temporary shop o...</td>\n",
       "      <td>All Year</td>\n",
       "      <td>No</td>\n",
       "      <td>1.0.0</td>\n",
       "      <td>Active</td>\n",
       "      <td>sporty; work</td>\n",
       "      <td>Yes</td>\n",
       "      <td>For sale</td>\n",
       "      <td>TopsTexTopTshirtsNBasketballshirts0</td>\n",
       "      <td>2727</td>\n",
       "      <td>dKYrtNZerQWq6Gt7W</td>\n",
       "      <td>Top Tshirt</td>\n",
       "      <td>NaN</td>\n",
       "    </tr>\n",
       "    <tr>\n",
       "      <th>76</th>\n",
       "      <td>bear tee</td>\n",
       "      <td>No</td>\n",
       "      <td>800</td>\n",
       "      <td>200</td>\n",
       "      <td>1x1</td>\n",
       "      <td>Nook Shopping Catalog</td>\n",
       "      <td>NaN</td>\n",
       "      <td>All Year</td>\n",
       "      <td>No</td>\n",
       "      <td>1.0.0</td>\n",
       "      <td>Active</td>\n",
       "      <td>everyday; comfy</td>\n",
       "      <td>Yes</td>\n",
       "      <td>For sale</td>\n",
       "      <td>TopsTexTopTshirtsHBear0</td>\n",
       "      <td>8196</td>\n",
       "      <td>6smBqDtdwrcsSvnSD</td>\n",
       "      <td>Top Tshirt</td>\n",
       "      <td>NaN</td>\n",
       "    </tr>\n",
       "    <tr>\n",
       "      <th>77</th>\n",
       "      <td>big-star tee</td>\n",
       "      <td>No</td>\n",
       "      <td>560</td>\n",
       "      <td>140</td>\n",
       "      <td>1x1</td>\n",
       "      <td>Nook Shopping Catalog</td>\n",
       "      <td>NaN</td>\n",
       "      <td>All Year</td>\n",
       "      <td>No</td>\n",
       "      <td>1.0.0</td>\n",
       "      <td>Simple</td>\n",
       "      <td>everyday; comfy</td>\n",
       "      <td>Yes</td>\n",
       "      <td>For sale</td>\n",
       "      <td>TopsTexTopTshirtsHStar0</td>\n",
       "      <td>6822</td>\n",
       "      <td>JpATLjagWyw8q8zqx</td>\n",
       "      <td>Top Tshirt</td>\n",
       "      <td>NaN</td>\n",
       "    </tr>\n",
       "    <tr>\n",
       "      <th>78</th>\n",
       "      <td>biker jacket</td>\n",
       "      <td>No</td>\n",
       "      <td>1750</td>\n",
       "      <td>437</td>\n",
       "      <td>1x1</td>\n",
       "      <td>Able Sisters</td>\n",
       "      <td>Available from Able Sisters shop only</td>\n",
       "      <td>All Year</td>\n",
       "      <td>Yes</td>\n",
       "      <td>1.0.0</td>\n",
       "      <td>Cool</td>\n",
       "      <td>everyday; outdoorsy; theatrical</td>\n",
       "      <td>Yes</td>\n",
       "      <td>For sale</td>\n",
       "      <td>TopsTexTopYshirtsLRiders0</td>\n",
       "      <td>3198</td>\n",
       "      <td>evbChpmd6EcLcM3Tz</td>\n",
       "      <td>Top Yshirt</td>\n",
       "      <td>NaN</td>\n",
       "    </tr>\n",
       "    <tr>\n",
       "      <th>84</th>\n",
       "      <td>blossom tee</td>\n",
       "      <td>No</td>\n",
       "      <td>800</td>\n",
       "      <td>200</td>\n",
       "      <td>1x1</td>\n",
       "      <td>Able Sisters</td>\n",
       "      <td>Available from either Mable's temporary shop o...</td>\n",
       "      <td>Summer</td>\n",
       "      <td>No</td>\n",
       "      <td>1.0.0</td>\n",
       "      <td>Cute</td>\n",
       "      <td>everyday; comfy</td>\n",
       "      <td>Yes</td>\n",
       "      <td>For sale</td>\n",
       "      <td>TopsTexTopTshirtsHFlower0</td>\n",
       "      <td>8205</td>\n",
       "      <td>M7qCnBYqNGLyLSskf</td>\n",
       "      <td>Top Tshirt</td>\n",
       "      <td>NaN</td>\n",
       "    </tr>\n",
       "    <tr>\n",
       "      <th>89</th>\n",
       "      <td>boa blouson</td>\n",
       "      <td>No</td>\n",
       "      <td>1680</td>\n",
       "      <td>420</td>\n",
       "      <td>1x1</td>\n",
       "      <td>Able Sisters</td>\n",
       "      <td>Available from either Mable's temporary shop o...</td>\n",
       "      <td>Winter</td>\n",
       "      <td>Yes</td>\n",
       "      <td>1.0.0</td>\n",
       "      <td>Cute</td>\n",
       "      <td>everyday; fairy tale; comfy</td>\n",
       "      <td>Yes</td>\n",
       "      <td>For sale</td>\n",
       "      <td>TopsTexTopOuterLBlouson0</td>\n",
       "      <td>4598</td>\n",
       "      <td>tsxSZ2Dy6kYf8hsyR</td>\n",
       "      <td>Top Outer</td>\n",
       "      <td>NaN</td>\n",
       "    </tr>\n",
       "    <tr>\n",
       "      <th>93</th>\n",
       "      <td>boa fleece</td>\n",
       "      <td>No</td>\n",
       "      <td>1400</td>\n",
       "      <td>350</td>\n",
       "      <td>1x1</td>\n",
       "      <td>Able Sisters</td>\n",
       "      <td>Available from either Mable's temporary shop o...</td>\n",
       "      <td>Winter</td>\n",
       "      <td>No</td>\n",
       "      <td>1.0.0</td>\n",
       "      <td>Active</td>\n",
       "      <td>everyday; outdoorsy; comfy</td>\n",
       "      <td>Yes</td>\n",
       "      <td>For sale</td>\n",
       "      <td>TopsTexTopYshirtsLFleece0</td>\n",
       "      <td>3705</td>\n",
       "      <td>ajrhqED9o9KJD82qY</td>\n",
       "      <td>Top Yshirt</td>\n",
       "      <td>NaN</td>\n",
       "    </tr>\n",
       "    <tr>\n",
       "      <th>101</th>\n",
       "      <td>bold aloha shirt</td>\n",
       "      <td>No</td>\n",
       "      <td>960</td>\n",
       "      <td>240</td>\n",
       "      <td>1x1</td>\n",
       "      <td>Able Sisters</td>\n",
       "      <td>Available from either Mable's temporary shop o...</td>\n",
       "      <td>Summer</td>\n",
       "      <td>No</td>\n",
       "      <td>1.0.0</td>\n",
       "      <td>Active</td>\n",
       "      <td>comfy; vacation</td>\n",
       "      <td>Yes</td>\n",
       "      <td>For sale</td>\n",
       "      <td>TopsTexTopYshirtsHPolynesia0</td>\n",
       "      <td>8206</td>\n",
       "      <td>KuY6kA7WnY24gjmhF</td>\n",
       "      <td>Top Yshirt</td>\n",
       "      <td>NaN</td>\n",
       "    </tr>\n",
       "    <tr>\n",
       "      <th>103</th>\n",
       "      <td>bomber-style jacket</td>\n",
       "      <td>No</td>\n",
       "      <td>1440</td>\n",
       "      <td>360</td>\n",
       "      <td>1x1</td>\n",
       "      <td>Able Sisters</td>\n",
       "      <td>Available from either Mable's temporary shop o...</td>\n",
       "      <td>All Year</td>\n",
       "      <td>Yes</td>\n",
       "      <td>1.0.0</td>\n",
       "      <td>Cool</td>\n",
       "      <td>everyday; outdoorsy</td>\n",
       "      <td>Yes</td>\n",
       "      <td>For sale</td>\n",
       "      <td>TopsTexTopOuterLMaone0</td>\n",
       "      <td>4401</td>\n",
       "      <td>vih97zG2HgN8cg54w</td>\n",
       "      <td>Top Outer</td>\n",
       "      <td>NaN</td>\n",
       "    </tr>\n",
       "    <tr>\n",
       "      <th>107</th>\n",
       "      <td>bone tee</td>\n",
       "      <td>No</td>\n",
       "      <td>640</td>\n",
       "      <td>160</td>\n",
       "      <td>1x1</td>\n",
       "      <td>Able Sisters</td>\n",
       "      <td>Available from either Mable's temporary shop o...</td>\n",
       "      <td>Summer</td>\n",
       "      <td>No</td>\n",
       "      <td>1.0.0</td>\n",
       "      <td>Simple</td>\n",
       "      <td>everyday; comfy</td>\n",
       "      <td>Yes</td>\n",
       "      <td>For sale</td>\n",
       "      <td>TopsTexTopTshirtsHMeat0</td>\n",
       "      <td>8200</td>\n",
       "      <td>MtsJHoZtAniizhXzb</td>\n",
       "      <td>Top Tshirt</td>\n",
       "      <td>NaN</td>\n",
       "    </tr>\n",
       "    <tr>\n",
       "      <th>108</th>\n",
       "      <td>bonjour tee</td>\n",
       "      <td>No</td>\n",
       "      <td>640</td>\n",
       "      <td>160</td>\n",
       "      <td>1x1</td>\n",
       "      <td>Nook Shopping Catalog</td>\n",
       "      <td>NaN</td>\n",
       "      <td>All Year</td>\n",
       "      <td>No</td>\n",
       "      <td>1.0.0</td>\n",
       "      <td>Simple</td>\n",
       "      <td>everyday; comfy</td>\n",
       "      <td>Yes</td>\n",
       "      <td>For sale</td>\n",
       "      <td>TopsTexTopTshirtsHHellofr0</td>\n",
       "      <td>12115</td>\n",
       "      <td>2eprjJTFoSP9v8fem</td>\n",
       "      <td>Top Tshirt</td>\n",
       "      <td>NaN</td>\n",
       "    </tr>\n",
       "    <tr>\n",
       "      <th>109</th>\n",
       "      <td>botanical tee</td>\n",
       "      <td>No</td>\n",
       "      <td>800</td>\n",
       "      <td>200</td>\n",
       "      <td>1x1</td>\n",
       "      <td>Able Sisters</td>\n",
       "      <td>Available from either Mable's temporary shop o...</td>\n",
       "      <td>Summer</td>\n",
       "      <td>Yes</td>\n",
       "      <td>1.0.0</td>\n",
       "      <td>Cool</td>\n",
       "      <td>everyday; comfy; vacation</td>\n",
       "      <td>Yes</td>\n",
       "      <td>For sale</td>\n",
       "      <td>TopsTexTopTshirtsHBotanical0</td>\n",
       "      <td>9831</td>\n",
       "      <td>oMALunHDp3gEEuwXv</td>\n",
       "      <td>Top Tshirt</td>\n",
       "      <td>NaN</td>\n",
       "    </tr>\n",
       "    <tr>\n",
       "      <th>111</th>\n",
       "      <td>bowling shirt</td>\n",
       "      <td>No</td>\n",
       "      <td>1260</td>\n",
       "      <td>315</td>\n",
       "      <td>1x1</td>\n",
       "      <td>Able Sisters</td>\n",
       "      <td>Available from Able Sisters shop only</td>\n",
       "      <td>Summer</td>\n",
       "      <td>Yes</td>\n",
       "      <td>1.0.0</td>\n",
       "      <td>Cool</td>\n",
       "      <td>comfy; sporty</td>\n",
       "      <td>Yes</td>\n",
       "      <td>For sale</td>\n",
       "      <td>TopsTexTopYshirtsHBowling0</td>\n",
       "      <td>3698</td>\n",
       "      <td>nqr3XGTNmtobMKMch</td>\n",
       "      <td>Top Yshirt</td>\n",
       "      <td>NaN</td>\n",
       "    </tr>\n",
       "    <tr>\n",
       "      <th>120</th>\n",
       "      <td>bulldog jacket</td>\n",
       "      <td>No</td>\n",
       "      <td>1440</td>\n",
       "      <td>360</td>\n",
       "      <td>1x1</td>\n",
       "      <td>Able Sisters</td>\n",
       "      <td>Available from either Mable's temporary shop o...</td>\n",
       "      <td>All Year</td>\n",
       "      <td>No</td>\n",
       "      <td>1.0.0</td>\n",
       "      <td>Cool</td>\n",
       "      <td>outdoorsy; sporty</td>\n",
       "      <td>Yes</td>\n",
       "      <td>For sale</td>\n",
       "      <td>TopsTexTopOuterLBulldog0</td>\n",
       "      <td>5980</td>\n",
       "      <td>ggs2xnxP45Y8SPtKL</td>\n",
       "      <td>Top Outer</td>\n",
       "      <td>NaN</td>\n",
       "    </tr>\n",
       "    <tr>\n",
       "      <th>123</th>\n",
       "      <td>business suitcoat</td>\n",
       "      <td>No</td>\n",
       "      <td>1960</td>\n",
       "      <td>490</td>\n",
       "      <td>1x1</td>\n",
       "      <td>Able Sisters</td>\n",
       "      <td>Available from Able Sisters shop only</td>\n",
       "      <td>All Year</td>\n",
       "      <td>No</td>\n",
       "      <td>1.0.0</td>\n",
       "      <td>Cool</td>\n",
       "      <td>formal; party; theatrical; work</td>\n",
       "      <td>Yes</td>\n",
       "      <td>For sale</td>\n",
       "      <td>TopsTexTopYshirtsLSuits0</td>\n",
       "      <td>4363</td>\n",
       "      <td>LzQ8TynJGkTh4xXQa</td>\n",
       "      <td>Top Yshirt</td>\n",
       "      <td>NaN</td>\n",
       "    </tr>\n",
       "    <tr>\n",
       "      <th>128</th>\n",
       "      <td>café uniform</td>\n",
       "      <td>No</td>\n",
       "      <td>1500</td>\n",
       "      <td>375</td>\n",
       "      <td>1x1</td>\n",
       "      <td>Able Sisters</td>\n",
       "      <td>Available from Able Sisters shop only</td>\n",
       "      <td>All Year</td>\n",
       "      <td>No</td>\n",
       "      <td>1.0.0</td>\n",
       "      <td>Elegant</td>\n",
       "      <td>formal; work</td>\n",
       "      <td>Yes</td>\n",
       "      <td>For sale</td>\n",
       "      <td>TopsTexTopCoatLCafe0</td>\n",
       "      <td>3178</td>\n",
       "      <td>SHHiYrQ9ozi4X7iqW</td>\n",
       "      <td>Top Coat</td>\n",
       "      <td>NaN</td>\n",
       "    </tr>\n",
       "  </tbody>\n",
       "</table>\n",
       "</div>"
      ],
      "text/plain": [
       "                    Name DIY   Buy  Sell Size                 Source  \\\n",
       "0                  A tee  No   560   140  1x1  Nook Shopping Catalog   \n",
       "1     acid-washed jacket  No  1680   420  1x1           Able Sisters   \n",
       "3    after-school jacket  No  1050   262  1x1           Able Sisters   \n",
       "10     animal-print coat  No  2320   580  1x1           Able Sisters   \n",
       "14    animal-stripes tee  No   960   240  1x1           Able Sisters   \n",
       "16          annyeong tee  No   640   160  1x1  Nook Shopping Catalog   \n",
       "17         anorak jacket  No  1400   350  1x1           Able Sisters   \n",
       "20                 apron  No   840   210  1x1           Able Sisters   \n",
       "28    Aran-knit cardigan  No  1300   325  1x1           Able Sisters   \n",
       "32     Aran-knit sweater  No  1200   300  1x1           Able Sisters   \n",
       "39        argyle sweater  No  1200   300  1x1           Able Sisters   \n",
       "47           argyle vest  No  1440   360  1x1           Able Sisters   \n",
       "53       athletic jacket  No   960   240  1x1           Able Sisters   \n",
       "62        baseball shirt  No  1120   280  1x1           Able Sisters   \n",
       "68       basketball tank  No  1120   280  1x1           Able Sisters   \n",
       "76              bear tee  No   800   200  1x1  Nook Shopping Catalog   \n",
       "77          big-star tee  No   560   140  1x1  Nook Shopping Catalog   \n",
       "78          biker jacket  No  1750   437  1x1           Able Sisters   \n",
       "84           blossom tee  No   800   200  1x1           Able Sisters   \n",
       "89           boa blouson  No  1680   420  1x1           Able Sisters   \n",
       "93            boa fleece  No  1400   350  1x1           Able Sisters   \n",
       "101     bold aloha shirt  No   960   240  1x1           Able Sisters   \n",
       "103  bomber-style jacket  No  1440   360  1x1           Able Sisters   \n",
       "107             bone tee  No   640   160  1x1           Able Sisters   \n",
       "108          bonjour tee  No   640   160  1x1  Nook Shopping Catalog   \n",
       "109        botanical tee  No   800   200  1x1           Able Sisters   \n",
       "111        bowling shirt  No  1260   315  1x1           Able Sisters   \n",
       "120       bulldog jacket  No  1440   360  1x1           Able Sisters   \n",
       "123    business suitcoat  No  1960   490  1x1           Able Sisters   \n",
       "128         café uniform  No  1500   375  1x1           Able Sisters   \n",
       "\n",
       "                                          Source Notes Seasonal Availability  \\\n",
       "0                                                  NaN              All Year   \n",
       "1                Available from Able Sisters shop only              All Year   \n",
       "3                Available from Able Sisters shop only              All Year   \n",
       "10               Available from Able Sisters shop only                Winter   \n",
       "14   Available from either Mable's temporary shop o...                Summer   \n",
       "16                                                 NaN              All Year   \n",
       "17   Available from either Mable's temporary shop o...              All Year   \n",
       "20               Available from Able Sisters shop only              All Year   \n",
       "28   Available from either Mable's temporary shop o...                Winter   \n",
       "32   Available from either Mable's temporary shop o...                Winter   \n",
       "39   Available from either Mable's temporary shop o...                Winter   \n",
       "47   Available from either Mable's temporary shop o...              All Year   \n",
       "53   Available from either Mable's temporary shop o...              All Year   \n",
       "62   Available from either Mable's temporary shop o...              All Year   \n",
       "68   Available from either Mable's temporary shop o...              All Year   \n",
       "76                                                 NaN              All Year   \n",
       "77                                                 NaN              All Year   \n",
       "78               Available from Able Sisters shop only              All Year   \n",
       "84   Available from either Mable's temporary shop o...                Summer   \n",
       "89   Available from either Mable's temporary shop o...                Winter   \n",
       "93   Available from either Mable's temporary shop o...                Winter   \n",
       "101  Available from either Mable's temporary shop o...                Summer   \n",
       "103  Available from either Mable's temporary shop o...              All Year   \n",
       "107  Available from either Mable's temporary shop o...                Summer   \n",
       "108                                                NaN              All Year   \n",
       "109  Available from either Mable's temporary shop o...                Summer   \n",
       "111              Available from Able Sisters shop only                Summer   \n",
       "120  Available from either Mable's temporary shop o...              All Year   \n",
       "123              Available from Able Sisters shop only              All Year   \n",
       "128              Available from Able Sisters shop only              All Year   \n",
       "\n",
       "    Mannequin Piece Version    Style                     Label Themes  \\\n",
       "0                No   1.0.0   Simple                  everyday; comfy   \n",
       "1               Yes   1.0.0   Simple              everyday; outdoorsy   \n",
       "3               Yes   1.0.0     Cool                  everyday; comfy   \n",
       "10              Yes   1.0.0     Cute                         everyday   \n",
       "14               No   1.0.0     Cool                  everyday; comfy   \n",
       "16               No   1.0.0   Simple                  everyday; comfy   \n",
       "17               No   1.0.0   Simple              everyday; outdoorsy   \n",
       "20               No   1.0.0   Simple                   everyday; work   \n",
       "28               No   1.0.0   Simple                  everyday; comfy   \n",
       "32               No   1.0.0   Simple                  everyday; comfy   \n",
       "39               No   1.0.0   Simple                  everyday; comfy   \n",
       "47               No   1.0.0   Simple           everyday; formal; work   \n",
       "53               No   1.0.0   Active         outdoorsy; comfy; sporty   \n",
       "62               No   1.0.0   Active                     sporty; work   \n",
       "68               No   1.0.0   Active                     sporty; work   \n",
       "76               No   1.0.0   Active                  everyday; comfy   \n",
       "77               No   1.0.0   Simple                  everyday; comfy   \n",
       "78              Yes   1.0.0     Cool  everyday; outdoorsy; theatrical   \n",
       "84               No   1.0.0     Cute                  everyday; comfy   \n",
       "89              Yes   1.0.0     Cute      everyday; fairy tale; comfy   \n",
       "93               No   1.0.0   Active       everyday; outdoorsy; comfy   \n",
       "101              No   1.0.0   Active                  comfy; vacation   \n",
       "103             Yes   1.0.0     Cool              everyday; outdoorsy   \n",
       "107              No   1.0.0   Simple                  everyday; comfy   \n",
       "108              No   1.0.0   Simple                  everyday; comfy   \n",
       "109             Yes   1.0.0     Cool        everyday; comfy; vacation   \n",
       "111             Yes   1.0.0     Cool                    comfy; sporty   \n",
       "120              No   1.0.0     Cool                outdoorsy; sporty   \n",
       "123              No   1.0.0     Cool  formal; party; theatrical; work   \n",
       "128              No   1.0.0  Elegant                     formal; work   \n",
       "\n",
       "    Villager Equippable   Catalog                             Filename  \\\n",
       "0                   Yes  For sale               TopsTexTopTshirtsHAce0   \n",
       "1                   Yes  For sale            TopsTexTopOuterLChemical0   \n",
       "3                   Yes  For sale       TopsTexTopYshirtsLGakuranopen0   \n",
       "10                  Yes  For sale               TopsTexTopCoatLAnimal0   \n",
       "14                  Yes  For sale            TopsTexTopTshirtsHStripe0   \n",
       "16                  Yes  For sale           TopsTexTopTshirtsHHellokr0   \n",
       "17                  Yes  For sale               TopsTexTopCoatLAnorak0   \n",
       "20                  Yes  For sale                TopsTexTopCoatHApron0   \n",
       "28                  Yes  For sale        TopsTexTopOuterLArancardigan0   \n",
       "32                  Yes  For sale                TopsTexTopOuterLAran0   \n",
       "39                  Yes  For sale              TopsTexTopOuterLArgyle0   \n",
       "47                  Yes  For sale            TopsTexTopYshirtsLArgyle0   \n",
       "53                  Yes  For sale              TopsTexTopOuterLJersey0   \n",
       "62                  Yes  For sale          TopsTexTopTshirtsHBaseball0   \n",
       "68                  Yes  For sale  TopsTexTopTshirtsNBasketballshirts0   \n",
       "76                  Yes  For sale              TopsTexTopTshirtsHBear0   \n",
       "77                  Yes  For sale              TopsTexTopTshirtsHStar0   \n",
       "78                  Yes  For sale            TopsTexTopYshirtsLRiders0   \n",
       "84                  Yes  For sale            TopsTexTopTshirtsHFlower0   \n",
       "89                  Yes  For sale             TopsTexTopOuterLBlouson0   \n",
       "93                  Yes  For sale            TopsTexTopYshirtsLFleece0   \n",
       "101                 Yes  For sale         TopsTexTopYshirtsHPolynesia0   \n",
       "103                 Yes  For sale               TopsTexTopOuterLMaone0   \n",
       "107                 Yes  For sale              TopsTexTopTshirtsHMeat0   \n",
       "108                 Yes  For sale           TopsTexTopTshirtsHHellofr0   \n",
       "109                 Yes  For sale         TopsTexTopTshirtsHBotanical0   \n",
       "111                 Yes  For sale           TopsTexTopYshirtsHBowling0   \n",
       "120                 Yes  For sale             TopsTexTopOuterLBulldog0   \n",
       "123                 Yes  For sale             TopsTexTopYshirtsLSuits0   \n",
       "128                 Yes  For sale                 TopsTexTopCoatLCafe0   \n",
       "\n",
       "     Internal ID    Unique Entry ID Item Category Type  \n",
       "0           8532  7XCg953t2tGAPuzaR    Top Tshirt  NaN  \n",
       "1           5289  zAiLmCwSaWADqXkRf     Top Outer  NaN  \n",
       "3           4366  rAfEdHYdt5e4AGTya    Top Yshirt  NaN  \n",
       "10          4465  ozg6yMkXQzsmkjPsW      Top Coat  NaN  \n",
       "14          8198  WTG2RBsXk5cimHsis    Top Tshirt  NaN  \n",
       "16         12117  mfMor9YWpsoEbPK5e    Top Tshirt  NaN  \n",
       "17          4793  agpR79ZTHcuQheDdF      Top Coat  NaN  \n",
       "20          3228  LTZqXvkrNxza2nMPb      Top Coat  NaN  \n",
       "28          3643  fJR97K7r3qHAB2TLr     Top Outer  NaN  \n",
       "32          3633  Bk2v8mfDeJJX3khg6     Top Outer  NaN  \n",
       "39          3579  xEqYEzdaBXvj9s346     Top Outer  NaN  \n",
       "47          3262  QfjxZgK6b3zp2hr7T    Top Yshirt  NaN  \n",
       "53          3244  zgcZP2SW38SpysHJA     Top Outer  NaN  \n",
       "62          4419  vYCgqwhsoMRcDJfF3    Top Tshirt  NaN  \n",
       "68          2727  dKYrtNZerQWq6Gt7W    Top Tshirt  NaN  \n",
       "76          8196  6smBqDtdwrcsSvnSD    Top Tshirt  NaN  \n",
       "77          6822  JpATLjagWyw8q8zqx    Top Tshirt  NaN  \n",
       "78          3198  evbChpmd6EcLcM3Tz    Top Yshirt  NaN  \n",
       "84          8205  M7qCnBYqNGLyLSskf    Top Tshirt  NaN  \n",
       "89          4598  tsxSZ2Dy6kYf8hsyR     Top Outer  NaN  \n",
       "93          3705  ajrhqED9o9KJD82qY    Top Yshirt  NaN  \n",
       "101         8206  KuY6kA7WnY24gjmhF    Top Yshirt  NaN  \n",
       "103         4401  vih97zG2HgN8cg54w     Top Outer  NaN  \n",
       "107         8200  MtsJHoZtAniizhXzb    Top Tshirt  NaN  \n",
       "108        12115  2eprjJTFoSP9v8fem    Top Tshirt  NaN  \n",
       "109         9831  oMALunHDp3gEEuwXv    Top Tshirt  NaN  \n",
       "111         3698  nqr3XGTNmtobMKMch    Top Yshirt  NaN  \n",
       "120         5980  ggs2xnxP45Y8SPtKL     Top Outer  NaN  \n",
       "123         4363  LzQ8TynJGkTh4xXQa    Top Yshirt  NaN  \n",
       "128         3178  SHHiYrQ9ozi4X7iqW      Top Coat  NaN  "
      ]
     },
     "execution_count": 28,
     "metadata": {},
     "output_type": "execute_result"
    }
   ],
   "source": [
    "# Take a quick look at the dataset\n",
    "itemDat.head(30)"
   ]
  },
  {
   "cell_type": "markdown",
   "metadata": {},
   "source": [
    "### Initial Sample Descriptives"
   ]
  },
  {
   "cell_type": "code",
   "execution_count": 29,
   "metadata": {
    "scrolled": true
   },
   "outputs": [
    {
     "data": {
      "text/plain": [
       "Able Sisters                    554\n",
       "Nook Shopping Catalog            37\n",
       "Kicks                            24\n",
       "Labelle                           8\n",
       "Nook Shopping Promotion           3\n",
       "Wedding Season                    3\n",
       "International Children's Day      2\n",
       "New Year's Eve                    2\n",
       "Winter Solstice Festival          1\n",
       "Dodo Airlines                     1\n",
       "Summer Solstice Festival          1\n",
       "Name: Source, dtype: int64"
      ]
     },
     "execution_count": 29,
     "metadata": {},
     "output_type": "execute_result"
    }
   ],
   "source": [
    "# Analyze how many clothing items are sold/acquired from each vendor\n",
    "itemDat['Source'].value_counts('')"
   ]
  },
  {
   "cell_type": "code",
   "execution_count": 30,
   "metadata": {
    "scrolled": true
   },
   "outputs": [
    {
     "data": {
      "text/plain": [
       "Top Tshirt             97\n",
       "Hat                    79\n",
       "Top Yshirt             70\n",
       "Top Coat               59\n",
       "Top Outer              47\n",
       "Head Gear              32\n",
       "Shoe Low Cut           30\n",
       "Bottom Pants Normal    29\n",
       "Bottom Pants Wide      25\n",
       "Bottom Skirt Long      23\n",
       "Head Ornament          17\n",
       "Bottom Skirt Box       17\n",
       "Bottom Pants Half      16\n",
       "Shoe Knee High         16\n",
       "Other                  16\n",
       "Bottom Skirt Aline     16\n",
       "Shoe High Cut          14\n",
       "Bottom Pants Hot       13\n",
       "Full Mask              11\n",
       "Partial Mask            5\n",
       "Top Puff                3\n",
       "Glass Slipper           1\n",
       "Name: Item Category, dtype: int64"
      ]
     },
     "execution_count": 30,
     "metadata": {},
     "output_type": "execute_result"
    }
   ],
   "source": [
    "# Analyze the exact number of items in each category\n",
    "itemDat['Item Category'].value_counts('')"
   ]
  },
  {
   "cell_type": "code",
   "execution_count": 31,
   "metadata": {},
   "outputs": [],
   "source": [
    "# CREATE A CUSTOM COLOR PALETTE FOR THE NEXT GRAPH\n",
    "# Create an array with the colors you want to use. I want to categorize these sections.\n",
    "CatColors = [\"#299438\",\"#299438\",\"#299438\",\"#299438\",\"#299438\",\"#4073FF\",\"#4073FF\",\"#4073FF\",\"#4073FF\",\"#4073FF\",\n",
    "             \"#4073FF\",\"#4073FF\", \"#117864\",\"#117864\",\"#117864\",\"#117864\",\"#117864\",\"#96C3EB\",\"#96C3EB\",\"#96C3EB\",\n",
    "             \"#96C3EB\",\"#96C3EB\"]\n",
    "# Green Tops, Blue Bottoms, Blue-Green Hats, Light Blue Shoes\n",
    "\n",
    "# Set your custom color palette\n",
    "sns.set_palette(sns.color_palette(CatColors))"
   ]
  },
  {
   "cell_type": "code",
   "execution_count": 32,
   "metadata": {},
   "outputs": [
    {
     "data": {
      "image/png": "[encoded data removed]",
      "text/plain": [
       "<Figure size 864x864 with 1 Axes>"
      ]
     },
     "metadata": {},
     "output_type": "display_data"
    }
   ],
   "source": [
    "# How many single clothing items are in each category?\n",
    "sns.set_theme(style=\"whitegrid\") # from Data Science 1500\n",
    "sns.set(rc={'figure.figsize':(12,12)})\n",
    "sns.countplot(x='Item Category', data=itemDat, palette=CatColors) # Change to item dataset\n",
    "\n",
    "plt.xticks(rotation = 80) # set more descriptive, rotated labels\n",
    "\n",
    "plt.show()\n",
    "\n",
    "### CITATION: https://seaborn.pydata.org/generated/seaborn.countplot.html\n",
    "### COLOR CITATION: https://medium.com/@morganjonesartist/color-guide-to-seaborn-palettes-da849406d44f\n",
    "### WHITEGRID CITATION: Dr. Scott Siepel, Data 1500"
   ]
  },
  {
   "cell_type": "markdown",
   "metadata": {},
   "source": [
    "## Regression Analysis to Determine Factors Affecting Resale Value and Buy Price"
   ]
  },
  {
   "cell_type": "markdown",
   "metadata": {},
   "source": [
    "* Within the game, each item has a buy price and sell price. One can buy an item for a specific price and re-sell the item for another price.\n",
    "* Our initial regression goal was to determine if certain features affected whether some items held their value better than other items.\n",
    "* To judge how well an item holds value, we will calculate re-sell price / buy price. This will give us the percentage of the original price one will receive if they re-sell an item. The higher the percentage, the better an item has held its value."
   ]
  },
  {
   "cell_type": "code",
   "execution_count": 33,
   "metadata": {},
   "outputs": [],
   "source": [
    "# Create variable to see how much of original cost of item is returned upon resale\n",
    "cDatReg = cDat.copy()\n",
    "cDatReg['Value Returned'] = cDatReg['Sell'] / cDatReg['Buy']"
   ]
  },
  {
   "cell_type": "code",
   "execution_count": 34,
   "metadata": {
    "scrolled": false
   },
   "outputs": [
    {
     "data": {
      "text/plain": [
       "0.250000    2593\n",
       "0.248980      51\n",
       "0.248571      44\n",
       "0.249351      27\n",
       "0.249451      22\n",
       "0.249206      19\n",
       "0.249524      18\n",
       "0.249660      13\n",
       "0.249655      13\n",
       "0.249714      13\n",
       "0.249624       8\n",
       "0.249412       7\n",
       "0.249780       6\n",
       "0.249600       5\n",
       "0.249565       4\n",
       "0.249834       4\n",
       "0.249677       4\n",
       "0.249841       4\n",
       "Name: Value Returned, dtype: int64"
      ]
     },
     "execution_count": 34,
     "metadata": {},
     "output_type": "execute_result"
    }
   ],
   "source": [
    "# View value counts for value returned feature\n",
    "cDatReg['Value Returned'].value_counts()"
   ]
  },
  {
   "cell_type": "markdown",
   "metadata": {},
   "source": [
    "* It appears items have a constant resale value equal to 25% of the original cost. Since 25% appears to be a standard, ubiquitous re-sell marker, we will not run a regression for value returned. Instead, we will run a regression with Buy as our target variable. Our new question is determining if certain features have an impact on the cost of an item.\n",
    "* Since Value Returned is roughly 25% for all items, we will not use Value Returned as a feature in our regression. This feature would add no unique explanatory power.\n",
    "* In addition, we will not use sell as a feature in our regression. If one has the sell price, one can easily calculate the buy price as the sell price is always 25% of the buy price. Therefore, our regression would be irrelevant if sell price were included as a feature."
   ]
  },
  {
   "cell_type": "code",
   "execution_count": 35,
   "metadata": {},
   "outputs": [],
   "source": [
    "# Drop value returned from the dataset\n",
    "cDatReg = cDatReg.drop(['Value Returned', 'Sell'], axis = 1)"
   ]
  },
  {
   "cell_type": "markdown",
   "metadata": {},
   "source": [
    "* Before we move forward with cleaning our object datatypes for the regression, we can use the groupby function to identify patterns among buy price.\n",
    "* For example, we can look at the mean buying price for each item category to see if some categories appear to have buy prices."
   ]
  },
  {
   "cell_type": "code",
   "execution_count": 36,
   "metadata": {
    "scrolled": true
   },
   "outputs": [
    {
     "data": {
      "text/plain": [
       "Item Category\n",
       "Glass Slipper          4040\n",
       "Shoe Knee High         1920\n",
       "Top Coat               1680\n",
       "Shoe High Cut          1450\n",
       "Full Mask              1440\n",
       "Bottom Skirt Long      1320\n",
       "Bottom Skirt Box       1300\n",
       "Top Outer              1250\n",
       "Top Yshirt             1200\n",
       "Shoe Low Cut           1200\n",
       "Bottom Skirt Aline     1140\n",
       "Head Gear              1120\n",
       "Head Ornament          1120\n",
       "Bottom Pants Wide      1100\n",
       "Bottom Pants Normal    1100\n",
       "Other                  1040\n",
       "Partial Mask           1040\n",
       "Bottom Pants Hot        980\n",
       "Bottom Pants Half       980\n",
       "Top Puff                960\n",
       "Hat                     880\n",
       "Top Tshirt              850\n",
       "Name: Buy, dtype: int64"
      ]
     },
     "execution_count": 36,
     "metadata": {},
     "output_type": "execute_result"
    }
   ],
   "source": [
    "# Use groupby to see if some item categories have higher buy prices\n",
    "# NOTE! - groupby code taken from stack overflow\n",
    "cDatReg.groupby('Item Category')['Buy'].median().sort_values(ascending = False)"
   ]
  },
  {
   "cell_type": "markdown",
   "metadata": {},
   "source": [
    "* There does not appear to be much pattern among average buy prices for various items.\n",
    "* It does appear shoes in general cost more than pants. However, one cannot say with certainty based solely on the results from the mean groupby function.\n",
    "* The glass slipper category cost significantly more than other categories. However, there is only one glass slipper item in the game. Therefore, the average buy price for glass slipper is based on one record; not a group average."
   ]
  },
  {
   "cell_type": "code",
   "execution_count": 37,
   "metadata": {},
   "outputs": [
    {
     "data": {
      "text/plain": [
       "Color 1\n",
       "Brown         1300\n",
       "Colorful      1280\n",
       "Beige         1200\n",
       "Red           1120\n",
       "Purple        1120\n",
       "Pink          1120\n",
       "Light blue    1120\n",
       "Gray          1120\n",
       "Blue          1120\n",
       "Black         1120\n",
       "Yellow        1100\n",
       "Orange        1100\n",
       "Green         1100\n",
       "White         1090\n",
       "Name: Buy, dtype: int64"
      ]
     },
     "execution_count": 37,
     "metadata": {},
     "output_type": "execute_result"
    }
   ],
   "source": [
    "# Use groupby to see if some color categories have higher buy prices\n",
    "cDatReg.groupby('Color 1')['Buy'].median().sort_values(ascending = False)"
   ]
  },
  {
   "cell_type": "markdown",
   "metadata": {},
   "source": [
    "* On average, items with a primary color of brown cost more, and items with a primary color of white cost less. However, average prices among most items are too close to draw much of a conclusion based on the mean groupby function alone."
   ]
  },
  {
   "cell_type": "markdown",
   "metadata": {},
   "source": [
    "* Having done initial groupby functions, we can convert object datatype features to prepare for our regression."
   ]
  },
  {
   "cell_type": "code",
   "execution_count": 38,
   "metadata": {
    "scrolled": true
   },
   "outputs": [
    {
     "name": "stdout",
     "output_type": "stream",
     "text": [
      "<class 'pandas.core.frame.DataFrame'>\n",
      "Int64Index: 2855 entries, 0 to 2998\n",
      "Data columns (total 22 columns):\n",
      " #   Column                 Non-Null Count  Dtype  \n",
      "---  ------                 --------------  -----  \n",
      " 0   Name                   2855 non-null   object \n",
      " 1   Variation              2798 non-null   object \n",
      " 2   DIY                    2855 non-null   object \n",
      " 3   Buy                    2855 non-null   int64  \n",
      " 4   Color 1                2855 non-null   object \n",
      " 5   Color 2                2855 non-null   object \n",
      " 6   Size                   2855 non-null   object \n",
      " 7   Miles Price            0 non-null      float64\n",
      " 8   Source                 2855 non-null   object \n",
      " 9   Source Notes           2645 non-null   object \n",
      " 10  Seasonal Availability  2855 non-null   object \n",
      " 11  Mannequin Piece        2855 non-null   object \n",
      " 12  Version                2855 non-null   object \n",
      " 13  Style                  2855 non-null   object \n",
      " 14  Label Themes           2854 non-null   object \n",
      " 15  Villager Equippable    2855 non-null   object \n",
      " 16  Catalog                2855 non-null   object \n",
      " 17  Filename               2855 non-null   object \n",
      " 18  Internal ID            2855 non-null   int64  \n",
      " 19  Unique Entry ID        2855 non-null   object \n",
      " 20  Item Category          2855 non-null   object \n",
      " 21  Type                   599 non-null    object \n",
      "dtypes: float64(1), int64(2), object(19)\n",
      "memory usage: 513.0+ KB\n"
     ]
    }
   ],
   "source": [
    "# Confirm number of null values and object data types\n",
    "cDatReg.info()"
   ]
  },
  {
   "cell_type": "code",
   "execution_count": 39,
   "metadata": {},
   "outputs": [],
   "source": [
    "# Drop features which will not add value / explanatory power to the model\n",
    "cDatReg = cDatReg.drop(['Name', 'Variation', 'DIY', 'Size', 'Miles Price', 'Source Notes',\n",
    "                     'Filename', 'Internal ID', 'Unique Entry ID', 'Type' ], axis = 1)"
   ]
  },
  {
   "cell_type": "code",
   "execution_count": 40,
   "metadata": {
    "scrolled": true
   },
   "outputs": [
    {
     "name": "stdout",
     "output_type": "stream",
     "text": [
      "<class 'pandas.core.frame.DataFrame'>\n",
      "Int64Index: 2855 entries, 0 to 2998\n",
      "Data columns (total 12 columns):\n",
      " #   Column                 Non-Null Count  Dtype \n",
      "---  ------                 --------------  ----- \n",
      " 0   Buy                    2855 non-null   int64 \n",
      " 1   Color 1                2855 non-null   object\n",
      " 2   Color 2                2855 non-null   object\n",
      " 3   Source                 2855 non-null   object\n",
      " 4   Seasonal Availability  2855 non-null   object\n",
      " 5   Mannequin Piece        2855 non-null   object\n",
      " 6   Version                2855 non-null   object\n",
      " 7   Style                  2855 non-null   object\n",
      " 8   Label Themes           2854 non-null   object\n",
      " 9   Villager Equippable    2855 non-null   object\n",
      " 10  Catalog                2855 non-null   object\n",
      " 11  Item Category          2855 non-null   object\n",
      "dtypes: int64(1), object(11)\n",
      "memory usage: 290.0+ KB\n"
     ]
    }
   ],
   "source": [
    "# Confirm number of null values and object data types\n",
    "cDatReg.info()"
   ]
  },
  {
   "cell_type": "markdown",
   "metadata": {},
   "source": [
    "* Label Themes is the only feature with a null value. Since Label Themes is an object data type, imputing a value for the null value is slightly challenging. Assuming a theme type for the null value would most likely result in an incorrect input. Since there is only record with a null value, it is best to drop the record"
   ]
  },
  {
   "cell_type": "code",
   "execution_count": 41,
   "metadata": {},
   "outputs": [],
   "source": [
    "# Drop record with null value\n",
    "cDatReg = cDatReg.dropna()"
   ]
  },
  {
   "cell_type": "markdown",
   "metadata": {},
   "source": [
    "* We are left with several object datatypes.\n",
    "* We could label encode some features and create dummy variables for other features. However, we may have features with too many unique values to effciently create individual dummy variables for.\n",
    "* Looking at the number of unique values for each object datatype will allow us to decide on which method to use to convert object datatype features."
   ]
  },
  {
   "cell_type": "code",
   "execution_count": 42,
   "metadata": {
    "scrolled": true
   },
   "outputs": [
    {
     "name": "stdout",
     "output_type": "stream",
     "text": [
      "Buy 87\n",
      "Color 1 14\n",
      "Color 2 14\n",
      "Source 11\n",
      "Seasonal Availability 3\n",
      "Mannequin Piece 2\n",
      "Version 3\n",
      "Style 6\n",
      "Label Themes 115\n",
      "Villager Equippable 2\n",
      "Catalog 3\n",
      "Item Category 22\n"
     ]
    }
   ],
   "source": [
    "# See number of unique values for each feature\n",
    "# Use to determine dummies vs label encoding\n",
    "for x in cDatReg.columns.values:\n",
    "    print(x, cDatReg[x].nunique())"
   ]
  },
  {
   "cell_type": "markdown",
   "metadata": {},
   "source": [
    "* Label Themes has too many unique values to realistically create individual dummy variables. Upon closer look, there are only a handful of themes. However, some items cover multiple themes. Thus, we have several unique values but only a handful of themes (ex., 'work, vacation' is a unique label theme value, but work and vacation are the themes).\n",
    "* We can create one column for each theme. Rather than combining all themes an item covers into one column, we can make a note of each theme an item covers in separate columns.\n",
    "* For example, rather than having a Label Theme record of 'comfy, party,' we can have two columns; one for comfy and one for party. The record would have a value of 1 in both the comfy and party column.\n",
    "* Creating separate columns for each theme allows us to better use the Label Themes feature.\n",
    "* In addition to recording a column for each label theme, we will create a column which indicates how many themes one item covers."
   ]
  },
  {
   "cell_type": "code",
   "execution_count": 43,
   "metadata": {},
   "outputs": [],
   "source": [
    "# Create one list for each theme to indicate whether the record in question touches the respective theme\n",
    "# 0 = No; 1 = Yes\n",
    "comfy = []\n",
    "everyday = []\n",
    "fairyTale = []\n",
    "formal = []\n",
    "goth = []\n",
    "outdoorsy = []\n",
    "party = []\n",
    "sporty = []\n",
    "theatrical = []\n",
    "vacation = []\n",
    "work = []\n",
    "themeCount = [] # Indicate how many themes one item covers\n",
    "\n",
    "# Iterate through each record\n",
    "# Test each label theme against each record\n",
    "# If the record covers the respective label theme, append 1 in the appropriate list; otherwise, append 0\n",
    "for x in cDatReg['Label Themes']:\n",
    "    tally = 0\n",
    "    if 'comfy' in x: \n",
    "        comfy.append(1)\n",
    "        tally += 1\n",
    "    else: comfy.append(0)\n",
    "        \n",
    "    if 'everyday' in x: \n",
    "        everyday.append(1)\n",
    "        tally += 1\n",
    "    else: everyday.append(0)\n",
    "        \n",
    "    if 'fairy tale' in x: \n",
    "        fairyTale.append(1)\n",
    "        tally += 1\n",
    "    else: fairyTale.append(0)\n",
    "        \n",
    "    if 'formal' in x: \n",
    "        formal.append(1)\n",
    "        tally += 1\n",
    "    else: formal.append(0)\n",
    "        \n",
    "    if 'goth' in x: \n",
    "        goth.append(1)\n",
    "        tally += 1\n",
    "    else: goth.append(0)\n",
    "        \n",
    "    if 'outdoorsy' in x: \n",
    "        outdoorsy.append(1)\n",
    "        tally += 1\n",
    "    else: outdoorsy.append(0)\n",
    "        \n",
    "    if 'party' in x: \n",
    "        party.append(1)\n",
    "        tally += 1\n",
    "    else: party.append(0)\n",
    "        \n",
    "    if 'sporty' in x: \n",
    "        sporty.append(1)\n",
    "        tally += 1\n",
    "    else: sporty.append(0)\n",
    "        \n",
    "    if 'theatrical' in x: \n",
    "        theatrical.append(1)\n",
    "        tally += 1\n",
    "    else: theatrical.append(0)\n",
    "        \n",
    "    if 'vacation' in x: \n",
    "        vacation.append(1)\n",
    "        tally += 1\n",
    "    else: vacation.append(0)\n",
    "        \n",
    "    if 'work' in x: \n",
    "        work.append(1)\n",
    "        tally += 1\n",
    "    else: work.append(0)\n",
    "    themeCount.append(tally)"
   ]
  },
  {
   "cell_type": "markdown",
   "metadata": {},
   "source": [
    "* We can now add each label theme indicator list to the dataframe. This will allow us to see every label theme one record covers.\n",
    "* We will create a dictionary for each label theme indicator list.\n",
    "* We can then iterate through the dictionary using one for loop to attach each label theme indicator list to the dataframe."
   ]
  },
  {
   "cell_type": "code",
   "execution_count": 44,
   "metadata": {},
   "outputs": [],
   "source": [
    "# Create dictionary with each label theme indicator list\n",
    "# NOTE! - format for dictionary is from class notes\n",
    "nameDict = {'comfy': comfy, 'everyday': everyday, 'fairy tale': fairyTale, 'formal': formal,\n",
    "           'goth': goth, 'outdoorsy': outdoorsy, 'theatrical': theatrical, 'vacation': vacation,\n",
    "           'work': work, 'total themes': themeCount}\n",
    "\n",
    "# Attach label theme indicators to dataset\n",
    "for x in nameDict:\n",
    "    cDatReg[x] = nameDict[x]"
   ]
  },
  {
   "cell_type": "code",
   "execution_count": 45,
   "metadata": {},
   "outputs": [],
   "source": [
    "# Drop original label theme feature\n",
    "cDatReg = cDatReg.drop(['Label Themes'], axis = 1)"
   ]
  },
  {
   "cell_type": "markdown",
   "metadata": {},
   "source": [
    "* Now that we have a total theme feature, we can circle back to the groupby function to see if items covering more themes have, on average, higher buy prices."
   ]
  },
  {
   "cell_type": "code",
   "execution_count": 46,
   "metadata": {},
   "outputs": [
    {
     "data": {
      "text/plain": [
       "total themes\n",
       "6    1500\n",
       "5    1320\n",
       "4    1200\n",
       "1    1200\n",
       "3    1120\n",
       "2    1120\n",
       "Name: Buy, dtype: int64"
      ]
     },
     "execution_count": 46,
     "metadata": {},
     "output_type": "execute_result"
    }
   ],
   "source": [
    "# Use groupby to see if some theme categories have higher buy prices\n",
    "cDatReg.groupby('total themes')['Buy'].median().sort_values(ascending = False)"
   ]
  },
  {
   "cell_type": "markdown",
   "metadata": {},
   "source": [
    "* One would expect items which cover multiple themes to cost more than items which cover only one theme. After all, items which cover mutliple themes may have more utility than items which cover only one theme.\n",
    "* Based on the mean groupby function, it does appear items which cover multiple themes have on average a higher buy price than items which cover less themes.\n",
    "* Items which cover six themes seem to be, on average, noticeably more expensive than other items."
   ]
  },
  {
   "cell_type": "code",
   "execution_count": 47,
   "metadata": {},
   "outputs": [],
   "source": [
    "# Label encode binary variables\n",
    "# 0 = No; 1 = Yes\n",
    "# NOTE! - lc code taken from DATA3550\n",
    "cDatReg['Mannequin Piece'] = lc.fit_transform(cDatReg['Mannequin Piece'])\n",
    "cDatReg['Villager Equippable'] = lc.fit_transform(cDatReg['Villager Equippable'])"
   ]
  },
  {
   "cell_type": "code",
   "execution_count": 48,
   "metadata": {},
   "outputs": [],
   "source": [
    "# Get the dummy variables for remaining object data type features\n",
    "# NOTE! - code to get dummy variables taken from DATA1500\n",
    "dummies = pd.get_dummies(cDatReg[['Color 1', 'Color 2', 'Source', 'Seasonal Availability',\n",
    "                                'Version', 'Style', 'Catalog', 'Item Category']], drop_first = False)"
   ]
  },
  {
   "cell_type": "code",
   "execution_count": 49,
   "metadata": {},
   "outputs": [],
   "source": [
    "# Merge the newly created dummy variables with the X set of predictors\n",
    "cDatReg = pd.concat([cDatReg, dummies[dummies.columns.values]], axis = 1)"
   ]
  },
  {
   "cell_type": "code",
   "execution_count": 50,
   "metadata": {},
   "outputs": [],
   "source": [
    "# Drop the features for which we have created dummy variables\n",
    "cDatReg = cDatReg.drop(['Color 1', 'Color 2', 'Source', 'Seasonal Availability',\n",
    "                        'Version', 'Style', 'Catalog', 'Item Category'], axis = 1)"
   ]
  },
  {
   "cell_type": "code",
   "execution_count": 51,
   "metadata": {
    "scrolled": true
   },
   "outputs": [
    {
     "name": "stdout",
     "output_type": "stream",
     "text": [
      "<class 'pandas.core.frame.DataFrame'>\n",
      "Int64Index: 2854 entries, 0 to 2998\n",
      "Data columns (total 89 columns):\n",
      " #   Column                               Non-Null Count  Dtype\n",
      "---  ------                               --------------  -----\n",
      " 0   Buy                                  2854 non-null   int64\n",
      " 1   Mannequin Piece                      2854 non-null   int32\n",
      " 2   Villager Equippable                  2854 non-null   int32\n",
      " 3   comfy                                2854 non-null   int64\n",
      " 4   everyday                             2854 non-null   int64\n",
      " 5   fairy tale                           2854 non-null   int64\n",
      " 6   formal                               2854 non-null   int64\n",
      " 7   goth                                 2854 non-null   int64\n",
      " 8   outdoorsy                            2854 non-null   int64\n",
      " 9   theatrical                           2854 non-null   int64\n",
      " 10  vacation                             2854 non-null   int64\n",
      " 11  work                                 2854 non-null   int64\n",
      " 12  total themes                         2854 non-null   int64\n",
      " 13  Color 1_Beige                        2854 non-null   uint8\n",
      " 14  Color 1_Black                        2854 non-null   uint8\n",
      " 15  Color 1_Blue                         2854 non-null   uint8\n",
      " 16  Color 1_Brown                        2854 non-null   uint8\n",
      " 17  Color 1_Colorful                     2854 non-null   uint8\n",
      " 18  Color 1_Gray                         2854 non-null   uint8\n",
      " 19  Color 1_Green                        2854 non-null   uint8\n",
      " 20  Color 1_Light blue                   2854 non-null   uint8\n",
      " 21  Color 1_Orange                       2854 non-null   uint8\n",
      " 22  Color 1_Pink                         2854 non-null   uint8\n",
      " 23  Color 1_Purple                       2854 non-null   uint8\n",
      " 24  Color 1_Red                          2854 non-null   uint8\n",
      " 25  Color 1_White                        2854 non-null   uint8\n",
      " 26  Color 1_Yellow                       2854 non-null   uint8\n",
      " 27  Color 2_Beige                        2854 non-null   uint8\n",
      " 28  Color 2_Black                        2854 non-null   uint8\n",
      " 29  Color 2_Blue                         2854 non-null   uint8\n",
      " 30  Color 2_Brown                        2854 non-null   uint8\n",
      " 31  Color 2_Colorful                     2854 non-null   uint8\n",
      " 32  Color 2_Gray                         2854 non-null   uint8\n",
      " 33  Color 2_Green                        2854 non-null   uint8\n",
      " 34  Color 2_Light blue                   2854 non-null   uint8\n",
      " 35  Color 2_Orange                       2854 non-null   uint8\n",
      " 36  Color 2_Pink                         2854 non-null   uint8\n",
      " 37  Color 2_Purple                       2854 non-null   uint8\n",
      " 38  Color 2_Red                          2854 non-null   uint8\n",
      " 39  Color 2_White                        2854 non-null   uint8\n",
      " 40  Color 2_Yellow                       2854 non-null   uint8\n",
      " 41  Source_Able Sisters                  2854 non-null   uint8\n",
      " 42  Source_Dodo Airlines                 2854 non-null   uint8\n",
      " 43  Source_International Children's Day  2854 non-null   uint8\n",
      " 44  Source_Kicks                         2854 non-null   uint8\n",
      " 45  Source_Labelle                       2854 non-null   uint8\n",
      " 46  Source_New Year's Eve                2854 non-null   uint8\n",
      " 47  Source_Nook Shopping Catalog         2854 non-null   uint8\n",
      " 48  Source_Nook Shopping Promotion       2854 non-null   uint8\n",
      " 49  Source_Summer Solstice Festival      2854 non-null   uint8\n",
      " 50  Source_Wedding Season                2854 non-null   uint8\n",
      " 51  Source_Winter Solstice Festival      2854 non-null   uint8\n",
      " 52  Seasonal Availability_All Year       2854 non-null   uint8\n",
      " 53  Seasonal Availability_Summer         2854 non-null   uint8\n",
      " 54  Seasonal Availability_Winter         2854 non-null   uint8\n",
      " 55  Version_1.0.0                        2854 non-null   uint8\n",
      " 56  Version_1.1.0                        2854 non-null   uint8\n",
      " 57  Version_1.2.0                        2854 non-null   uint8\n",
      " 58  Style_Active                         2854 non-null   uint8\n",
      " 59  Style_Cool                           2854 non-null   uint8\n",
      " 60  Style_Cute                           2854 non-null   uint8\n",
      " 61  Style_Elegant                        2854 non-null   uint8\n",
      " 62  Style_Gorgeous                       2854 non-null   uint8\n",
      " 63  Style_Simple                         2854 non-null   uint8\n",
      " 64  Catalog_For sale                     2854 non-null   uint8\n",
      " 65  Catalog_Not for sale                 2854 non-null   uint8\n",
      " 66  Catalog_Not in catalog               2854 non-null   uint8\n",
      " 67  Item Category_Bottom Pants Half      2854 non-null   uint8\n",
      " 68  Item Category_Bottom Pants Hot       2854 non-null   uint8\n",
      " 69  Item Category_Bottom Pants Normal    2854 non-null   uint8\n",
      " 70  Item Category_Bottom Pants Wide      2854 non-null   uint8\n",
      " 71  Item Category_Bottom Skirt Aline     2854 non-null   uint8\n",
      " 72  Item Category_Bottom Skirt Box       2854 non-null   uint8\n",
      " 73  Item Category_Bottom Skirt Long      2854 non-null   uint8\n",
      " 74  Item Category_Full Mask              2854 non-null   uint8\n",
      " 75  Item Category_Glass Slipper          2854 non-null   uint8\n",
      " 76  Item Category_Hat                    2854 non-null   uint8\n",
      " 77  Item Category_Head Gear              2854 non-null   uint8\n",
      " 78  Item Category_Head Ornament          2854 non-null   uint8\n",
      " 79  Item Category_Other                  2854 non-null   uint8\n",
      " 80  Item Category_Partial Mask           2854 non-null   uint8\n",
      " 81  Item Category_Shoe High Cut          2854 non-null   uint8\n",
      " 82  Item Category_Shoe Knee High         2854 non-null   uint8\n",
      " 83  Item Category_Shoe Low Cut           2854 non-null   uint8\n",
      " 84  Item Category_Top Coat               2854 non-null   uint8\n",
      " 85  Item Category_Top Outer              2854 non-null   uint8\n",
      " 86  Item Category_Top Puff               2854 non-null   uint8\n",
      " 87  Item Category_Top Tshirt             2854 non-null   uint8\n",
      " 88  Item Category_Top Yshirt             2854 non-null   uint8\n",
      "dtypes: int32(2), int64(11), uint8(76)\n",
      "memory usage: 501.7 KB\n"
     ]
    }
   ],
   "source": [
    "# Look to see if changes were correctly implimented\n",
    "cDatReg.info()"
   ]
  },
  {
   "cell_type": "markdown",
   "metadata": {},
   "source": [
    "* We have no object datatypes left and no null values. Therefore, we are able to run the regression.\n",
    "* We will run a backwards regression. We run the regression with all features. We then remove the feature with the highest insignificant p-value. We run the regression again and repeat the process until we are left with only significant features.\n",
    "* In order to run a backwards regression, we can create a function to keep looping through the regression, feature by feature, until only significant features remain.\n",
    "* Buy is our target variable. The goal of the regression is to illustrate those features which are significant in explaining variation in buy price among items."
   ]
  },
  {
   "cell_type": "code",
   "execution_count": 52,
   "metadata": {},
   "outputs": [],
   "source": [
    "# Define function to run backwards regression.\n",
    "# Function will step back and eliminate non sig features one by one until only sig features remain\n",
    "# NOTE! - most of the regression code within the function came from a combination of DATA1500 and DATA3550\n",
    "\n",
    "def backReg(df, target, sigLevel):\n",
    "\n",
    "    # Create matrix of predictors and add constant\n",
    "    X_reg = sm.add_constant(df.drop(target, axis = 1))\n",
    "\n",
    "    # Create data set with only target variable\n",
    "    y = df[target]\n",
    " \n",
    "    reg = sm.OLS(y, X_reg).fit()\n",
    "    pred = reg.predict(X_reg)\n",
    "    \n",
    "    colsTick = X_reg\n",
    "\n",
    "    high = 100\n",
    "    while high > sigLevel:\n",
    "        z = 0\n",
    "        high = 0\n",
    "        colsTick = X_reg\n",
    "        for x in range (1,len(reg.pvalues)):\n",
    "            if reg.pvalues[x] > high and reg.pvalues[x] > sigLevel:\n",
    "                high = reg.pvalues[x]\n",
    "                z = x\n",
    "        if z > 0:\n",
    "            X_reg = X_reg.drop([colsTick.columns[z]], axis = 1)\n",
    "            reg = sm.OLS(y, X_reg).fit()\n",
    "            pred = reg.predict(X_reg)\n",
    "        \n",
    "    return reg.summary()"
   ]
  },
  {
   "cell_type": "code",
   "execution_count": 53,
   "metadata": {
    "scrolled": true
   },
   "outputs": [
    {
     "data": {
      "text/html": [
       "<table class=\"simpletable\">\n",
       "<caption>OLS Regression Results</caption>\n",
       "<tr>\n",
       "  <th>Dep. Variable:</th>           <td>Buy</td>       <th>  R-squared:         </th> <td>   0.033</td> \n",
       "</tr>\n",
       "<tr>\n",
       "  <th>Model:</th>                   <td>OLS</td>       <th>  Adj. R-squared:    </th> <td>   0.031</td> \n",
       "</tr>\n",
       "<tr>\n",
       "  <th>Method:</th>             <td>Least Squares</td>  <th>  F-statistic:       </th> <td>   16.29</td> \n",
       "</tr>\n",
       "<tr>\n",
       "  <th>Date:</th>             <td>Sat, 27 Nov 2021</td> <th>  Prob (F-statistic):</th> <td>1.57e-18</td> \n",
       "</tr>\n",
       "<tr>\n",
       "  <th>Time:</th>                 <td>15:15:50</td>     <th>  Log-Likelihood:    </th> <td> -33347.</td> \n",
       "</tr>\n",
       "<tr>\n",
       "  <th>No. Observations:</th>      <td>  2854</td>      <th>  AIC:               </th> <td>6.671e+04</td>\n",
       "</tr>\n",
       "<tr>\n",
       "  <th>Df Residuals:</th>          <td>  2847</td>      <th>  BIC:               </th> <td>6.675e+04</td>\n",
       "</tr>\n",
       "<tr>\n",
       "  <th>Df Model:</th>              <td>     6</td>      <th>                     </th>     <td> </td>    \n",
       "</tr>\n",
       "<tr>\n",
       "  <th>Covariance Type:</th>      <td>nonrobust</td>    <th>                     </th>     <td> </td>    \n",
       "</tr>\n",
       "</table>\n",
       "<table class=\"simpletable\">\n",
       "<tr>\n",
       "               <td></td>                  <th>coef</th>     <th>std err</th>      <th>t</th>      <th>P>|t|</th>  <th>[0.025</th>    <th>0.975]</th>  \n",
       "</tr>\n",
       "<tr>\n",
       "  <th>const</th>                       <td>  234.6870</td> <td>  625.149</td> <td>    0.375</td> <td> 0.707</td> <td> -991.103</td> <td> 1460.477</td>\n",
       "</tr>\n",
       "<tr>\n",
       "  <th>fairy tale</th>                  <td> 5189.5894</td> <td> 1727.534</td> <td>    3.004</td> <td> 0.003</td> <td> 1802.246</td> <td> 8576.933</td>\n",
       "</tr>\n",
       "<tr>\n",
       "  <th>Color 2_Yellow</th>              <td> 8254.4846</td> <td> 2002.554</td> <td>    4.122</td> <td> 0.000</td> <td> 4327.882</td> <td> 1.22e+04</td>\n",
       "</tr>\n",
       "<tr>\n",
       "  <th>Source_New Year's Eve</th>       <td> -2.61e+04</td> <td> 7874.425</td> <td>   -3.315</td> <td> 0.001</td> <td>-4.15e+04</td> <td>-1.07e+04</td>\n",
       "</tr>\n",
       "<tr>\n",
       "  <th>Style_Cute</th>                  <td>-4180.4987</td> <td> 1773.986</td> <td>   -2.357</td> <td> 0.019</td> <td>-7658.927</td> <td> -702.071</td>\n",
       "</tr>\n",
       "<tr>\n",
       "  <th>Style_Gorgeous</th>              <td> 1.811e+04</td> <td> 2811.937</td> <td>    6.441</td> <td> 0.000</td> <td> 1.26e+04</td> <td> 2.36e+04</td>\n",
       "</tr>\n",
       "<tr>\n",
       "  <th>Item Category_Head Ornament</th> <td> 1.193e+04</td> <td> 3639.870</td> <td>    3.278</td> <td> 0.001</td> <td> 4794.208</td> <td> 1.91e+04</td>\n",
       "</tr>\n",
       "</table>\n",
       "<table class=\"simpletable\">\n",
       "<tr>\n",
       "  <th>Omnibus:</th>       <td>8065.111</td> <th>  Durbin-Watson:     </th>   <td>   1.972</td>   \n",
       "</tr>\n",
       "<tr>\n",
       "  <th>Prob(Omnibus):</th>  <td> 0.000</td>  <th>  Jarque-Bera (JB):  </th> <td>229618761.877</td>\n",
       "</tr>\n",
       "<tr>\n",
       "  <th>Skew:</th>           <td>36.513</td>  <th>  Prob(JB):          </th>   <td>    0.00</td>   \n",
       "</tr>\n",
       "<tr>\n",
       "  <th>Kurtosis:</th>      <td>1390.656</td> <th>  Cond. No.          </th>   <td>    15.2</td>   \n",
       "</tr>\n",
       "</table><br/><br/>Notes:<br/>[1] Standard Errors assume that the covariance matrix of the errors is correctly specified."
      ],
      "text/plain": [
       "<class 'statsmodels.iolib.summary.Summary'>\n",
       "\"\"\"\n",
       "                            OLS Regression Results                            \n",
       "==============================================================================\n",
       "Dep. Variable:                    Buy   R-squared:                       0.033\n",
       "Model:                            OLS   Adj. R-squared:                  0.031\n",
       "Method:                 Least Squares   F-statistic:                     16.29\n",
       "Date:                Sat, 27 Nov 2021   Prob (F-statistic):           1.57e-18\n",
       "Time:                        15:15:50   Log-Likelihood:                -33347.\n",
       "No. Observations:                2854   AIC:                         6.671e+04\n",
       "Df Residuals:                    2847   BIC:                         6.675e+04\n",
       "Df Model:                           6                                         \n",
       "Covariance Type:            nonrobust                                         \n",
       "===============================================================================================\n",
       "                                  coef    std err          t      P>|t|      [0.025      0.975]\n",
       "-----------------------------------------------------------------------------------------------\n",
       "const                         234.6870    625.149      0.375      0.707    -991.103    1460.477\n",
       "fairy tale                   5189.5894   1727.534      3.004      0.003    1802.246    8576.933\n",
       "Color 2_Yellow               8254.4846   2002.554      4.122      0.000    4327.882    1.22e+04\n",
       "Source_New Year's Eve        -2.61e+04   7874.425     -3.315      0.001   -4.15e+04   -1.07e+04\n",
       "Style_Cute                  -4180.4987   1773.986     -2.357      0.019   -7658.927    -702.071\n",
       "Style_Gorgeous               1.811e+04   2811.937      6.441      0.000    1.26e+04    2.36e+04\n",
       "Item Category_Head Ornament  1.193e+04   3639.870      3.278      0.001    4794.208    1.91e+04\n",
       "==============================================================================\n",
       "Omnibus:                     8065.111   Durbin-Watson:                   1.972\n",
       "Prob(Omnibus):                  0.000   Jarque-Bera (JB):        229618761.877\n",
       "Skew:                          36.513   Prob(JB):                         0.00\n",
       "Kurtosis:                    1390.656   Cond. No.                         15.2\n",
       "==============================================================================\n",
       "\n",
       "Notes:\n",
       "[1] Standard Errors assume that the covariance matrix of the errors is correctly specified.\n",
       "\"\"\""
      ]
     },
     "execution_count": 53,
     "metadata": {},
     "output_type": "execute_result"
    }
   ],
   "source": [
    "# Run regression\n",
    "backReg(cDatReg, 'Buy', 0.05)"
   ]
  },
  {
   "cell_type": "markdown",
   "metadata": {},
   "source": [
    "* We have identified significant features. However, the overall regression does not explain much variation in buy prices among items. Therefore, even though we have identified significant features, the overall model is not a great fit for the data."
   ]
  },
  {
   "cell_type": "markdown",
   "metadata": {},
   "source": [
    "### Most and Least Expensive Outfit"
   ]
  },
  {
   "cell_type": "code",
   "execution_count": 54,
   "metadata": {},
   "outputs": [],
   "source": [
    "# Create copies of the dataset to modify for these analyses\n",
    "topE = top.copy(deep=True)\n",
    "bottomE = bottom.copy(deep=True)\n",
    "hatE = hat.copy(deep=True)\n",
    "shoeE = shoe.copy(deep=True)"
   ]
  },
  {
   "cell_type": "markdown",
   "metadata": {},
   "source": [
    "#### Most"
   ]
  },
  {
   "cell_type": "code",
   "execution_count": 55,
   "metadata": {},
   "outputs": [],
   "source": [
    "# Convert the top data into formats that make it useable and identify max values\n",
    "topE.drop(topE.index[top['Buy'] == \"NFS\"], inplace =  True)\n",
    "topE['Buy'] = pd.to_numeric(topE['Buy']) # Convert purchase prices into numbers\n",
    "max_value = topE['Buy'].max() # find the maximum purchase price\n",
    "most_tops = topE[topE['Buy'] == max_value] # store the names of the most expensive tops\n",
    "most_tops = most_tops.reset_index()\n",
    "\n",
    "# Convert the bottom data into formats that make it useable and identify max values\n",
    "bottomE.drop(bottomE.index[bottomE['Buy'] == \"NFS\"], inplace =  True)\n",
    "bottomE['Buy'] = pd.to_numeric(bottomE['Buy'])\n",
    "max_value = bottomE['Buy'].max()\n",
    "most_bottoms = bottomE[bottomE['Buy'] == max_value]\n",
    "most_bottoms = most_bottoms.reset_index()\n",
    "\n",
    "# Convert the hat data into formats that make it useable and identify max values\n",
    "hatE.drop(hatE.index[hatE['Buy'] == \"NFS\"], inplace =  True)\n",
    "hatE['Buy'] = pd.to_numeric(hatE['Buy'])\n",
    "max_value = hatE['Buy'].max()\n",
    "most_hats = hatE[hatE['Buy'] == max_value]\n",
    "most_hats = most_hats.reset_index()\n",
    "\n",
    "# Convert the shoe data into formats that make it useable and identify max values\n",
    "shoeE.drop(shoeE.index[shoeE['Buy'] == \"NFS\"], inplace =  True)\n",
    "shoeE['Buy'] = pd.to_numeric(shoeE['Buy'])\n",
    "max_value = shoeE['Buy'].max()\n",
    "most_shoes = shoeE[shoeE['Buy'] == max_value]\n",
    "most_shoes = most_shoes.reset_index()"
   ]
  },
  {
   "cell_type": "code",
   "execution_count": 56,
   "metadata": {},
   "outputs": [
    {
     "name": "stdout",
     "output_type": "stream",
     "text": [
      "Most Expensive Outfit is: \n",
      "\tHats:\n",
      "\t\t royal crown\n",
      "\tShirts:\n",
      "\t\t royal shirt\n",
      "\t\t samurai shirt\n",
      "\tPants:\n",
      "\t\t noble pants\n",
      "\tShoes:\n",
      "\t\t samurai greaves\n",
      "\t\t space boots\n",
      "\t\t zori\n"
     ]
    }
   ],
   "source": [
    "# Print the unique values stored in the datasets that contain the most expensive items\n",
    "print(\"Most Expensive Outfit is: \") # header\n",
    "\n",
    "# Print each category \n",
    "print(\"\\tHats:\")     \n",
    "for i in most_hats.Name.unique():\n",
    "    print(\"\\t\\t\", i)\n",
    "\n",
    "print(\"\\tShirts:\")     \n",
    "for i in most_tops.Name.unique():\n",
    "    print(\"\\t\\t\", i)\n",
    "\n",
    "print(\"\\tPants:\")     \n",
    "for i in most_bottoms.Name.unique():\n",
    "    print(\"\\t\\t\", i)\n",
    "    \n",
    "print(\"\\tShoes:\")     \n",
    "for i in most_shoes.Name.unique():\n",
    "    print(\"\\t\\t\", i)"
   ]
  },
  {
   "cell_type": "markdown",
   "metadata": {},
   "source": [
    "#### Least"
   ]
  },
  {
   "cell_type": "code",
   "execution_count": 57,
   "metadata": {},
   "outputs": [],
   "source": [
    "# Convert the top data into formats that make it useable and identify minimum values\n",
    "min_value = topE['Buy'].min()\n",
    "min_tops = topE[topE['Buy'] == min_value] # store the minimum values\n",
    "min_tops = min_tops.reset_index() \n",
    "\n",
    "# Convert the bottom data into formats that make it useable and identify minimum values\n",
    "min_value = bottomE['Buy'].min()\n",
    "min_bottoms = bottomE[bottomE['Buy'] == min_value]\n",
    "min_bottoms = min_bottoms.reset_index()\n",
    "\n",
    "# Convert the hat data into formats that make it useable and identify minimum values\n",
    "min_value = hatE['Buy'].min()\n",
    "min_hats = hatE[hatE['Buy'] == min_value]\n",
    "min_hats = min_hats.reset_index()\n",
    "\n",
    "# Convert the shoe data into formats that make it useable and identify minimum values\n",
    "min_value = shoeE['Buy'].min()\n",
    "min_shoes = shoeE[shoeE['Buy'] == min_value]\n",
    "min_shoes = min_shoes.reset_index()"
   ]
  },
  {
   "cell_type": "code",
   "execution_count": 58,
   "metadata": {
    "scrolled": true
   },
   "outputs": [
    {
     "name": "stdout",
     "output_type": "stream",
     "text": [
      "Least Expensive Outfit is: \n",
      "\tHats:\n",
      "\t\t paper bag\n",
      "\tShirts:\n",
      "\t\t tank\n",
      "\tPants:\n",
      "\t\t athletic shorts\n",
      "\t\t traditional suteteko pants\n",
      "\tShoes:\n",
      "\t\t flip-flops\n",
      "\t\t restroom slippers\n",
      "\t\t shower sandals\n",
      "\t\t slip-on school shoes\n",
      "\t\t slippers\n"
     ]
    }
   ],
   "source": [
    "# Print the unique values stored in the datasets that contain the least expensive items\n",
    "print(\"Least Expensive Outfit is: \") # Header\n",
    "\n",
    "# Print each category \n",
    "print(\"\\tHats:\")     \n",
    "for i in min_hats.Name.unique():\n",
    "    print(\"\\t\\t\", i)\n",
    "\n",
    "print(\"\\tShirts:\")     \n",
    "for i in min_tops.Name.unique():\n",
    "    print(\"\\t\\t\", i)\n",
    "\n",
    "print(\"\\tPants:\")     \n",
    "for i in min_bottoms.Name.unique():\n",
    "    print(\"\\t\\t\", i)\n",
    "    \n",
    "print(\"\\tShoes:\")     \n",
    "for i in min_shoes.Name.unique():\n",
    "    print(\"\\t\\t\", i)"
   ]
  },
  {
   "cell_type": "markdown",
   "metadata": {},
   "source": [
    "#### Optimal Resale Outfit"
   ]
  },
  {
   "cell_type": "code",
   "execution_count": 59,
   "metadata": {},
   "outputs": [],
   "source": [
    "# Calculate the resale percentages for each item in each category\n",
    "top['Resale Percentage'] = round((topE['Sell']/topE['Buy'])*100, 2)\n",
    "bottom['Resale Percentage'] = round((topE['Sell']/topE['Buy'])*100, 2)\n",
    "hat['Resale Percentage'] = round((topE['Sell']/topE['Buy'])*100, 2)\n",
    "shoe['Resale Percentage'] = round((topE['Sell']/topE['Buy'])*100, 2)"
   ]
  },
  {
   "cell_type": "code",
   "execution_count": 60,
   "metadata": {
    "scrolled": true
   },
   "outputs": [
    {
     "name": "stdout",
     "output_type": "stream",
     "text": [
      "Highest Resale Percentage:\n",
      "\t 25.0 %\n",
      "Lowest Resale Percentage:\n",
      "\t 24.86 %\n"
     ]
    }
   ],
   "source": [
    "# Print the highest resale percentages in the dataset\n",
    "itemDat['Resale Percentage'] = round((itemDat['Sell']/itemDat['Buy'])*100,2)\n",
    "print(\"Highest Resale Percentage:\")\n",
    "print(\"\\t\", itemDat['Resale Percentage'].max(), \"%\")\n",
    "print(\"Lowest Resale Percentage:\")\n",
    "print(\"\\t\", itemDat['Resale Percentage'].min(), \"%\")"
   ]
  },
  {
   "cell_type": "markdown",
   "metadata": {},
   "source": [
    "Since we found that resale percentages are about the same, there is not an optimal resale outfit."
   ]
  },
  {
   "cell_type": "markdown",
   "metadata": {},
   "source": [
    "### Colors in Each Category"
   ]
  },
  {
   "cell_type": "markdown",
   "metadata": {},
   "source": [
    "#### Tops"
   ]
  },
  {
   "cell_type": "code",
   "execution_count": 61,
   "metadata": {},
   "outputs": [],
   "source": [
    "#Replace space in column name with \"_\"\n",
    "top.columns = top.columns.str.replace(' ','_')"
   ]
  },
  {
   "cell_type": "code",
   "execution_count": 62,
   "metadata": {},
   "outputs": [
    {
     "name": "stdout",
     "output_type": "stream",
     "text": [
      "['Blue' 'Black' 'Red' 'Green' 'White' 'Purple' 'Gray' 'Pink' 'Yellow'\n",
      " 'Light blue' 'Beige' 'Orange' 'Brown' 'Colorful']\n",
      "['White' 'Blue' 'Black' 'Red' 'Green' 'Yellow' 'Purple' 'Light blue'\n",
      " 'Pink' 'Beige' 'Gray' 'Orange' 'Brown' 'Colorful']\n"
     ]
    }
   ],
   "source": [
    "#Find the different colors used\n",
    "colors = top.Color_1.unique()\n",
    "print(colors)\n",
    "\n",
    "colors2 = top.Color_2.unique()\n",
    "print(colors2)"
   ]
  },
  {
   "cell_type": "code",
   "execution_count": 63,
   "metadata": {},
   "outputs": [],
   "source": [
    "# Create a dataframe of colors present in the dataset to keep a count of how frequently colors appear in the data\n",
    "topcolor1 = pd.DataFrame({'colors': ['Blue', 'Black', 'Red', 'Green', 'White', 'Purple', 'Gray', 'Pink', 'Yellow','Light blue','Beige', 'Orange', 'Brown', 'Colorful'], 'total': [0,0,0,0,0,0,0,0,0,0,0,0,0,0]})\n",
    "topcolor2 = pd.DataFrame({'colors': ['Blue', 'Black', 'Red', 'Green', 'White', 'Purple', 'Gray', 'Pink', 'Yellow','Light blue','Beige', 'Orange', 'Brown', 'Colorful'], 'total': [0,0,0,0,0,0,0,0,0,0,0,0,0,0]})"
   ]
  },
  {
   "cell_type": "code",
   "execution_count": 64,
   "metadata": {
    "scrolled": true
   },
   "outputs": [
    {
     "name": "stderr",
     "output_type": "stream",
     "text": [
      "<ipython-input-64-66689800c020>:4: SettingWithCopyWarning: \n",
      "A value is trying to be set on a copy of a slice from a DataFrame\n",
      "\n",
      "See the caveats in the documentation: https://pandas.pydata.org/pandas-docs/stable/user_guide/indexing.html#returning-a-view-versus-a-copy\n",
      "  topcolor1[\"total\"][0] += 1\n",
      "<ipython-input-64-66689800c020>:6: SettingWithCopyWarning: \n",
      "A value is trying to be set on a copy of a slice from a DataFrame\n",
      "\n",
      "See the caveats in the documentation: https://pandas.pydata.org/pandas-docs/stable/user_guide/indexing.html#returning-a-view-versus-a-copy\n",
      "  topcolor1[\"total\"][1] += 1\n",
      "<ipython-input-64-66689800c020>:8: SettingWithCopyWarning: \n",
      "A value is trying to be set on a copy of a slice from a DataFrame\n",
      "\n",
      "See the caveats in the documentation: https://pandas.pydata.org/pandas-docs/stable/user_guide/indexing.html#returning-a-view-versus-a-copy\n",
      "  topcolor1[\"total\"][2] += 1\n",
      "<ipython-input-64-66689800c020>:10: SettingWithCopyWarning: \n",
      "A value is trying to be set on a copy of a slice from a DataFrame\n",
      "\n",
      "See the caveats in the documentation: https://pandas.pydata.org/pandas-docs/stable/user_guide/indexing.html#returning-a-view-versus-a-copy\n",
      "  topcolor1[\"total\"][3] += 1\n",
      "<ipython-input-64-66689800c020>:12: SettingWithCopyWarning: \n",
      "A value is trying to be set on a copy of a slice from a DataFrame\n",
      "\n",
      "See the caveats in the documentation: https://pandas.pydata.org/pandas-docs/stable/user_guide/indexing.html#returning-a-view-versus-a-copy\n",
      "  topcolor1[\"total\"][4] += 1\n",
      "<ipython-input-64-66689800c020>:14: SettingWithCopyWarning: \n",
      "A value is trying to be set on a copy of a slice from a DataFrame\n",
      "\n",
      "See the caveats in the documentation: https://pandas.pydata.org/pandas-docs/stable/user_guide/indexing.html#returning-a-view-versus-a-copy\n",
      "  topcolor1[\"total\"][5] += 1\n",
      "<ipython-input-64-66689800c020>:16: SettingWithCopyWarning: \n",
      "A value is trying to be set on a copy of a slice from a DataFrame\n",
      "\n",
      "See the caveats in the documentation: https://pandas.pydata.org/pandas-docs/stable/user_guide/indexing.html#returning-a-view-versus-a-copy\n",
      "  topcolor1[\"total\"][6] += 1\n",
      "<ipython-input-64-66689800c020>:18: SettingWithCopyWarning: \n",
      "A value is trying to be set on a copy of a slice from a DataFrame\n",
      "\n",
      "See the caveats in the documentation: https://pandas.pydata.org/pandas-docs/stable/user_guide/indexing.html#returning-a-view-versus-a-copy\n",
      "  topcolor1[\"total\"][7] += 1\n",
      "<ipython-input-64-66689800c020>:20: SettingWithCopyWarning: \n",
      "A value is trying to be set on a copy of a slice from a DataFrame\n",
      "\n",
      "See the caveats in the documentation: https://pandas.pydata.org/pandas-docs/stable/user_guide/indexing.html#returning-a-view-versus-a-copy\n",
      "  topcolor1[\"total\"][8] += 1\n",
      "<ipython-input-64-66689800c020>:22: SettingWithCopyWarning: \n",
      "A value is trying to be set on a copy of a slice from a DataFrame\n",
      "\n",
      "See the caveats in the documentation: https://pandas.pydata.org/pandas-docs/stable/user_guide/indexing.html#returning-a-view-versus-a-copy\n",
      "  topcolor1[\"total\"][9] += 1\n",
      "<ipython-input-64-66689800c020>:24: SettingWithCopyWarning: \n",
      "A value is trying to be set on a copy of a slice from a DataFrame\n",
      "\n",
      "See the caveats in the documentation: https://pandas.pydata.org/pandas-docs/stable/user_guide/indexing.html#returning-a-view-versus-a-copy\n",
      "  topcolor1[\"total\"][10] += 1\n",
      "<ipython-input-64-66689800c020>:26: SettingWithCopyWarning: \n",
      "A value is trying to be set on a copy of a slice from a DataFrame\n",
      "\n",
      "See the caveats in the documentation: https://pandas.pydata.org/pandas-docs/stable/user_guide/indexing.html#returning-a-view-versus-a-copy\n",
      "  topcolor1[\"total\"][11] += 1\n",
      "<ipython-input-64-66689800c020>:28: SettingWithCopyWarning: \n",
      "A value is trying to be set on a copy of a slice from a DataFrame\n",
      "\n",
      "See the caveats in the documentation: https://pandas.pydata.org/pandas-docs/stable/user_guide/indexing.html#returning-a-view-versus-a-copy\n",
      "  topcolor1[\"total\"][12] += 1\n",
      "<ipython-input-64-66689800c020>:30: SettingWithCopyWarning: \n",
      "A value is trying to be set on a copy of a slice from a DataFrame\n",
      "\n",
      "See the caveats in the documentation: https://pandas.pydata.org/pandas-docs/stable/user_guide/indexing.html#returning-a-view-versus-a-copy\n",
      "  topcolor1[\"total\"][13] += 1\n",
      "<ipython-input-64-66689800c020>:43: SettingWithCopyWarning: \n",
      "A value is trying to be set on a copy of a slice from a DataFrame\n",
      "\n",
      "See the caveats in the documentation: https://pandas.pydata.org/pandas-docs/stable/user_guide/indexing.html#returning-a-view-versus-a-copy\n",
      "  topcolor2[\"total\"][4] += 1\n",
      "<ipython-input-64-66689800c020>:35: SettingWithCopyWarning: \n",
      "A value is trying to be set on a copy of a slice from a DataFrame\n",
      "\n",
      "See the caveats in the documentation: https://pandas.pydata.org/pandas-docs/stable/user_guide/indexing.html#returning-a-view-versus-a-copy\n",
      "  topcolor2[\"total\"][0] += 1\n",
      "<ipython-input-64-66689800c020>:37: SettingWithCopyWarning: \n",
      "A value is trying to be set on a copy of a slice from a DataFrame\n",
      "\n",
      "See the caveats in the documentation: https://pandas.pydata.org/pandas-docs/stable/user_guide/indexing.html#returning-a-view-versus-a-copy\n",
      "  topcolor2[\"total\"][1] += 1\n",
      "<ipython-input-64-66689800c020>:39: SettingWithCopyWarning: \n",
      "A value is trying to be set on a copy of a slice from a DataFrame\n",
      "\n",
      "See the caveats in the documentation: https://pandas.pydata.org/pandas-docs/stable/user_guide/indexing.html#returning-a-view-versus-a-copy\n",
      "  topcolor2[\"total\"][2] += 1\n",
      "<ipython-input-64-66689800c020>:41: SettingWithCopyWarning: \n",
      "A value is trying to be set on a copy of a slice from a DataFrame\n",
      "\n",
      "See the caveats in the documentation: https://pandas.pydata.org/pandas-docs/stable/user_guide/indexing.html#returning-a-view-versus-a-copy\n",
      "  topcolor2[\"total\"][3] += 1\n",
      "<ipython-input-64-66689800c020>:51: SettingWithCopyWarning: \n",
      "A value is trying to be set on a copy of a slice from a DataFrame\n",
      "\n",
      "See the caveats in the documentation: https://pandas.pydata.org/pandas-docs/stable/user_guide/indexing.html#returning-a-view-versus-a-copy\n",
      "  topcolor2[\"total\"][8] += 1\n",
      "<ipython-input-64-66689800c020>:45: SettingWithCopyWarning: \n",
      "A value is trying to be set on a copy of a slice from a DataFrame\n",
      "\n",
      "See the caveats in the documentation: https://pandas.pydata.org/pandas-docs/stable/user_guide/indexing.html#returning-a-view-versus-a-copy\n",
      "  topcolor2[\"total\"][5] += 1\n",
      "<ipython-input-64-66689800c020>:53: SettingWithCopyWarning: \n",
      "A value is trying to be set on a copy of a slice from a DataFrame\n",
      "\n",
      "See the caveats in the documentation: https://pandas.pydata.org/pandas-docs/stable/user_guide/indexing.html#returning-a-view-versus-a-copy\n",
      "  topcolor2[\"total\"][9] += 1\n",
      "<ipython-input-64-66689800c020>:49: SettingWithCopyWarning: \n",
      "A value is trying to be set on a copy of a slice from a DataFrame\n",
      "\n",
      "See the caveats in the documentation: https://pandas.pydata.org/pandas-docs/stable/user_guide/indexing.html#returning-a-view-versus-a-copy\n",
      "  topcolor2[\"total\"][7] += 1\n",
      "<ipython-input-64-66689800c020>:55: SettingWithCopyWarning: \n",
      "A value is trying to be set on a copy of a slice from a DataFrame\n",
      "\n",
      "See the caveats in the documentation: https://pandas.pydata.org/pandas-docs/stable/user_guide/indexing.html#returning-a-view-versus-a-copy\n",
      "  topcolor2[\"total\"][10] += 1\n",
      "<ipython-input-64-66689800c020>:47: SettingWithCopyWarning: \n",
      "A value is trying to be set on a copy of a slice from a DataFrame\n",
      "\n",
      "See the caveats in the documentation: https://pandas.pydata.org/pandas-docs/stable/user_guide/indexing.html#returning-a-view-versus-a-copy\n",
      "  topcolor2[\"total\"][6] += 1\n",
      "<ipython-input-64-66689800c020>:57: SettingWithCopyWarning: \n",
      "A value is trying to be set on a copy of a slice from a DataFrame\n",
      "\n",
      "See the caveats in the documentation: https://pandas.pydata.org/pandas-docs/stable/user_guide/indexing.html#returning-a-view-versus-a-copy\n",
      "  topcolor2[\"total\"][11] += 1\n",
      "<ipython-input-64-66689800c020>:59: SettingWithCopyWarning: \n",
      "A value is trying to be set on a copy of a slice from a DataFrame\n",
      "\n",
      "See the caveats in the documentation: https://pandas.pydata.org/pandas-docs/stable/user_guide/indexing.html#returning-a-view-versus-a-copy\n",
      "  topcolor2[\"total\"][12] += 1\n",
      "<ipython-input-64-66689800c020>:61: SettingWithCopyWarning: \n",
      "A value is trying to be set on a copy of a slice from a DataFrame\n",
      "\n",
      "See the caveats in the documentation: https://pandas.pydata.org/pandas-docs/stable/user_guide/indexing.html#returning-a-view-versus-a-copy\n",
      "  topcolor2[\"total\"][13] += 1\n"
     ]
    }
   ],
   "source": [
    "# keep count of different colors as the main color in tops\n",
    "for i in range(len(top)):\n",
    "    if top[\"Color_1\"][i] == \"Blue\":\n",
    "        topcolor1[\"total\"][0] += 1\n",
    "    elif top[\"Color_1\"][i] == \"Black\":\n",
    "        topcolor1[\"total\"][1] += 1\n",
    "    elif top[\"Color_1\"][i] == \"Red\":\n",
    "        topcolor1[\"total\"][2] += 1 \n",
    "    elif top[\"Color_1\"][i] == \"Green\":\n",
    "        topcolor1[\"total\"][3] += 1 \n",
    "    elif top[\"Color_1\"][i] == \"White\":\n",
    "        topcolor1[\"total\"][4] += 1\n",
    "    elif top[\"Color_1\"][i] == \"Purple\":\n",
    "        topcolor1[\"total\"][5] += 1\n",
    "    elif top[\"Color_1\"][i] == \"Gray\":\n",
    "        topcolor1[\"total\"][6] += 1\n",
    "    elif top[\"Color_1\"][i] == \"Pink\":\n",
    "        topcolor1[\"total\"][7] += 1\n",
    "    elif top[\"Color_1\"][i] == \"Yellow\":\n",
    "        topcolor1[\"total\"][8] += 1\n",
    "    elif top[\"Color_1\"][i] == \"Light blue\":\n",
    "        topcolor1[\"total\"][9] += 1\n",
    "    elif top[\"Color_1\"][i] == \"Beige\":\n",
    "        topcolor1[\"total\"][10] += 1 \n",
    "    elif top[\"Color_1\"][i] == \"Orange\":\n",
    "        topcolor1[\"total\"][11] += 1\n",
    "    elif top[\"Color_1\"][i] == \"Brown\":\n",
    "        topcolor1[\"total\"][12] += 1\n",
    "    elif top[\"Color_1\"][i] == \"Colorful\":\n",
    "        topcolor1[\"total\"][13] += 1\n",
    "\n",
    "# keep count of different colors as the secondary color in tops\n",
    "for i in range(len(top)):\n",
    "    if top[\"Color_2\"][i] == \"Blue\":\n",
    "        topcolor2[\"total\"][0] += 1\n",
    "    elif top[\"Color_2\"][i] == \"Black\":\n",
    "        topcolor2[\"total\"][1] += 1\n",
    "    elif top[\"Color_2\"][i] == \"Red\":\n",
    "        topcolor2[\"total\"][2] += 1 \n",
    "    elif top[\"Color_2\"][i] == \"Green\":\n",
    "        topcolor2[\"total\"][3] += 1 \n",
    "    elif top[\"Color_2\"][i] == \"White\":\n",
    "        topcolor2[\"total\"][4] += 1\n",
    "    elif top[\"Color_2\"][i] == \"Purple\":\n",
    "        topcolor2[\"total\"][5] += 1\n",
    "    elif top[\"Color_2\"][i] == \"Gray\":\n",
    "        topcolor2[\"total\"][6] += 1\n",
    "    elif top[\"Color_2\"][i] == \"Pink\":\n",
    "        topcolor2[\"total\"][7] += 1\n",
    "    elif top[\"Color_2\"][i] == \"Yellow\":\n",
    "        topcolor2[\"total\"][8] += 1\n",
    "    elif top[\"Color_2\"][i] == \"Light blue\":\n",
    "        topcolor2[\"total\"][9] += 1 \n",
    "    elif top[\"Color_2\"][i] == \"Beige\":\n",
    "        topcolor2[\"total\"][10] += 1 \n",
    "    elif top[\"Color_2\"][i] == \"Orange\":\n",
    "        topcolor2[\"total\"][11] += 1\n",
    "    elif top[\"Color_2\"][i] == \"Brown\":\n",
    "        topcolor2[\"total\"][12] += 1\n",
    "    elif top[\"Color_2\"][i] == \"Colorful\":\n",
    "        topcolor2[\"total\"][13] += 1 "
   ]
  },
  {
   "cell_type": "code",
   "execution_count": 65,
   "metadata": {
    "scrolled": true
   },
   "outputs": [
    {
     "name": "stdout",
     "output_type": "stream",
     "text": [
      "        colors  total\n",
      "0         Blue    150\n",
      "1        Black    107\n",
      "2          Red    117\n",
      "3        Green    148\n",
      "4        White    114\n",
      "5       Purple     68\n",
      "6         Gray     60\n",
      "7         Pink     76\n",
      "8       Yellow     66\n",
      "9   Light blue     65\n",
      "10       Beige     55\n",
      "11      Orange     53\n",
      "12       Brown     40\n",
      "13    Colorful      2\n",
      "\n",
      "        colors  total\n",
      "0         Blue     99\n",
      "1        Black    168\n",
      "2          Red     84\n",
      "3        Green     88\n",
      "4        White    291\n",
      "5       Purple     31\n",
      "6         Gray     40\n",
      "7         Pink     42\n",
      "8       Yellow     87\n",
      "9   Light blue     45\n",
      "10       Beige     45\n",
      "11      Orange     49\n",
      "12       Brown     34\n",
      "13    Colorful     18\n",
      "\n",
      "The total amount of tops is 1121\n"
     ]
    }
   ],
   "source": [
    "# Print the number of each color present in the items (including all of their variation)\n",
    "\n",
    "print(topcolor1)\n",
    "print(\"\") # Spacer\n",
    "print(topcolor2)\n",
    "print(\"\") # Spacer\n",
    "\n",
    "# Print a total\n",
    "print(\"The total amount of tops is\", len(top))"
   ]
  },
  {
   "cell_type": "code",
   "execution_count": 66,
   "metadata": {},
   "outputs": [],
   "source": [
    "# CREATE A CUSTOM COLOR PALETTE FOR THE NEXT GRAPHS\n",
    "# Create an array with the colors you want to use\n",
    "ClothesColors = [\"#4073FF\", \"#2C3E50\", \"#DB4035\", \"#299438\", \"#D0D3D4\", \"#AF38EB\", \"#808080\", \"#EB96EB\", \"#FAD000\",\n",
    "                \"#96C3EB\", \"#CCAC93\", \"#FF9933\", \"#935116\", \"#117864\"]\n",
    "# Blue, Black, Red, Green, White, Purple, Gray, Pink, Yellow\n",
    "# Light Blue, Beige, Orange, Brown, Blue-Green (for colorful)\n",
    "\n",
    "# Set your custom color palette\n",
    "sns.set_palette(sns.color_palette(ClothesColors))"
   ]
  },
  {
   "cell_type": "code",
   "execution_count": 67,
   "metadata": {
    "scrolled": true
   },
   "outputs": [
    {
     "data": {
      "text/plain": [
       "<AxesSubplot:xlabel='Color_1', ylabel='count'>"
      ]
     },
     "execution_count": 67,
     "metadata": {},
     "output_type": "execute_result"
    },
    {
     "data": {
      "image/png": "[encoded data removed]",
      "text/plain": [
       "<Figure size 864x864 with 1 Axes>"
      ]
     },
     "metadata": {},
     "output_type": "display_data"
    }
   ],
   "source": [
    "#Create Graph showing dominant colors\n",
    "sns.set_theme(style=\"whitegrid\") # from Data Science 1500\n",
    "sns.set(rc={'figure.figsize':(12,12)})\n",
    "sns.countplot(x = 'Color_1', data=top, palette=ClothesColors)\n"
   ]
  },
  {
   "cell_type": "code",
   "execution_count": 68,
   "metadata": {},
   "outputs": [],
   "source": [
    "# CREATE A CUSTOM COLOR PALETTE FOR THE NEXT GRAPHS\n",
    "# Create an array with the colors you want to use\n",
    "ClothesColors = [\"#D0D3D4\",\"#4073FF\", \"#2C3E50\", \"#DB4035\", \"#299438\", \"#FAD000\",\"#AF38EB\",\"#96C3EB\",\"#EB96EB\", \n",
    "                \"#CCAC93\", \"#808080\", \"#FF9933\", \"#935116\", \"#117864\"]\n",
    "\n",
    "# Set your custom color palette\n",
    "sns.set_palette(sns.color_palette(ClothesColors))"
   ]
  },
  {
   "cell_type": "code",
   "execution_count": 69,
   "metadata": {
    "scrolled": true
   },
   "outputs": [
    {
     "data": {
      "text/plain": [
       "<AxesSubplot:xlabel='Color_2', ylabel='count'>"
      ]
     },
     "execution_count": 69,
     "metadata": {},
     "output_type": "execute_result"
    },
    {
     "data": {
      "image/png": "[encoded data removed]",
      "text/plain": [
       "<Figure size 864x864 with 1 Axes>"
      ]
     },
     "metadata": {},
     "output_type": "display_data"
    }
   ],
   "source": [
    "# Create a graph showing secondary colors\n",
    "sns.set_theme(style=\"whitegrid\") # from Data Science 1500\n",
    "sns.set(rc={'figure.figsize':(12,12)})\n",
    "sns.countplot(x = 'Color_2', data=top, palette=ClothesColors)"
   ]
  },
  {
   "cell_type": "markdown",
   "metadata": {},
   "source": [
    "#### Bottoms"
   ]
  },
  {
   "cell_type": "code",
   "execution_count": 70,
   "metadata": {},
   "outputs": [],
   "source": [
    "#Replace space in column name with \"_\"\n",
    "bottom.columns = bottom.columns.str.replace(' ','_')"
   ]
  },
  {
   "cell_type": "code",
   "execution_count": 71,
   "metadata": {},
   "outputs": [
    {
     "name": "stdout",
     "output_type": "stream",
     "text": [
      "['Blue' 'Black' 'Yellow' 'Gray' 'White' 'Red' 'Green' 'Purple' 'Orange'\n",
      " 'Light blue' 'Brown' 'Beige' 'Pink' 'Colorful']\n",
      "['Blue' 'Black' 'Purple' 'Light blue' 'Beige' 'White' 'Yellow' 'Orange'\n",
      " 'Red' 'Green' 'Brown' 'Pink' 'Gray' 'Colorful']\n"
     ]
    }
   ],
   "source": [
    "#Find the different colors used\n",
    "colors = bottom.Color_1.unique()\n",
    "print(colors)\n",
    "\n",
    "colors2 = bottom.Color_2.unique()\n",
    "print(colors2)"
   ]
  },
  {
   "cell_type": "code",
   "execution_count": 72,
   "metadata": {},
   "outputs": [],
   "source": [
    "# Create a dataframe of colors present in the dataset to keep a count of how frequently colors appear in the data\n",
    "bottomcolor1 = pd.DataFrame({'colors': ['Blue', 'Black', 'Red', 'Green', 'White', 'Purple', 'Gray', 'Pink', 'Yellow','Light blue','Beige', 'Orange', 'Brown', 'Colorful'], 'total': [0,0,0,0,0,0,0,0,0,0,0,0,0,0]})\n",
    "bottomcolor2 = pd.DataFrame({'colors': ['Blue', 'Black', 'Red', 'Green', 'White', 'Purple', 'Gray', 'Pink', 'Yellow','Light blue','Beige', 'Orange', 'Brown', 'Colorful'], 'total': [0,0,0,0,0,0,0,0,0,0,0,0,0,0]})"
   ]
  },
  {
   "cell_type": "code",
   "execution_count": 73,
   "metadata": {},
   "outputs": [
    {
     "name": "stderr",
     "output_type": "stream",
     "text": [
      "<ipython-input-73-7176156d9ff4>:4: SettingWithCopyWarning: \n",
      "A value is trying to be set on a copy of a slice from a DataFrame\n",
      "\n",
      "See the caveats in the documentation: https://pandas.pydata.org/pandas-docs/stable/user_guide/indexing.html#returning-a-view-versus-a-copy\n",
      "  bottomcolor1[\"total\"][0] += 1\n",
      "<ipython-input-73-7176156d9ff4>:6: SettingWithCopyWarning: \n",
      "A value is trying to be set on a copy of a slice from a DataFrame\n",
      "\n",
      "See the caveats in the documentation: https://pandas.pydata.org/pandas-docs/stable/user_guide/indexing.html#returning-a-view-versus-a-copy\n",
      "  bottomcolor1[\"total\"][1] += 1\n",
      "<ipython-input-73-7176156d9ff4>:20: SettingWithCopyWarning: \n",
      "A value is trying to be set on a copy of a slice from a DataFrame\n",
      "\n",
      "See the caveats in the documentation: https://pandas.pydata.org/pandas-docs/stable/user_guide/indexing.html#returning-a-view-versus-a-copy\n",
      "  bottomcolor1[\"total\"][8] += 1\n",
      "<ipython-input-73-7176156d9ff4>:16: SettingWithCopyWarning: \n",
      "A value is trying to be set on a copy of a slice from a DataFrame\n",
      "\n",
      "See the caveats in the documentation: https://pandas.pydata.org/pandas-docs/stable/user_guide/indexing.html#returning-a-view-versus-a-copy\n",
      "  bottomcolor1[\"total\"][6] += 1\n",
      "<ipython-input-73-7176156d9ff4>:12: SettingWithCopyWarning: \n",
      "A value is trying to be set on a copy of a slice from a DataFrame\n",
      "\n",
      "See the caveats in the documentation: https://pandas.pydata.org/pandas-docs/stable/user_guide/indexing.html#returning-a-view-versus-a-copy\n",
      "  bottomcolor1[\"total\"][4] += 1\n",
      "<ipython-input-73-7176156d9ff4>:8: SettingWithCopyWarning: \n",
      "A value is trying to be set on a copy of a slice from a DataFrame\n",
      "\n",
      "See the caveats in the documentation: https://pandas.pydata.org/pandas-docs/stable/user_guide/indexing.html#returning-a-view-versus-a-copy\n",
      "  bottomcolor1[\"total\"][2] += 1\n",
      "<ipython-input-73-7176156d9ff4>:10: SettingWithCopyWarning: \n",
      "A value is trying to be set on a copy of a slice from a DataFrame\n",
      "\n",
      "See the caveats in the documentation: https://pandas.pydata.org/pandas-docs/stable/user_guide/indexing.html#returning-a-view-versus-a-copy\n",
      "  bottomcolor1[\"total\"][3] += 1\n",
      "<ipython-input-73-7176156d9ff4>:14: SettingWithCopyWarning: \n",
      "A value is trying to be set on a copy of a slice from a DataFrame\n",
      "\n",
      "See the caveats in the documentation: https://pandas.pydata.org/pandas-docs/stable/user_guide/indexing.html#returning-a-view-versus-a-copy\n",
      "  bottomcolor1[\"total\"][5] += 1\n",
      "<ipython-input-73-7176156d9ff4>:26: SettingWithCopyWarning: \n",
      "A value is trying to be set on a copy of a slice from a DataFrame\n",
      "\n",
      "See the caveats in the documentation: https://pandas.pydata.org/pandas-docs/stable/user_guide/indexing.html#returning-a-view-versus-a-copy\n",
      "  bottomcolor1[\"total\"][11] += 1\n",
      "<ipython-input-73-7176156d9ff4>:22: SettingWithCopyWarning: \n",
      "A value is trying to be set on a copy of a slice from a DataFrame\n",
      "\n",
      "See the caveats in the documentation: https://pandas.pydata.org/pandas-docs/stable/user_guide/indexing.html#returning-a-view-versus-a-copy\n",
      "  bottomcolor1[\"total\"][9] += 1\n",
      "<ipython-input-73-7176156d9ff4>:28: SettingWithCopyWarning: \n",
      "A value is trying to be set on a copy of a slice from a DataFrame\n",
      "\n",
      "See the caveats in the documentation: https://pandas.pydata.org/pandas-docs/stable/user_guide/indexing.html#returning-a-view-versus-a-copy\n",
      "  bottomcolor1[\"total\"][12] += 1\n",
      "<ipython-input-73-7176156d9ff4>:24: SettingWithCopyWarning: \n",
      "A value is trying to be set on a copy of a slice from a DataFrame\n",
      "\n",
      "See the caveats in the documentation: https://pandas.pydata.org/pandas-docs/stable/user_guide/indexing.html#returning-a-view-versus-a-copy\n",
      "  bottomcolor1[\"total\"][10] += 1\n",
      "<ipython-input-73-7176156d9ff4>:18: SettingWithCopyWarning: \n",
      "A value is trying to be set on a copy of a slice from a DataFrame\n",
      "\n",
      "See the caveats in the documentation: https://pandas.pydata.org/pandas-docs/stable/user_guide/indexing.html#returning-a-view-versus-a-copy\n",
      "  bottomcolor1[\"total\"][7] += 1\n",
      "<ipython-input-73-7176156d9ff4>:30: SettingWithCopyWarning: \n",
      "A value is trying to be set on a copy of a slice from a DataFrame\n",
      "\n",
      "See the caveats in the documentation: https://pandas.pydata.org/pandas-docs/stable/user_guide/indexing.html#returning-a-view-versus-a-copy\n",
      "  bottomcolor1[\"total\"][13] += 1\n",
      "<ipython-input-73-7176156d9ff4>:35: SettingWithCopyWarning: \n",
      "A value is trying to be set on a copy of a slice from a DataFrame\n",
      "\n",
      "See the caveats in the documentation: https://pandas.pydata.org/pandas-docs/stable/user_guide/indexing.html#returning-a-view-versus-a-copy\n",
      "  bottomcolor2[\"total\"][0] += 1\n",
      "<ipython-input-73-7176156d9ff4>:37: SettingWithCopyWarning: \n",
      "A value is trying to be set on a copy of a slice from a DataFrame\n",
      "\n",
      "See the caveats in the documentation: https://pandas.pydata.org/pandas-docs/stable/user_guide/indexing.html#returning-a-view-versus-a-copy\n",
      "  bottomcolor2[\"total\"][1] += 1\n",
      "<ipython-input-73-7176156d9ff4>:45: SettingWithCopyWarning: \n",
      "A value is trying to be set on a copy of a slice from a DataFrame\n",
      "\n",
      "See the caveats in the documentation: https://pandas.pydata.org/pandas-docs/stable/user_guide/indexing.html#returning-a-view-versus-a-copy\n",
      "  bottomcolor2[\"total\"][5] += 1\n",
      "<ipython-input-73-7176156d9ff4>:53: SettingWithCopyWarning: \n",
      "A value is trying to be set on a copy of a slice from a DataFrame\n",
      "\n",
      "See the caveats in the documentation: https://pandas.pydata.org/pandas-docs/stable/user_guide/indexing.html#returning-a-view-versus-a-copy\n",
      "  bottomcolor2[\"total\"][9] += 1\n",
      "<ipython-input-73-7176156d9ff4>:55: SettingWithCopyWarning: \n",
      "A value is trying to be set on a copy of a slice from a DataFrame\n",
      "\n",
      "See the caveats in the documentation: https://pandas.pydata.org/pandas-docs/stable/user_guide/indexing.html#returning-a-view-versus-a-copy\n",
      "  bottomcolor2[\"total\"][10] += 1\n",
      "<ipython-input-73-7176156d9ff4>:43: SettingWithCopyWarning: \n",
      "A value is trying to be set on a copy of a slice from a DataFrame\n",
      "\n",
      "See the caveats in the documentation: https://pandas.pydata.org/pandas-docs/stable/user_guide/indexing.html#returning-a-view-versus-a-copy\n",
      "  bottomcolor2[\"total\"][4] += 1\n",
      "<ipython-input-73-7176156d9ff4>:51: SettingWithCopyWarning: \n",
      "A value is trying to be set on a copy of a slice from a DataFrame\n",
      "\n",
      "See the caveats in the documentation: https://pandas.pydata.org/pandas-docs/stable/user_guide/indexing.html#returning-a-view-versus-a-copy\n",
      "  bottomcolor2[\"total\"][8] += 1\n",
      "<ipython-input-73-7176156d9ff4>:57: SettingWithCopyWarning: \n",
      "A value is trying to be set on a copy of a slice from a DataFrame\n",
      "\n",
      "See the caveats in the documentation: https://pandas.pydata.org/pandas-docs/stable/user_guide/indexing.html#returning-a-view-versus-a-copy\n",
      "  bottomcolor2[\"total\"][11] += 1\n",
      "<ipython-input-73-7176156d9ff4>:39: SettingWithCopyWarning: \n",
      "A value is trying to be set on a copy of a slice from a DataFrame\n",
      "\n",
      "See the caveats in the documentation: https://pandas.pydata.org/pandas-docs/stable/user_guide/indexing.html#returning-a-view-versus-a-copy\n",
      "  bottomcolor2[\"total\"][2] += 1\n",
      "<ipython-input-73-7176156d9ff4>:41: SettingWithCopyWarning: \n",
      "A value is trying to be set on a copy of a slice from a DataFrame\n",
      "\n",
      "See the caveats in the documentation: https://pandas.pydata.org/pandas-docs/stable/user_guide/indexing.html#returning-a-view-versus-a-copy\n",
      "  bottomcolor2[\"total\"][3] += 1\n",
      "<ipython-input-73-7176156d9ff4>:59: SettingWithCopyWarning: \n",
      "A value is trying to be set on a copy of a slice from a DataFrame\n",
      "\n",
      "See the caveats in the documentation: https://pandas.pydata.org/pandas-docs/stable/user_guide/indexing.html#returning-a-view-versus-a-copy\n",
      "  bottomcolor2[\"total\"][12] += 1\n",
      "<ipython-input-73-7176156d9ff4>:49: SettingWithCopyWarning: \n",
      "A value is trying to be set on a copy of a slice from a DataFrame\n",
      "\n",
      "See the caveats in the documentation: https://pandas.pydata.org/pandas-docs/stable/user_guide/indexing.html#returning-a-view-versus-a-copy\n",
      "  bottomcolor2[\"total\"][7] += 1\n",
      "<ipython-input-73-7176156d9ff4>:47: SettingWithCopyWarning: \n",
      "A value is trying to be set on a copy of a slice from a DataFrame\n",
      "\n",
      "See the caveats in the documentation: https://pandas.pydata.org/pandas-docs/stable/user_guide/indexing.html#returning-a-view-versus-a-copy\n",
      "  bottomcolor2[\"total\"][6] += 1\n",
      "<ipython-input-73-7176156d9ff4>:61: SettingWithCopyWarning: \n",
      "A value is trying to be set on a copy of a slice from a DataFrame\n",
      "\n",
      "See the caveats in the documentation: https://pandas.pydata.org/pandas-docs/stable/user_guide/indexing.html#returning-a-view-versus-a-copy\n",
      "  bottomcolor2[\"total\"][13] += 1\n"
     ]
    }
   ],
   "source": [
    "# keep count of different colors as the main color in bottoms\n",
    "for i in range(len(bottom)):\n",
    "    if bottom[\"Color_1\"][i] == \"Blue\":\n",
    "        bottomcolor1[\"total\"][0] += 1\n",
    "    elif bottom[\"Color_1\"][i] == \"Black\":\n",
    "        bottomcolor1[\"total\"][1] += 1\n",
    "    elif bottom[\"Color_1\"][i] == \"Red\":\n",
    "        bottomcolor1[\"total\"][2] += 1 \n",
    "    elif bottom[\"Color_1\"][i] == \"Green\":\n",
    "        bottomcolor1[\"total\"][3] += 1 \n",
    "    elif bottom[\"Color_1\"][i] == \"White\":\n",
    "        bottomcolor1[\"total\"][4] += 1\n",
    "    elif bottom[\"Color_1\"][i] == \"Purple\":\n",
    "        bottomcolor1[\"total\"][5] += 1\n",
    "    elif bottom[\"Color_1\"][i] == \"Gray\":\n",
    "        bottomcolor1[\"total\"][6] += 1\n",
    "    elif bottom[\"Color_1\"][i] == \"Pink\":\n",
    "        bottomcolor1[\"total\"][7] += 1\n",
    "    elif bottom[\"Color_1\"][i] == \"Yellow\":\n",
    "        bottomcolor1[\"total\"][8] += 1\n",
    "    elif bottom[\"Color_1\"][i] == \"Light blue\":\n",
    "        bottomcolor1[\"total\"][9] += 1\n",
    "    elif bottom[\"Color_1\"][i] == \"Beige\":\n",
    "        bottomcolor1[\"total\"][10] += 1 \n",
    "    elif bottom[\"Color_1\"][i] == \"Orange\":\n",
    "        bottomcolor1[\"total\"][11] += 1\n",
    "    elif bottom[\"Color_1\"][i] == \"Brown\":\n",
    "        bottomcolor1[\"total\"][12] += 1\n",
    "    elif bottom[\"Color_1\"][i] == \"Colorful\":\n",
    "        bottomcolor1[\"total\"][13] += 1\n",
    "        \n",
    "# keep count of different colors as the secondary color in bottoms\n",
    "for i in range(len(bottom)):\n",
    "    if bottom[\"Color_2\"][i] == \"Blue\":\n",
    "        bottomcolor2[\"total\"][0] += 1\n",
    "    elif bottom[\"Color_2\"][i] == \"Black\":\n",
    "        bottomcolor2[\"total\"][1] += 1\n",
    "    elif bottom[\"Color_2\"][i] == \"Red\":\n",
    "        bottomcolor2[\"total\"][2] += 1 \n",
    "    elif bottom[\"Color_2\"][i] == \"Green\":\n",
    "        bottomcolor2[\"total\"][3] += 1 \n",
    "    elif bottom[\"Color_2\"][i] == \"White\":\n",
    "        bottomcolor2[\"total\"][4] += 1\n",
    "    elif bottom[\"Color_2\"][i] == \"Purple\":\n",
    "        bottomcolor2[\"total\"][5] += 1\n",
    "    elif bottom[\"Color_2\"][i] == \"Gray\":\n",
    "        bottomcolor2[\"total\"][6] += 1\n",
    "    elif bottom[\"Color_2\"][i] == \"Pink\":\n",
    "        bottomcolor2[\"total\"][7] += 1\n",
    "    elif bottom[\"Color_2\"][i] == \"Yellow\":\n",
    "        bottomcolor2[\"total\"][8] += 1\n",
    "    elif bottom[\"Color_2\"][i] == \"Light blue\":\n",
    "        bottomcolor2[\"total\"][9] += 1 \n",
    "    elif bottom[\"Color_2\"][i] == \"Beige\":\n",
    "        bottomcolor2[\"total\"][10] += 1 \n",
    "    elif bottom[\"Color_2\"][i] == \"Orange\":\n",
    "        bottomcolor2[\"total\"][11] += 1\n",
    "    elif bottom[\"Color_2\"][i] == \"Brown\":\n",
    "        bottomcolor2[\"total\"][12] += 1\n",
    "    elif bottom[\"Color_2\"][i] == \"Colorful\":\n",
    "        bottomcolor2[\"total\"][13] += 1 "
   ]
  },
  {
   "cell_type": "code",
   "execution_count": 74,
   "metadata": {
    "scrolled": true
   },
   "outputs": [
    {
     "name": "stdout",
     "output_type": "stream",
     "text": [
      "        colors  total\n",
      "0         Blue    106\n",
      "1        Black     71\n",
      "2          Red     76\n",
      "3        Green     98\n",
      "4        White     39\n",
      "5       Purple     45\n",
      "6         Gray     33\n",
      "7         Pink     59\n",
      "8       Yellow     44\n",
      "9   Light blue     54\n",
      "10       Beige     29\n",
      "11      Orange     39\n",
      "12       Brown     32\n",
      "13    Colorful      1\n",
      "\n",
      "        colors  total\n",
      "0         Blue     78\n",
      "1        Black     95\n",
      "2          Red     43\n",
      "3        Green     70\n",
      "4        White    100\n",
      "5       Purple     31\n",
      "6         Gray     29\n",
      "7         Pink     48\n",
      "8       Yellow     63\n",
      "9   Light blue     46\n",
      "10       Beige     36\n",
      "11      Orange     34\n",
      "12       Brown     46\n",
      "13    Colorful      7\n",
      "\n",
      "The total amount of bottoms is 726\n"
     ]
    }
   ],
   "source": [
    "print(bottomcolor1)\n",
    "print(\"\")\n",
    "print(bottomcolor2)\n",
    "print(\"\")\n",
    "print(\"The total amount of bottoms is\", len(bottom))"
   ]
  },
  {
   "cell_type": "code",
   "execution_count": 75,
   "metadata": {},
   "outputs": [],
   "source": [
    "# CREATE A CUSTOM COLOR PALETTE FOR THE NEXT GRAPH\n",
    "# Create an array with the colors you want to use\n",
    "ClothesColors = [\"#4073FF\", \"#2C3E50\", \"#FAD000\",\"#808080\", \"#D0D3D4\",\"#DB4035\", \"#299438\",\"#AF38EB\", \"#FF9933\", \"#96C3EB\", \"#935116\", \"#CCAC93\",\"#EB96EB\",\"#117864\"]\n",
    "\n",
    "\n",
    "# Set your custom color palette\n",
    "sns.set_palette(sns.color_palette(ClothesColors))"
   ]
  },
  {
   "cell_type": "code",
   "execution_count": 76,
   "metadata": {
    "scrolled": true
   },
   "outputs": [
    {
     "data": {
      "text/plain": [
       "<AxesSubplot:xlabel='Color_1', ylabel='count'>"
      ]
     },
     "execution_count": 76,
     "metadata": {},
     "output_type": "execute_result"
    },
    {
     "data": {
      "image/png": "[encoded data removed]",
      "text/plain": [
       "<Figure size 864x864 with 1 Axes>"
      ]
     },
     "metadata": {},
     "output_type": "display_data"
    }
   ],
   "source": [
    "#Create Graph\n",
    "sns.set_theme(style=\"whitegrid\") # from Data Science 1500\n",
    "sns.set(rc={'figure.figsize':(12,12)})\n",
    "sns.countplot(x = 'Color_1', data=bottom, palette=ClothesColors)"
   ]
  },
  {
   "cell_type": "code",
   "execution_count": 77,
   "metadata": {},
   "outputs": [],
   "source": [
    "# CREATE A CUSTOM COLOR PALETTE FOR THE NEXT GRAPH\n",
    "# Create an array with the colors you want to use\n",
    "ClothesColors = [\"#4073FF\", \"#2C3E50\", \"#AF38EB\", \"#96C3EB\", \"#CCAC93\", \"#D0D3D4\", \"#FAD000\", \"#FF9933\", \"#DB4035\",\"#299438\",\"#935116\", \"#EB96EB\",\"#808080\",\"#117864\"]\n",
    "\n",
    "\n",
    "# Set your custom color palette\n",
    "sns.set_palette(sns.color_palette(ClothesColors))"
   ]
  },
  {
   "cell_type": "code",
   "execution_count": 78,
   "metadata": {
    "scrolled": true
   },
   "outputs": [
    {
     "data": {
      "text/plain": [
       "<AxesSubplot:xlabel='Color_2', ylabel='count'>"
      ]
     },
     "execution_count": 78,
     "metadata": {},
     "output_type": "execute_result"
    },
    {
     "data": {
      "image/png": "[encoded data removed]",
      "text/plain": [
       "<Figure size 864x864 with 1 Axes>"
      ]
     },
     "metadata": {},
     "output_type": "display_data"
    }
   ],
   "source": [
    "#Create Graph\n",
    "sns.set_theme(style=\"whitegrid\") # from Data Science 1500\n",
    "sns.set(rc={'figure.figsize':(12,12)})\n",
    "sns.countplot(x = 'Color_2', data=bottom, palette=ClothesColors)"
   ]
  },
  {
   "cell_type": "markdown",
   "metadata": {},
   "source": [
    "#### Shoes"
   ]
  },
  {
   "cell_type": "code",
   "execution_count": 79,
   "metadata": {},
   "outputs": [],
   "source": [
    "#Replace space in column name with \"_\"\n",
    "shoe.columns = shoe.columns.str.replace(' ','_')"
   ]
  },
  {
   "cell_type": "code",
   "execution_count": 80,
   "metadata": {},
   "outputs": [
    {
     "name": "stdout",
     "output_type": "stream",
     "text": [
      "['Brown' 'Black' 'Beige' 'Gray' 'Light blue' 'Orange' 'Pink' 'Yellow'\n",
      " 'Purple' 'Green' 'Red' 'Blue' 'White']\n",
      "['Brown' 'Black' 'Beige' 'Gray' 'White' 'Yellow' 'Pink' 'Light blue'\n",
      " 'Blue' 'Purple' 'Orange' 'Colorful' 'Green' 'Red']\n"
     ]
    }
   ],
   "source": [
    "#Find the different colors used\n",
    "colors = shoe.Color_1.unique()\n",
    "print(colors)\n",
    "\n",
    "colors2 = shoe.Color_2.unique()\n",
    "print(colors2)"
   ]
  },
  {
   "cell_type": "code",
   "execution_count": 81,
   "metadata": {},
   "outputs": [],
   "source": [
    "shoecolor1 = pd.DataFrame({'colors': ['Blue', 'Black', 'Red', 'Green', 'White', 'Purple', 'Gray', 'Pink', 'Yellow','Light blue','Beige', 'Orange', 'Brown', 'Colorful'], 'total': [0,0,0,0,0,0,0,0,0,0,0,0,0,0]})\n",
    "shoecolor2 = pd.DataFrame({'colors': ['Blue', 'Black', 'Red', 'Green', 'White', 'Purple', 'Gray', 'Pink', 'Yellow','Light blue','Beige', 'Orange', 'Brown', 'Colorful'], 'total': [0,0,0,0,0,0,0,0,0,0,0,0,0,0]})"
   ]
  },
  {
   "cell_type": "code",
   "execution_count": 82,
   "metadata": {
    "scrolled": true
   },
   "outputs": [
    {
     "name": "stderr",
     "output_type": "stream",
     "text": [
      "<ipython-input-82-40e981c46446>:28: SettingWithCopyWarning: \n",
      "A value is trying to be set on a copy of a slice from a DataFrame\n",
      "\n",
      "See the caveats in the documentation: https://pandas.pydata.org/pandas-docs/stable/user_guide/indexing.html#returning-a-view-versus-a-copy\n",
      "  shoecolor1[\"total\"][12] += 1\n",
      "<ipython-input-82-40e981c46446>:6: SettingWithCopyWarning: \n",
      "A value is trying to be set on a copy of a slice from a DataFrame\n",
      "\n",
      "See the caveats in the documentation: https://pandas.pydata.org/pandas-docs/stable/user_guide/indexing.html#returning-a-view-versus-a-copy\n",
      "  shoecolor1[\"total\"][1] += 1\n",
      "<ipython-input-82-40e981c46446>:24: SettingWithCopyWarning: \n",
      "A value is trying to be set on a copy of a slice from a DataFrame\n",
      "\n",
      "See the caveats in the documentation: https://pandas.pydata.org/pandas-docs/stable/user_guide/indexing.html#returning-a-view-versus-a-copy\n",
      "  shoecolor1[\"total\"][10] += 1\n",
      "<ipython-input-82-40e981c46446>:16: SettingWithCopyWarning: \n",
      "A value is trying to be set on a copy of a slice from a DataFrame\n",
      "\n",
      "See the caveats in the documentation: https://pandas.pydata.org/pandas-docs/stable/user_guide/indexing.html#returning-a-view-versus-a-copy\n",
      "  shoecolor1[\"total\"][6] += 1\n",
      "<ipython-input-82-40e981c46446>:22: SettingWithCopyWarning: \n",
      "A value is trying to be set on a copy of a slice from a DataFrame\n",
      "\n",
      "See the caveats in the documentation: https://pandas.pydata.org/pandas-docs/stable/user_guide/indexing.html#returning-a-view-versus-a-copy\n",
      "  shoecolor1[\"total\"][9] += 1\n",
      "<ipython-input-82-40e981c46446>:26: SettingWithCopyWarning: \n",
      "A value is trying to be set on a copy of a slice from a DataFrame\n",
      "\n",
      "See the caveats in the documentation: https://pandas.pydata.org/pandas-docs/stable/user_guide/indexing.html#returning-a-view-versus-a-copy\n",
      "  shoecolor1[\"total\"][11] += 1\n",
      "<ipython-input-82-40e981c46446>:18: SettingWithCopyWarning: \n",
      "A value is trying to be set on a copy of a slice from a DataFrame\n",
      "\n",
      "See the caveats in the documentation: https://pandas.pydata.org/pandas-docs/stable/user_guide/indexing.html#returning-a-view-versus-a-copy\n",
      "  shoecolor1[\"total\"][7] += 1\n",
      "<ipython-input-82-40e981c46446>:20: SettingWithCopyWarning: \n",
      "A value is trying to be set on a copy of a slice from a DataFrame\n",
      "\n",
      "See the caveats in the documentation: https://pandas.pydata.org/pandas-docs/stable/user_guide/indexing.html#returning-a-view-versus-a-copy\n",
      "  shoecolor1[\"total\"][8] += 1\n",
      "<ipython-input-82-40e981c46446>:14: SettingWithCopyWarning: \n",
      "A value is trying to be set on a copy of a slice from a DataFrame\n",
      "\n",
      "See the caveats in the documentation: https://pandas.pydata.org/pandas-docs/stable/user_guide/indexing.html#returning-a-view-versus-a-copy\n",
      "  shoecolor1[\"total\"][5] += 1\n",
      "<ipython-input-82-40e981c46446>:10: SettingWithCopyWarning: \n",
      "A value is trying to be set on a copy of a slice from a DataFrame\n",
      "\n",
      "See the caveats in the documentation: https://pandas.pydata.org/pandas-docs/stable/user_guide/indexing.html#returning-a-view-versus-a-copy\n",
      "  shoecolor1[\"total\"][3] += 1\n",
      "<ipython-input-82-40e981c46446>:8: SettingWithCopyWarning: \n",
      "A value is trying to be set on a copy of a slice from a DataFrame\n",
      "\n",
      "See the caveats in the documentation: https://pandas.pydata.org/pandas-docs/stable/user_guide/indexing.html#returning-a-view-versus-a-copy\n",
      "  shoecolor1[\"total\"][2] += 1\n",
      "<ipython-input-82-40e981c46446>:4: SettingWithCopyWarning: \n",
      "A value is trying to be set on a copy of a slice from a DataFrame\n",
      "\n",
      "See the caveats in the documentation: https://pandas.pydata.org/pandas-docs/stable/user_guide/indexing.html#returning-a-view-versus-a-copy\n",
      "  shoecolor1[\"total\"][0] += 1\n",
      "<ipython-input-82-40e981c46446>:12: SettingWithCopyWarning: \n",
      "A value is trying to be set on a copy of a slice from a DataFrame\n",
      "\n",
      "See the caveats in the documentation: https://pandas.pydata.org/pandas-docs/stable/user_guide/indexing.html#returning-a-view-versus-a-copy\n",
      "  shoecolor1[\"total\"][4] += 1\n",
      "<ipython-input-82-40e981c46446>:59: SettingWithCopyWarning: \n",
      "A value is trying to be set on a copy of a slice from a DataFrame\n",
      "\n",
      "See the caveats in the documentation: https://pandas.pydata.org/pandas-docs/stable/user_guide/indexing.html#returning-a-view-versus-a-copy\n",
      "  shoecolor2[\"total\"][12] += 1\n",
      "<ipython-input-82-40e981c46446>:37: SettingWithCopyWarning: \n",
      "A value is trying to be set on a copy of a slice from a DataFrame\n",
      "\n",
      "See the caveats in the documentation: https://pandas.pydata.org/pandas-docs/stable/user_guide/indexing.html#returning-a-view-versus-a-copy\n",
      "  shoecolor2[\"total\"][1] += 1\n",
      "<ipython-input-82-40e981c46446>:55: SettingWithCopyWarning: \n",
      "A value is trying to be set on a copy of a slice from a DataFrame\n",
      "\n",
      "See the caveats in the documentation: https://pandas.pydata.org/pandas-docs/stable/user_guide/indexing.html#returning-a-view-versus-a-copy\n",
      "  shoecolor2[\"total\"][10] += 1\n",
      "<ipython-input-82-40e981c46446>:47: SettingWithCopyWarning: \n",
      "A value is trying to be set on a copy of a slice from a DataFrame\n",
      "\n",
      "See the caveats in the documentation: https://pandas.pydata.org/pandas-docs/stable/user_guide/indexing.html#returning-a-view-versus-a-copy\n",
      "  shoecolor2[\"total\"][6] += 1\n",
      "<ipython-input-82-40e981c46446>:43: SettingWithCopyWarning: \n",
      "A value is trying to be set on a copy of a slice from a DataFrame\n",
      "\n",
      "See the caveats in the documentation: https://pandas.pydata.org/pandas-docs/stable/user_guide/indexing.html#returning-a-view-versus-a-copy\n",
      "  shoecolor2[\"total\"][4] += 1\n",
      "<ipython-input-82-40e981c46446>:51: SettingWithCopyWarning: \n",
      "A value is trying to be set on a copy of a slice from a DataFrame\n",
      "\n",
      "See the caveats in the documentation: https://pandas.pydata.org/pandas-docs/stable/user_guide/indexing.html#returning-a-view-versus-a-copy\n",
      "  shoecolor2[\"total\"][8] += 1\n",
      "<ipython-input-82-40e981c46446>:49: SettingWithCopyWarning: \n",
      "A value is trying to be set on a copy of a slice from a DataFrame\n",
      "\n",
      "See the caveats in the documentation: https://pandas.pydata.org/pandas-docs/stable/user_guide/indexing.html#returning-a-view-versus-a-copy\n",
      "  shoecolor2[\"total\"][7] += 1\n",
      "<ipython-input-82-40e981c46446>:53: SettingWithCopyWarning: \n",
      "A value is trying to be set on a copy of a slice from a DataFrame\n",
      "\n",
      "See the caveats in the documentation: https://pandas.pydata.org/pandas-docs/stable/user_guide/indexing.html#returning-a-view-versus-a-copy\n",
      "  shoecolor2[\"total\"][9] += 1\n",
      "<ipython-input-82-40e981c46446>:35: SettingWithCopyWarning: \n",
      "A value is trying to be set on a copy of a slice from a DataFrame\n",
      "\n",
      "See the caveats in the documentation: https://pandas.pydata.org/pandas-docs/stable/user_guide/indexing.html#returning-a-view-versus-a-copy\n",
      "  shoecolor2[\"total\"][0] += 1\n",
      "<ipython-input-82-40e981c46446>:45: SettingWithCopyWarning: \n",
      "A value is trying to be set on a copy of a slice from a DataFrame\n",
      "\n",
      "See the caveats in the documentation: https://pandas.pydata.org/pandas-docs/stable/user_guide/indexing.html#returning-a-view-versus-a-copy\n",
      "  shoecolor2[\"total\"][5] += 1\n",
      "<ipython-input-82-40e981c46446>:57: SettingWithCopyWarning: \n",
      "A value is trying to be set on a copy of a slice from a DataFrame\n",
      "\n",
      "See the caveats in the documentation: https://pandas.pydata.org/pandas-docs/stable/user_guide/indexing.html#returning-a-view-versus-a-copy\n",
      "  shoecolor2[\"total\"][11] += 1\n",
      "<ipython-input-82-40e981c46446>:61: SettingWithCopyWarning: \n",
      "A value is trying to be set on a copy of a slice from a DataFrame\n",
      "\n",
      "See the caveats in the documentation: https://pandas.pydata.org/pandas-docs/stable/user_guide/indexing.html#returning-a-view-versus-a-copy\n",
      "  shoecolor2[\"total\"][13] += 1\n",
      "<ipython-input-82-40e981c46446>:41: SettingWithCopyWarning: \n",
      "A value is trying to be set on a copy of a slice from a DataFrame\n",
      "\n",
      "See the caveats in the documentation: https://pandas.pydata.org/pandas-docs/stable/user_guide/indexing.html#returning-a-view-versus-a-copy\n",
      "  shoecolor2[\"total\"][3] += 1\n",
      "<ipython-input-82-40e981c46446>:39: SettingWithCopyWarning: \n",
      "A value is trying to be set on a copy of a slice from a DataFrame\n",
      "\n",
      "See the caveats in the documentation: https://pandas.pydata.org/pandas-docs/stable/user_guide/indexing.html#returning-a-view-versus-a-copy\n",
      "  shoecolor2[\"total\"][2] += 1\n"
     ]
    }
   ],
   "source": [
    "# keep count of different colors as the main color in shoes\n",
    "for i in range(len(shoe)):\n",
    "    if shoe[\"Color_1\"][i] == \"Blue\":\n",
    "        shoecolor1[\"total\"][0] += 1\n",
    "    elif shoe[\"Color_1\"][i] == \"Black\":\n",
    "        shoecolor1[\"total\"][1] += 1\n",
    "    elif shoe[\"Color_1\"][i] == \"Red\":\n",
    "        shoecolor1[\"total\"][2] += 1 \n",
    "    elif shoe[\"Color_1\"][i] == \"Green\":\n",
    "        shoecolor1[\"total\"][3] += 1 \n",
    "    elif shoe[\"Color_1\"][i] == \"White\":\n",
    "        shoecolor1[\"total\"][4] += 1\n",
    "    elif shoe[\"Color_1\"][i] == \"Purple\":\n",
    "        shoecolor1[\"total\"][5] += 1\n",
    "    elif shoe[\"Color_1\"][i] == \"Gray\":\n",
    "        shoecolor1[\"total\"][6] += 1\n",
    "    elif shoe[\"Color_1\"][i] == \"Pink\":\n",
    "        shoecolor1[\"total\"][7] += 1\n",
    "    elif shoe[\"Color_1\"][i] == \"Yellow\":\n",
    "        shoecolor1[\"total\"][8] += 1\n",
    "    elif shoe[\"Color_1\"][i] == \"Light blue\":\n",
    "        shoecolor1[\"total\"][9] += 1\n",
    "    elif shoe[\"Color_1\"][i] == \"Beige\":\n",
    "        shoecolor1[\"total\"][10] += 1 \n",
    "    elif shoe[\"Color_1\"][i] == \"Orange\":\n",
    "        shoecolor1[\"total\"][11] += 1\n",
    "    elif shoe[\"Color_1\"][i] == \"Brown\":\n",
    "        shoecolor1[\"total\"][12] += 1\n",
    "    elif shoe[\"Color_1\"][i] == \"Colorful\":\n",
    "        shoecolor1[\"total\"][13] += 1\n",
    "        \n",
    "# keep count of different colors as the secondary color in shoes\n",
    "for i in range(len(shoe)):\n",
    "    if shoe[\"Color_2\"][i] == \"Blue\":\n",
    "        shoecolor2[\"total\"][0] += 1\n",
    "    elif shoe[\"Color_2\"][i] == \"Black\":\n",
    "        shoecolor2[\"total\"][1] += 1\n",
    "    elif shoe[\"Color_2\"][i] == \"Red\":\n",
    "        shoecolor2[\"total\"][2] += 1 \n",
    "    elif shoe[\"Color_2\"][i] == \"Green\":\n",
    "        shoecolor2[\"total\"][3] += 1 \n",
    "    elif shoe[\"Color_2\"][i] == \"White\":\n",
    "        shoecolor2[\"total\"][4] += 1\n",
    "    elif shoe[\"Color_2\"][i] == \"Purple\":\n",
    "        shoecolor2[\"total\"][5] += 1\n",
    "    elif shoe[\"Color_2\"][i] == \"Gray\":\n",
    "        shoecolor2[\"total\"][6] += 1\n",
    "    elif shoe[\"Color_2\"][i] == \"Pink\":\n",
    "        shoecolor2[\"total\"][7] += 1\n",
    "    elif shoe[\"Color_2\"][i] == \"Yellow\":\n",
    "        shoecolor2[\"total\"][8] += 1\n",
    "    elif shoe[\"Color_2\"][i] == \"Light blue\":\n",
    "        shoecolor2[\"total\"][9] += 1 \n",
    "    elif shoe[\"Color_2\"][i] == \"Beige\":\n",
    "        shoecolor2[\"total\"][10] += 1 \n",
    "    elif shoe[\"Color_2\"][i] == \"Orange\":\n",
    "        shoecolor2[\"total\"][11] += 1\n",
    "    elif shoe[\"Color_2\"][i] == \"Brown\":\n",
    "        shoecolor2[\"total\"][12] += 1\n",
    "    elif shoe[\"Color_2\"][i] == \"Colorful\":\n",
    "        shoecolor2[\"total\"][13] += 1 "
   ]
  },
  {
   "cell_type": "code",
   "execution_count": 83,
   "metadata": {
    "scrolled": true
   },
   "outputs": [
    {
     "name": "stdout",
     "output_type": "stream",
     "text": [
      "        colors  total\n",
      "0         Blue     48\n",
      "1        Black     50\n",
      "2          Red     56\n",
      "3        Green     47\n",
      "4        White     33\n",
      "5       Purple     30\n",
      "6         Gray     20\n",
      "7         Pink     41\n",
      "8       Yellow     45\n",
      "9   Light blue     28\n",
      "10       Beige     17\n",
      "11      Orange     18\n",
      "12       Brown     21\n",
      "13    Colorful      0\n",
      "\n",
      "        colors  total\n",
      "0         Blue     22\n",
      "1        Black    101\n",
      "2          Red     24\n",
      "3        Green     22\n",
      "4        White     98\n",
      "5       Purple     15\n",
      "6         Gray     27\n",
      "7         Pink     25\n",
      "8       Yellow     21\n",
      "9   Light blue     13\n",
      "10       Beige     42\n",
      "11      Orange      9\n",
      "12       Brown     29\n",
      "13    Colorful      6\n",
      "\n",
      "The total amount of shoes is 454\n"
     ]
    }
   ],
   "source": [
    "print(shoecolor1)\n",
    "print(\"\")\n",
    "print(shoecolor2)\n",
    "print(\"\")\n",
    "print(\"The total amount of shoes is\", len(shoe))"
   ]
  },
  {
   "cell_type": "code",
   "execution_count": 84,
   "metadata": {},
   "outputs": [],
   "source": [
    "# CREATE A CUSTOM COLOR PALETTE FOR THE NEXT GRAPH\n",
    "# Create an array with the colors you want to use\n",
    "ClothesColors = [\"#935116\",\"#2C3E50\",\"#CCAC93\",\"#808080\",\"#96C3EB\",\"#FF9933\",\"#EB96EB\",\"#FAD000\",\"#AF38EB\",\"#299438\",\"#DB4035\",\"#4073FF\",\"#D0D3D4\"]\n",
    "\n",
    "\n",
    "# Set your custom color palette\n",
    "sns.set_palette(sns.color_palette(ClothesColors))"
   ]
  },
  {
   "cell_type": "code",
   "execution_count": 85,
   "metadata": {
    "scrolled": true
   },
   "outputs": [
    {
     "data": {
      "text/plain": [
       "<AxesSubplot:xlabel='Color_1', ylabel='count'>"
      ]
     },
     "execution_count": 85,
     "metadata": {},
     "output_type": "execute_result"
    },
    {
     "data": {
      "image/png": "[encoded data removed]",
      "text/plain": [
       "<Figure size 864x864 with 1 Axes>"
      ]
     },
     "metadata": {},
     "output_type": "display_data"
    }
   ],
   "source": [
    "#Create Graph\n",
    "sns.set_theme(style=\"whitegrid\") # from Data Science 1500\n",
    "sns.set(rc={'figure.figsize':(12,12)})\n",
    "sns.countplot(x = 'Color_1', data=shoe, palette=ClothesColors)"
   ]
  },
  {
   "cell_type": "code",
   "execution_count": 86,
   "metadata": {},
   "outputs": [],
   "source": [
    "# CREATE A CUSTOM COLOR PALETTE FOR THE NEXT GRAPH\n",
    "# Create an array with the colors you want to use\n",
    "ClothesColors = [\"#935116\",\"#2C3E50\",\"#CCAC93\",\"#808080\", \"#D0D3D4\", \"#FAD000\",\"#EB96EB\",\"#96C3EB\",\"#4073FF\", \"#AF38EB\",\"#FF9933\",\"#117864\", \"#299438\",\"#DB4035\"]\n",
    "\n",
    "# Set your custom color palette\n",
    "sns.set_palette(sns.color_palette(ClothesColors))"
   ]
  },
  {
   "cell_type": "code",
   "execution_count": 87,
   "metadata": {
    "scrolled": true
   },
   "outputs": [
    {
     "data": {
      "text/plain": [
       "<AxesSubplot:xlabel='Color_2', ylabel='count'>"
      ]
     },
     "execution_count": 87,
     "metadata": {},
     "output_type": "execute_result"
    },
    {
     "data": {
      "image/png": "[encoded data removed]",
      "text/plain": [
       "<Figure size 864x864 with 1 Axes>"
      ]
     },
     "metadata": {},
     "output_type": "display_data"
    }
   ],
   "source": [
    "#Create Graph\n",
    "sns.set_theme(style=\"whitegrid\") # from Data Science 1500\n",
    "sns.set(rc={'figure.figsize':(12,12)})\n",
    "sns.countplot(x = 'Color_2', data=shoe, palette=ClothesColors)"
   ]
  },
  {
   "cell_type": "markdown",
   "metadata": {},
   "source": [
    "#### Headgear"
   ]
  },
  {
   "cell_type": "code",
   "execution_count": 88,
   "metadata": {},
   "outputs": [],
   "source": [
    "#Replace space in column name with \"_\"\n",
    "hat.columns = hat.columns.str.replace(' ','_')"
   ]
  },
  {
   "cell_type": "code",
   "execution_count": 89,
   "metadata": {},
   "outputs": [
    {
     "name": "stdout",
     "output_type": "stream",
     "text": [
      "['Brown' 'Yellow' 'Green' 'Red' 'Blue' 'Beige' 'Black' 'White'\n",
      " 'Light blue' 'Pink' 'Orange' 'Colorful' 'Gray' 'Purple']\n",
      "['Brown' 'Yellow' 'Green' 'Red' 'Blue' 'Beige' 'Light blue' 'Pink' 'Black'\n",
      " 'White' 'Colorful' 'Purple' 'Orange' 'Gray']\n"
     ]
    }
   ],
   "source": [
    "#Find the different colors used\n",
    "colors = hat.Color_1.unique()\n",
    "print(colors)\n",
    "\n",
    "colors2 = hat.Color_2.unique()\n",
    "print(colors2)"
   ]
  },
  {
   "cell_type": "code",
   "execution_count": 90,
   "metadata": {},
   "outputs": [],
   "source": [
    "hatscolor1 = pd.DataFrame({'colors': ['Blue', 'Black', 'Red', 'Green', 'White', 'Purple', 'Gray', 'Pink', 'Yellow','Light blue','Beige', 'Orange', 'Brown', 'Colorful'], 'total': [0,0,0,0,0,0,0,0,0,0,0,0,0,0]})\n",
    "hatscolor2 = pd.DataFrame({'colors': ['Blue', 'Black', 'Red', 'Green', 'White', 'Purple', 'Gray', 'Pink', 'Yellow','Light blue','Beige', 'Orange', 'Brown', 'Colorful'], 'total': [0,0,0,0,0,0,0,0,0,0,0,0,0,0]})"
   ]
  },
  {
   "cell_type": "code",
   "execution_count": 91,
   "metadata": {},
   "outputs": [
    {
     "name": "stderr",
     "output_type": "stream",
     "text": [
      "<ipython-input-91-24df37e15a58>:28: SettingWithCopyWarning: \n",
      "A value is trying to be set on a copy of a slice from a DataFrame\n",
      "\n",
      "See the caveats in the documentation: https://pandas.pydata.org/pandas-docs/stable/user_guide/indexing.html#returning-a-view-versus-a-copy\n",
      "  hatscolor1[\"total\"][12] += 1\n",
      "<ipython-input-91-24df37e15a58>:20: SettingWithCopyWarning: \n",
      "A value is trying to be set on a copy of a slice from a DataFrame\n",
      "\n",
      "See the caveats in the documentation: https://pandas.pydata.org/pandas-docs/stable/user_guide/indexing.html#returning-a-view-versus-a-copy\n",
      "  hatscolor1[\"total\"][8] += 1\n",
      "<ipython-input-91-24df37e15a58>:10: SettingWithCopyWarning: \n",
      "A value is trying to be set on a copy of a slice from a DataFrame\n",
      "\n",
      "See the caveats in the documentation: https://pandas.pydata.org/pandas-docs/stable/user_guide/indexing.html#returning-a-view-versus-a-copy\n",
      "  hatscolor1[\"total\"][3] += 1\n",
      "<ipython-input-91-24df37e15a58>:8: SettingWithCopyWarning: \n",
      "A value is trying to be set on a copy of a slice from a DataFrame\n",
      "\n",
      "See the caveats in the documentation: https://pandas.pydata.org/pandas-docs/stable/user_guide/indexing.html#returning-a-view-versus-a-copy\n",
      "  hatscolor1[\"total\"][2] += 1\n",
      "<ipython-input-91-24df37e15a58>:4: SettingWithCopyWarning: \n",
      "A value is trying to be set on a copy of a slice from a DataFrame\n",
      "\n",
      "See the caveats in the documentation: https://pandas.pydata.org/pandas-docs/stable/user_guide/indexing.html#returning-a-view-versus-a-copy\n",
      "  hatscolor1[\"total\"][0] += 1\n",
      "<ipython-input-91-24df37e15a58>:24: SettingWithCopyWarning: \n",
      "A value is trying to be set on a copy of a slice from a DataFrame\n",
      "\n",
      "See the caveats in the documentation: https://pandas.pydata.org/pandas-docs/stable/user_guide/indexing.html#returning-a-view-versus-a-copy\n",
      "  hatscolor1[\"total\"][10] += 1\n",
      "<ipython-input-91-24df37e15a58>:6: SettingWithCopyWarning: \n",
      "A value is trying to be set on a copy of a slice from a DataFrame\n",
      "\n",
      "See the caveats in the documentation: https://pandas.pydata.org/pandas-docs/stable/user_guide/indexing.html#returning-a-view-versus-a-copy\n",
      "  hatscolor1[\"total\"][1] += 1\n",
      "<ipython-input-91-24df37e15a58>:12: SettingWithCopyWarning: \n",
      "A value is trying to be set on a copy of a slice from a DataFrame\n",
      "\n",
      "See the caveats in the documentation: https://pandas.pydata.org/pandas-docs/stable/user_guide/indexing.html#returning-a-view-versus-a-copy\n",
      "  hatscolor1[\"total\"][4] += 1\n",
      "<ipython-input-91-24df37e15a58>:22: SettingWithCopyWarning: \n",
      "A value is trying to be set on a copy of a slice from a DataFrame\n",
      "\n",
      "See the caveats in the documentation: https://pandas.pydata.org/pandas-docs/stable/user_guide/indexing.html#returning-a-view-versus-a-copy\n",
      "  hatscolor1[\"total\"][9] += 1\n",
      "<ipython-input-91-24df37e15a58>:18: SettingWithCopyWarning: \n",
      "A value is trying to be set on a copy of a slice from a DataFrame\n",
      "\n",
      "See the caveats in the documentation: https://pandas.pydata.org/pandas-docs/stable/user_guide/indexing.html#returning-a-view-versus-a-copy\n",
      "  hatscolor1[\"total\"][7] += 1\n",
      "<ipython-input-91-24df37e15a58>:26: SettingWithCopyWarning: \n",
      "A value is trying to be set on a copy of a slice from a DataFrame\n",
      "\n",
      "See the caveats in the documentation: https://pandas.pydata.org/pandas-docs/stable/user_guide/indexing.html#returning-a-view-versus-a-copy\n",
      "  hatscolor1[\"total\"][11] += 1\n",
      "<ipython-input-91-24df37e15a58>:30: SettingWithCopyWarning: \n",
      "A value is trying to be set on a copy of a slice from a DataFrame\n",
      "\n",
      "See the caveats in the documentation: https://pandas.pydata.org/pandas-docs/stable/user_guide/indexing.html#returning-a-view-versus-a-copy\n",
      "  hatscolor1[\"total\"][13] += 1\n",
      "<ipython-input-91-24df37e15a58>:16: SettingWithCopyWarning: \n",
      "A value is trying to be set on a copy of a slice from a DataFrame\n",
      "\n",
      "See the caveats in the documentation: https://pandas.pydata.org/pandas-docs/stable/user_guide/indexing.html#returning-a-view-versus-a-copy\n",
      "  hatscolor1[\"total\"][6] += 1\n",
      "<ipython-input-91-24df37e15a58>:14: SettingWithCopyWarning: \n",
      "A value is trying to be set on a copy of a slice from a DataFrame\n",
      "\n",
      "See the caveats in the documentation: https://pandas.pydata.org/pandas-docs/stable/user_guide/indexing.html#returning-a-view-versus-a-copy\n",
      "  hatscolor1[\"total\"][5] += 1\n",
      "<ipython-input-91-24df37e15a58>:59: SettingWithCopyWarning: \n",
      "A value is trying to be set on a copy of a slice from a DataFrame\n",
      "\n",
      "See the caveats in the documentation: https://pandas.pydata.org/pandas-docs/stable/user_guide/indexing.html#returning-a-view-versus-a-copy\n",
      "  hatscolor2[\"total\"][12] += 1\n",
      "<ipython-input-91-24df37e15a58>:51: SettingWithCopyWarning: \n",
      "A value is trying to be set on a copy of a slice from a DataFrame\n",
      "\n",
      "See the caveats in the documentation: https://pandas.pydata.org/pandas-docs/stable/user_guide/indexing.html#returning-a-view-versus-a-copy\n",
      "  hatscolor2[\"total\"][8] += 1\n",
      "<ipython-input-91-24df37e15a58>:41: SettingWithCopyWarning: \n",
      "A value is trying to be set on a copy of a slice from a DataFrame\n",
      "\n",
      "See the caveats in the documentation: https://pandas.pydata.org/pandas-docs/stable/user_guide/indexing.html#returning-a-view-versus-a-copy\n",
      "  hatscolor2[\"total\"][3] += 1\n",
      "<ipython-input-91-24df37e15a58>:39: SettingWithCopyWarning: \n",
      "A value is trying to be set on a copy of a slice from a DataFrame\n",
      "\n",
      "See the caveats in the documentation: https://pandas.pydata.org/pandas-docs/stable/user_guide/indexing.html#returning-a-view-versus-a-copy\n",
      "  hatscolor2[\"total\"][2] += 1\n",
      "<ipython-input-91-24df37e15a58>:35: SettingWithCopyWarning: \n",
      "A value is trying to be set on a copy of a slice from a DataFrame\n",
      "\n",
      "See the caveats in the documentation: https://pandas.pydata.org/pandas-docs/stable/user_guide/indexing.html#returning-a-view-versus-a-copy\n",
      "  hatscolor2[\"total\"][0] += 1\n",
      "<ipython-input-91-24df37e15a58>:55: SettingWithCopyWarning: \n",
      "A value is trying to be set on a copy of a slice from a DataFrame\n",
      "\n",
      "See the caveats in the documentation: https://pandas.pydata.org/pandas-docs/stable/user_guide/indexing.html#returning-a-view-versus-a-copy\n",
      "  hatscolor2[\"total\"][10] += 1\n",
      "<ipython-input-91-24df37e15a58>:53: SettingWithCopyWarning: \n",
      "A value is trying to be set on a copy of a slice from a DataFrame\n",
      "\n",
      "See the caveats in the documentation: https://pandas.pydata.org/pandas-docs/stable/user_guide/indexing.html#returning-a-view-versus-a-copy\n",
      "  hatscolor2[\"total\"][9] += 1\n",
      "<ipython-input-91-24df37e15a58>:49: SettingWithCopyWarning: \n",
      "A value is trying to be set on a copy of a slice from a DataFrame\n",
      "\n",
      "See the caveats in the documentation: https://pandas.pydata.org/pandas-docs/stable/user_guide/indexing.html#returning-a-view-versus-a-copy\n",
      "  hatscolor2[\"total\"][7] += 1\n",
      "<ipython-input-91-24df37e15a58>:37: SettingWithCopyWarning: \n",
      "A value is trying to be set on a copy of a slice from a DataFrame\n",
      "\n",
      "See the caveats in the documentation: https://pandas.pydata.org/pandas-docs/stable/user_guide/indexing.html#returning-a-view-versus-a-copy\n",
      "  hatscolor2[\"total\"][1] += 1\n",
      "<ipython-input-91-24df37e15a58>:43: SettingWithCopyWarning: \n",
      "A value is trying to be set on a copy of a slice from a DataFrame\n",
      "\n",
      "See the caveats in the documentation: https://pandas.pydata.org/pandas-docs/stable/user_guide/indexing.html#returning-a-view-versus-a-copy\n",
      "  hatscolor2[\"total\"][4] += 1\n",
      "<ipython-input-91-24df37e15a58>:61: SettingWithCopyWarning: \n",
      "A value is trying to be set on a copy of a slice from a DataFrame\n",
      "\n",
      "See the caveats in the documentation: https://pandas.pydata.org/pandas-docs/stable/user_guide/indexing.html#returning-a-view-versus-a-copy\n",
      "  hatscolor2[\"total\"][13] += 1\n",
      "<ipython-input-91-24df37e15a58>:45: SettingWithCopyWarning: \n",
      "A value is trying to be set on a copy of a slice from a DataFrame\n",
      "\n",
      "See the caveats in the documentation: https://pandas.pydata.org/pandas-docs/stable/user_guide/indexing.html#returning-a-view-versus-a-copy\n",
      "  hatscolor2[\"total\"][5] += 1\n",
      "<ipython-input-91-24df37e15a58>:57: SettingWithCopyWarning: \n",
      "A value is trying to be set on a copy of a slice from a DataFrame\n",
      "\n",
      "See the caveats in the documentation: https://pandas.pydata.org/pandas-docs/stable/user_guide/indexing.html#returning-a-view-versus-a-copy\n",
      "  hatscolor2[\"total\"][11] += 1\n",
      "<ipython-input-91-24df37e15a58>:47: SettingWithCopyWarning: \n",
      "A value is trying to be set on a copy of a slice from a DataFrame\n",
      "\n",
      "See the caveats in the documentation: https://pandas.pydata.org/pandas-docs/stable/user_guide/indexing.html#returning-a-view-versus-a-copy\n",
      "  hatscolor2[\"total\"][6] += 1\n"
     ]
    }
   ],
   "source": [
    "# keep count of different colors as the main color in shoes\n",
    "for i in range(len(hat)):\n",
    "    if hat[\"Color_1\"][i] == \"Blue\":\n",
    "        hatscolor1[\"total\"][0] += 1\n",
    "    elif hat[\"Color_1\"][i] == \"Black\":\n",
    "        hatscolor1[\"total\"][1] += 1\n",
    "    elif hat[\"Color_1\"][i] == \"Red\":\n",
    "        hatscolor1[\"total\"][2] += 1 \n",
    "    elif hat[\"Color_1\"][i] == \"Green\":\n",
    "        hatscolor1[\"total\"][3] += 1 \n",
    "    elif hat[\"Color_1\"][i] == \"White\":\n",
    "        hatscolor1[\"total\"][4] += 1\n",
    "    elif hat[\"Color_1\"][i] == \"Purple\":\n",
    "        hatscolor1[\"total\"][5] += 1\n",
    "    elif hat[\"Color_1\"][i] == \"Gray\":\n",
    "        hatscolor1[\"total\"][6] += 1\n",
    "    elif hat[\"Color_1\"][i] == \"Pink\":\n",
    "        hatscolor1[\"total\"][7] += 1\n",
    "    elif hat[\"Color_1\"][i] == \"Yellow\":\n",
    "        hatscolor1[\"total\"][8] += 1\n",
    "    elif hat[\"Color_1\"][i] == \"Light blue\":\n",
    "        hatscolor1[\"total\"][9] += 1\n",
    "    elif hat[\"Color_1\"][i] == \"Beige\":\n",
    "        hatscolor1[\"total\"][10] += 1 \n",
    "    elif hat[\"Color_1\"][i] == \"Orange\":\n",
    "        hatscolor1[\"total\"][11] += 1\n",
    "    elif hat[\"Color_1\"][i] == \"Brown\":\n",
    "        hatscolor1[\"total\"][12] += 1\n",
    "    elif hat[\"Color_1\"][i] == \"Colorful\":\n",
    "        hatscolor1[\"total\"][13] += 1\n",
    "        \n",
    "# keep count of different colors as the secondary color in shoes\n",
    "for i in range(len(hat)):\n",
    "    if hat[\"Color_2\"][i] == \"Blue\":\n",
    "        hatscolor2[\"total\"][0] += 1\n",
    "    elif hat[\"Color_2\"][i] == \"Black\":\n",
    "        hatscolor2[\"total\"][1] += 1\n",
    "    elif hat[\"Color_2\"][i] == \"Red\":\n",
    "        hatscolor2[\"total\"][2] += 1 \n",
    "    elif hat[\"Color_2\"][i] == \"Green\":\n",
    "        hatscolor2[\"total\"][3] += 1 \n",
    "    elif hat[\"Color_2\"][i] == \"White\":\n",
    "        hatscolor2[\"total\"][4] += 1\n",
    "    elif hat[\"Color_2\"][i] == \"Purple\":\n",
    "        hatscolor2[\"total\"][5] += 1\n",
    "    elif hat[\"Color_2\"][i] == \"Gray\":\n",
    "        hatscolor2[\"total\"][6] += 1\n",
    "    elif hat[\"Color_2\"][i] == \"Pink\":\n",
    "        hatscolor2[\"total\"][7] += 1\n",
    "    elif hat[\"Color_2\"][i] == \"Yellow\":\n",
    "        hatscolor2[\"total\"][8] += 1\n",
    "    elif hat[\"Color_2\"][i] == \"Light blue\":\n",
    "        hatscolor2[\"total\"][9] += 1 \n",
    "    elif hat[\"Color_2\"][i] == \"Beige\":\n",
    "        hatscolor2[\"total\"][10] += 1 \n",
    "    elif hat[\"Color_2\"][i] == \"Orange\":\n",
    "        hatscolor2[\"total\"][11] += 1\n",
    "    elif hat[\"Color_2\"][i] == \"Brown\":\n",
    "        hatscolor2[\"total\"][12] += 1\n",
    "    elif hat[\"Color_2\"][i] == \"Colorful\":\n",
    "        hatscolor2[\"total\"][13] += 1 "
   ]
  },
  {
   "cell_type": "code",
   "execution_count": 92,
   "metadata": {
    "scrolled": true
   },
   "outputs": [
    {
     "name": "stdout",
     "output_type": "stream",
     "text": [
      "        colors  total\n",
      "0         Blue     81\n",
      "1        Black     64\n",
      "2          Red     91\n",
      "3        Green     84\n",
      "4        White     59\n",
      "5       Purple     44\n",
      "6         Gray     22\n",
      "7         Pink     61\n",
      "8       Yellow     54\n",
      "9   Light blue     32\n",
      "10       Beige     34\n",
      "11      Orange     34\n",
      "12       Brown     25\n",
      "13    Colorful     13\n",
      "\n",
      "        colors  total\n",
      "0         Blue     43\n",
      "1        Black     96\n",
      "2          Red     48\n",
      "3        Green     60\n",
      "4        White    109\n",
      "5       Purple     20\n",
      "6         Gray     42\n",
      "7         Pink     31\n",
      "8       Yellow     97\n",
      "9   Light blue     30\n",
      "10       Beige     20\n",
      "11      Orange     26\n",
      "12       Brown     24\n",
      "13    Colorful     52\n",
      "\n",
      "The total amount of hats is 698\n"
     ]
    }
   ],
   "source": [
    "print(hatscolor1)\n",
    "print(\"\")\n",
    "print(hatscolor2)\n",
    "print(\"\")\n",
    "print(\"The total amount of hats is\", len(hat))"
   ]
  },
  {
   "cell_type": "code",
   "execution_count": 93,
   "metadata": {},
   "outputs": [],
   "source": [
    "# CREATE A CUSTOM COLOR PALETTE FOR THE NEXT GRAPH\n",
    "# Create an array with the colors you want to use\n",
    "ClothesColors = [\"#935116\",\"#FAD000\",\"#299438\",\"#DB4035\",\"#4073FF\",\"#CCAC93\",\"#2C3E50\",\"#D0D3D4\",\"#96C3EB\",\"#EB96EB\", \"#FF9933\",\"#117864\",\"#808080\", \"#AF38EB\"]\n",
    "\n",
    "# Set your custom color palette\n",
    "sns.set_palette(sns.color_palette(ClothesColors))"
   ]
  },
  {
   "cell_type": "code",
   "execution_count": 94,
   "metadata": {
    "scrolled": true
   },
   "outputs": [
    {
     "data": {
      "text/plain": [
       "<AxesSubplot:xlabel='Color_1', ylabel='count'>"
      ]
     },
     "execution_count": 94,
     "metadata": {},
     "output_type": "execute_result"
    },
    {
     "data": {
      "image/png": "[encoded data removed]",
      "text/plain": [
       "<Figure size 864x864 with 1 Axes>"
      ]
     },
     "metadata": {},
     "output_type": "display_data"
    }
   ],
   "source": [
    "#Create Graph\n",
    "sns.set_theme(style=\"whitegrid\") # from Data Science 1500\n",
    "sns.set(rc={'figure.figsize':(12,12)})\n",
    "sns.countplot(x = 'Color_1', data=hat, palette=ClothesColors)"
   ]
  },
  {
   "cell_type": "code",
   "execution_count": 95,
   "metadata": {},
   "outputs": [],
   "source": [
    "# CREATE A CUSTOM COLOR PALETTE FOR THE NEXT GRAPH\n",
    "# Create an array with the colors you want to use\n",
    "ClothesColors = [\"#935116\",\"#FAD000\",\"#299438\", \"#DB4035\",\"#4073FF\",\"#CCAC93\",\"#96C3EB\",\"#EB96EB\",\"#2C3E50\",\"#D0D3D4\", \"#117864\",\"#AF38EB\",\"#FF9933\",\"#808080\"]\n",
    "\n",
    "# Set your custom color palette\n",
    "sns.set_palette(sns.color_palette(ClothesColors))"
   ]
  },
  {
   "cell_type": "code",
   "execution_count": 96,
   "metadata": {
    "scrolled": false
   },
   "outputs": [
    {
     "data": {
      "text/plain": [
       "<AxesSubplot:xlabel='Color_2', ylabel='count'>"
      ]
     },
     "execution_count": 96,
     "metadata": {},
     "output_type": "execute_result"
    },
    {
     "data": {
      "image/png": "[encoded data removed]",
      "text/plain": [
       "<Figure size 864x864 with 1 Axes>"
      ]
     },
     "metadata": {},
     "output_type": "display_data"
    }
   ],
   "source": [
    "#Create Graph\n",
    "sns.set_theme(style=\"whitegrid\") # from Data Science 1500\n",
    "sns.set(rc={'figure.figsize':(12,12)})\n",
    "sns.countplot(x = 'Color_2', data=hat, palette=ClothesColors)"
   ]
  },
  {
   "cell_type": "markdown",
   "metadata": {},
   "source": [
    "### Seasonal Clothes Analyses"
   ]
  },
  {
   "cell_type": "code",
   "execution_count": 97,
   "metadata": {},
   "outputs": [
    {
     "data": {
      "image/png": "[encoded data removed]",
      "text/plain": [
       "<Figure size 864x720 with 1 Axes>"
      ]
     },
     "metadata": {},
     "output_type": "display_data"
    }
   ],
   "source": [
    "# How many clothes of all variations are seasonal? Represent this question visually\n",
    "sns.set_theme(style=\"whitegrid\") # from Data Science 1500\n",
    "sns.set(rc={'figure.figsize':(12,10)})\n",
    "sns.countplot(x='Seasonal Availability', data=cDat, palette=\"Blues_r\")\n",
    "\n",
    "plt.show()\n",
    "\n",
    "### CITATION: https://seaborn.pydata.org/generated/seaborn.countplot.html\n",
    "### COLOR CITATION: https://medium.com/@morganjonesartist/color-guide-to-seaborn-palettes-da849406d44f\n",
    "### WHITEGRID CITATION: Dr. Scott Siepel, Data 1500"
   ]
  },
  {
   "cell_type": "code",
   "execution_count": 98,
   "metadata": {
    "scrolled": false
   },
   "outputs": [
    {
     "data": {
      "image/png": "[encoded data removed]",
      "text/plain": [
       "<Figure size 864x720 with 1 Axes>"
      ]
     },
     "metadata": {},
     "output_type": "display_data"
    }
   ],
   "source": [
    "# How many single clothing items are seasonal? Represent this question visually\n",
    "sns.set_theme(style=\"whitegrid\") # from Data Science 1500\n",
    "sns.set(rc={'figure.figsize':(12,10)})\n",
    "sns.countplot(x='Seasonal Availability', data=itemDat, palette=\"Greens\") # Change to item dataset\n",
    "\n",
    "plt.show()\n",
    "\n",
    "# This one will be more informative for our presentation, since counting variations is somewhat misleading.\n",
    "\n",
    "### CITATION: https://seaborn.pydata.org/generated/seaborn.countplot.html\n",
    "### COLOR CITATION: https://medium.com/@morganjonesartist/color-guide-to-seaborn-palettes-da849406d44f\n",
    "### WHITEGRID CITATION: Dr. Scott Siepel, Data 1500"
   ]
  },
  {
   "cell_type": "code",
   "execution_count": 99,
   "metadata": {},
   "outputs": [
    {
     "data": {
      "image/png": "[encoded data removed]",
      "text/plain": [
       "<Figure size 1728x1728 with 1 Axes>"
      ]
     },
     "metadata": {},
     "output_type": "display_data"
    }
   ],
   "source": [
    "# How many single clothing items are seasonal by item type?\n",
    "sns.set_theme(style=\"whitegrid\") # from Data Science 1500\n",
    "sns.set(rc={'figure.figsize':(24,24)})\n",
    "sns.countplot(x='Seasonal Availability', data=itemDat, hue = \"Item Category\", palette=\"GnBu\") # Change to item dataset\n",
    "\n",
    "plt.show()\n",
    "\n",
    "### CITATION: https://seaborn.pydata.org/generated/seaborn.countplot.html\n",
    "### COLOR CITATION: https://medium.com/@morganjonesartist/color-guide-to-seaborn-palettes-da849406d44f\n",
    "### WHITEGRID CITATION: Dr. Scott Siepel, Data 1500"
   ]
  },
  {
   "cell_type": "markdown",
   "metadata": {},
   "source": [
    "This graph is a bit difficult to read, and would not be presented in an analysis. However, this prelimanary exploration revealse that tops seem to be the most common seasonal item. Thus, taking a closer look at tops throughout seasonal analyses would make sense."
   ]
  },
  {
   "cell_type": "code",
   "execution_count": 100,
   "metadata": {},
   "outputs": [
    {
     "data": {
      "image/png": "[encoded data removed]",
      "text/plain": [
       "<Figure size 864x720 with 1 Axes>"
      ]
     },
     "metadata": {},
     "output_type": "display_data"
    }
   ],
   "source": [
    "# Taking a closer look: how many tops are seasonal by item type?\n",
    "sns.set_theme(style=\"whitegrid\") # from Data Science 1500\n",
    "sns.set(rc={'figure.figsize':(12,10)})\n",
    "sns.countplot(x='Seasonal Availability', data=tops, hue = \"Item Category\", palette=\"GnBu\") # Change to tops dataset\n",
    "\n",
    "plt.show()\n",
    "\n",
    "### CITATION: https://seaborn.pydata.org/generated/seaborn.countplot.html\n",
    "### COLOR CITATION: https://medium.com/@morganjonesartist/color-guide-to-seaborn-palettes-da849406d44f\n",
    "### WHITEGRID CITATION: Dr. Scott Siepel, Data 1500"
   ]
  },
  {
   "cell_type": "markdown",
   "metadata": {},
   "source": [
    "It seems that outer garments and coats are more present in winter while t-shirts are not. This makes sense seasonally. Similarly, t-shirts are the most common summer seasonal items, while outer clothes are the least common."
   ]
  },
  {
   "cell_type": "code",
   "execution_count": 101,
   "metadata": {
    "scrolled": false
   },
   "outputs": [
    {
     "data": {
      "text/plain": [
       "<AxesSubplot:xlabel='Seasonal Availability', ylabel='Buy'>"
      ]
     },
     "execution_count": 101,
     "metadata": {},
     "output_type": "execute_result"
    },
    {
     "data": {
      "image/png": "[encoded data removed]",
      "text/plain": [
       "<Figure size 864x720 with 1 Axes>"
      ]
     },
     "metadata": {},
     "output_type": "display_data"
    }
   ],
   "source": [
    "# What are the average prices across seasons for all clothes?\n",
    "sns.set(rc={'figure.figsize':(12,10)})\n",
    "sns.barplot(x='Seasonal Availability', y ='Buy', data=itemDat, capsize=.05, palette=\"Greens\")\n",
    "\n",
    "### CITATION: https://seaborn.pydata.org/generated/seaborn.barplot.html"
   ]
  },
  {
   "cell_type": "code",
   "execution_count": 102,
   "metadata": {
    "scrolled": false
   },
   "outputs": [
    {
     "data": {
      "text/plain": [
       "<AxesSubplot:xlabel='Seasonal Availability', ylabel='Sell'>"
      ]
     },
     "execution_count": 102,
     "metadata": {},
     "output_type": "execute_result"
    },
    {
     "data": {
      "image/png": "[encoded data removed]",
      "text/plain": [
       "<Figure size 864x720 with 1 Axes>"
      ]
     },
     "metadata": {},
     "output_type": "display_data"
    }
   ],
   "source": [
    "# What are the average resale prices across seasons for all clothes?\n",
    "sns.set(rc={'figure.figsize':(12,10)})\n",
    "sns.barplot(x='Seasonal Availability', y ='Sell', data=itemDat, capsize=.05, palette=\"Greens\")\n",
    "\n",
    "### CITATION: https://seaborn.pydata.org/generated/seaborn.barplot.html"
   ]
  },
  {
   "cell_type": "code",
   "execution_count": 103,
   "metadata": {},
   "outputs": [
    {
     "data": {
      "text/plain": [
       "<AxesSubplot:xlabel='Seasonal Availability', ylabel='Buy'>"
      ]
     },
     "execution_count": 103,
     "metadata": {},
     "output_type": "execute_result"
    },
    {
     "data": {
      "image/png": "[encoded data removed]",
      "text/plain": [
       "<Figure size 864x720 with 1 Axes>"
      ]
     },
     "metadata": {},
     "output_type": "display_data"
    }
   ],
   "source": [
    "# What are the average prices across seasons for tops?\n",
    "sns.set(rc={'figure.figsize':(12,10)})\n",
    "sns.barplot(x='Seasonal Availability', y ='Buy', data=tops, capsize=.05, palette=\"Oranges\")\n",
    "\n",
    "### CITATION: https://seaborn.pydata.org/generated/seaborn.barplot.html"
   ]
  },
  {
   "cell_type": "code",
   "execution_count": 104,
   "metadata": {
    "scrolled": false
   },
   "outputs": [
    {
     "data": {
      "text/plain": [
       "<AxesSubplot:xlabel='Seasonal Availability', ylabel='Sell'>"
      ]
     },
     "execution_count": 104,
     "metadata": {},
     "output_type": "execute_result"
    },
    {
     "data": {
      "image/png": "[encoded data removed]",
      "text/plain": [
       "<Figure size 864x720 with 1 Axes>"
      ]
     },
     "metadata": {},
     "output_type": "display_data"
    }
   ],
   "source": [
    "# What are the average resale prices across seasons for tops?\n",
    "sns.set(rc={'figure.figsize':(12,10)})\n",
    "sns.barplot(x='Seasonal Availability', y ='Sell', data=tops, capsize=.05, palette=\"Oranges\") # use Tops dataset\n",
    "\n",
    "### CITATION: https://seaborn.pydata.org/generated/seaborn.barplot.html"
   ]
  },
  {
   "cell_type": "code",
   "execution_count": 105,
   "metadata": {},
   "outputs": [],
   "source": [
    "# CREATE A CUSTOM COLOR PALETTE FOR THE NEXT FEW GRAPHS\n",
    "# Create an array with the colors you want to use\n",
    "ClothesColors = [\"#4073FF\", \"#2C3E50\", \"#DB4035\", \"#299438\", \"#D0D3D4\", \"#AF38EB\", \"#808080\", \"#EB96EB\", \"#FAD000\",\n",
    "                \"#96C3EB\", \"#CCAC93\", \"#FF9933\", \"#935116\", \"#117864\"]\n",
    "# Blue, Black, Red, Green, White, Purple, Gray, Pink, Yellow\n",
    "# Light Blue, Beige, Orange, Brown, Blue-Green (for colorful)\n",
    "\n",
    "# Set your custom color palette\n",
    "sns.set_palette(sns.color_palette(ClothesColors))"
   ]
  },
  {
   "cell_type": "code",
   "execution_count": 106,
   "metadata": {
    "scrolled": false
   },
   "outputs": [
    {
     "data": {
      "text/plain": [
       "<AxesSubplot:xlabel='Seasonal Availability', ylabel='count'>"
      ]
     },
     "execution_count": 106,
     "metadata": {},
     "output_type": "execute_result"
    },
    {
     "data": {
      "image/png": "[encoded data removed]",
      "text/plain": [
       "<Figure size 864x720 with 1 Axes>"
      ]
     },
     "metadata": {},
     "output_type": "display_data"
    }
   ],
   "source": [
    "# What are the dominant colors across seasons for all clothes?\n",
    "sns.set_theme(style=\"whitegrid\") # from Data Science 1500\n",
    "sns.set(rc={'figure.figsize':(12,10)})\n",
    "sns.countplot(x='Seasonal Availability', data=cDat, hue = \"Color 1\", palette=ClothesColors)\n",
    "\n",
    "### CITATION: https://seaborn.pydata.org/generated/seaborn.countplot.html\n",
    "### COLOR CITATION: https://medium.com/@morganjonesartist/color-guide-to-seaborn-palettes-da849406d44f\n",
    "### WHITEGRID CITATION: Dr. Scott Siepel, Data 1500"
   ]
  },
  {
   "cell_type": "code",
   "execution_count": 107,
   "metadata": {
    "scrolled": false
   },
   "outputs": [
    {
     "data": {
      "text/plain": [
       "<AxesSubplot:xlabel='Seasonal Availability', ylabel='count'>"
      ]
     },
     "execution_count": 107,
     "metadata": {},
     "output_type": "execute_result"
    },
    {
     "data": {
      "image/png": "[encoded data removed]",
      "text/plain": [
       "<Figure size 864x720 with 1 Axes>"
      ]
     },
     "metadata": {},
     "output_type": "display_data"
    }
   ],
   "source": [
    "# What are the dominant colors across seasons for tops?\n",
    "sns.set_theme(style=\"whitegrid\") # from Data Science 1500\n",
    "sns.set(rc={'figure.figsize':(12,10)})\n",
    "sns.countplot(x='Seasonal Availability', data=tops, hue = \"Color 1\", palette=ClothesColors) # Change to tops dataset\n",
    "\n",
    "### CITATION: https://seaborn.pydata.org/generated/seaborn.countplot.html\n",
    "### COLOR CITATION: https://medium.com/@morganjonesartist/color-guide-to-seaborn-palettes-da849406d44f\n",
    "### WHITEGRID CITATION: Dr. Scott Siepel, Data 1500"
   ]
  },
  {
   "cell_type": "markdown",
   "metadata": {},
   "source": [
    "### Our work has shed some light on clothing prices, resale value, and colors in Animal Crossing New Horizons.\n",
    "#### Based on this work, we have a few suggestions for Nintendo.\n",
    "\n",
    "Color suggestions:\n",
    "Use secondary colors other than Black and White, and make more Colorful items overall\n",
    "\n",
    "Price Suggestions:\n",
    "Change from ubiquitous 25% resale price to more varied model, and give players higher sell prices for their items if they sell old items sooner to buy new items\n",
    "\n",
    "Seasonal Considerations: Create more seasonal items that aren’t tops. Also, seasonal items would be more exclusive with higher prices/resale values. Also, make the dominant color (Green) different for overall seasonal clothes."
   ]
  }
 ],
 "metadata": {
  "kernelspec": {
   "display_name": "Python 3",
   "language": "python",
   "name": "python3"
  },
  "language_info": {
   "codemirror_mode": {
    "name": "ipython",
    "version": 3
   },
   "file_extension": ".py",
   "mimetype": "text/x-python",
   "name": "python",
   "nbconvert_exporter": "python",
   "pygments_lexer": "ipython3",
   "version": "3.8.5"
  }
 },
 "nbformat": 4,
 "nbformat_minor": 4
}
